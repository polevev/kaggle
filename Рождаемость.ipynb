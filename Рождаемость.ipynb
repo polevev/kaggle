{
  "nbformat": 4,
  "nbformat_minor": 0,
  "metadata": {
    "colab": {
      "provenance": [],
      "gpuType": "T4",
      "authorship_tag": "ABX9TyP7iTE5aPoxGNLg6D5UMQ3G",
      "include_colab_link": true
    },
    "kernelspec": {
      "name": "python3",
      "display_name": "Python 3"
    },
    "language_info": {
      "name": "python"
    },
    "accelerator": "GPU"
  },
  "cells": [
    {
      "cell_type": "markdown",
      "metadata": {
        "id": "view-in-github",
        "colab_type": "text"
      },
      "source": [
        "<a href=\"https://colab.research.google.com/github/polevev/kaggle/blob/main/%D0%A0%D0%BE%D0%B6%D0%B4%D0%B0%D0%B5%D0%BC%D0%BE%D1%81%D1%82%D1%8C.ipynb\" target=\"_parent\"><img src=\"https://colab.research.google.com/assets/colab-badge.svg\" alt=\"Open In Colab\"/></a>"
      ]
    },
    {
      "cell_type": "code",
      "execution_count": null,
      "metadata": {
        "id": "v2NsGIRxQsuA"
      },
      "outputs": [],
      "source": [
        "import pandas as pd\n",
        "\n",
        "df = pd.read_csv('/content/rf_birthrate_dataset_full.csv')\n",
        "df.sample(5)"
      ]
    },
    {
      "cell_type": "code",
      "source": [
        "df.describe()"
      ],
      "metadata": {
        "id": "zMYF1zyJRo1O"
      },
      "execution_count": null,
      "outputs": []
    },
    {
      "cell_type": "code",
      "source": [
        "from sklearn.preprocessing import LabelEncoder\n",
        "\n",
        "scaler = LabelEncoder()\n",
        "\n",
        "df['Регион'] = scaler.fit_transform(df['Регион'])\n",
        "df['Год'] = scaler.fit_transform(df['Год'])"
      ],
      "metadata": {
        "id": "nkKxTOHCST05"
      },
      "execution_count": null,
      "outputs": []
    },
    {
      "cell_type": "code",
      "source": [
        "df"
      ],
      "metadata": {
        "id": "7HqZavtoTbiT"
      },
      "execution_count": null,
      "outputs": []
    },
    {
      "cell_type": "code",
      "source": [
        "df_1 = pd.DataFrame(df[df['Регион']==88],columns=df.columns)"
      ],
      "metadata": {
        "id": "2a0FAKFoT8wR"
      },
      "execution_count": null,
      "outputs": []
    },
    {
      "cell_type": "code",
      "source": [
        "import matplotlib.pyplot as plt\n",
        "\n",
        "fig,axes = plt.subplots(3, 5)\n",
        "fig.set_size_inches(20, 8)\n",
        "i = 0\n",
        "j = 0\n",
        "for column in df.columns:\n",
        "  axes[i,j].bar(df_1['Год'], df_1[column])\n",
        "  axes[i,j].set_ylabel(column)\n",
        "  j+=1\n",
        "  if j%5==0:\n",
        "    i+=1\n",
        "    j=0\n",
        "plt.show()"
      ],
      "metadata": {
        "id": "Qlj3hIf0UIgf"
      },
      "execution_count": null,
      "outputs": []
    },
    {
      "cell_type": "code",
      "source": [
        "df['Браки/разводы'] = df['Браки']/df['Разводы']"
      ],
      "metadata": {
        "id": "njaQfZDjbOSP"
      },
      "execution_count": null,
      "outputs": []
    },
    {
      "cell_type": "code",
      "source": [
        "df.drop(columns=['Браки','Разводы'], inplace=True)"
      ],
      "metadata": {
        "id": "dxQ8uUDCbYcr"
      },
      "execution_count": null,
      "outputs": []
    },
    {
      "cell_type": "code",
      "source": [
        "df"
      ],
      "metadata": {
        "id": "cGlZI5SFboho"
      },
      "execution_count": null,
      "outputs": []
    },
    {
      "cell_type": "code",
      "source": [
        "df = df.sort_values('Год').dropna()\n",
        "df['lag_1'] = df['Успешность_онлайн_знакомств'].shift(1)\n",
        "df = df.dropna()"
      ],
      "metadata": {
        "id": "8kJ8YKydvuaL"
      },
      "execution_count": null,
      "outputs": []
    },
    {
      "cell_type": "code",
      "source": [
        "df"
      ],
      "metadata": {
        "id": "TR1mWptuy6Bg"
      },
      "execution_count": null,
      "outputs": []
    },
    {
      "cell_type": "code",
      "source": [
        "df['rolling_mean'] = df['Успешность_онлайн_знакомств'].rolling(window=3).mean()\n",
        "df['year_sin'] = np.sin(2 * np.pi * df['Год'] / 10)"
      ],
      "metadata": {
        "id": "BqLaKpCPvykn"
      },
      "execution_count": null,
      "outputs": []
    },
    {
      "cell_type": "code",
      "source": [
        "df"
      ],
      "metadata": {
        "id": "Yc5EmW_h3mmG"
      },
      "execution_count": null,
      "outputs": []
    },
    {
      "cell_type": "code",
      "source": [
        "df = df.dropna()"
      ],
      "metadata": {
        "id": "n4i_Ul0Zv3ax"
      },
      "execution_count": null,
      "outputs": []
    },
    {
      "cell_type": "code",
      "source": [
        "import seaborn as sns\n",
        "sns.heatmap(df.corr(numeric_only=True))"
      ],
      "metadata": {
        "id": "7-cSNQMxS3sr"
      },
      "execution_count": null,
      "outputs": []
    },
    {
      "cell_type": "code",
      "source": [
        "df_origin = df.copy()"
      ],
      "metadata": {
        "id": "z0veq8u6b36E"
      },
      "execution_count": null,
      "outputs": []
    },
    {
      "cell_type": "code",
      "source": [
        "from sklearn.preprocessing import StandardScaler\n",
        "\n",
        "Scaler =  StandardScaler()\n",
        "\n",
        "df_origin['lag_1'] = Scaler.fit_transform(df_origin[['lag_1']])"
      ],
      "metadata": {
        "id": "zB96P50ETlxP"
      },
      "execution_count": null,
      "outputs": []
    },
    {
      "cell_type": "code",
      "source": [
        "df_origin = pd.DataFrame(df_origin, columns = df.columns)"
      ],
      "metadata": {
        "id": "hzFym_Azb9ow"
      },
      "execution_count": null,
      "outputs": []
    },
    {
      "cell_type": "code",
      "source": [
        "df_origin"
      ],
      "metadata": {
        "id": "rNdwxWJgcOkI"
      },
      "execution_count": null,
      "outputs": []
    },
    {
      "cell_type": "code",
      "source": [
        "X = df.drop(columns=['Успешность_онлайн_знакомств'])\n",
        "y = df['Успешность_онлайн_знакомств']"
      ],
      "metadata": {
        "id": "TmTe6Q2XxZ3Y"
      },
      "execution_count": null,
      "outputs": []
    },
    {
      "cell_type": "code",
      "source": [
        "from sklearn.model_selection import train_test_split\n",
        "\n",
        "X_train, X_test, y_train, y_test = train_test_split(X.values, y.values, test_size=0.2,stratify=y, random_state=42)"
      ],
      "metadata": {
        "id": "A9R-gMS1czH0"
      },
      "execution_count": null,
      "outputs": []
    },
    {
      "cell_type": "code",
      "source": [
        "from sklearn.tree import DecisionTreeRegressor\n",
        "from sklearn.ensemble import RandomForestRegressor\n",
        "from sklearn.linear_model import LinearRegression\n",
        "from sklearn.svm import SVR\n",
        "from sklearn.neighbors import KNeighborsRegressor\n",
        "import xgboost as xgb\n",
        "\n",
        "models = {\n",
        "    'DecisionTree': DecisionTreeRegressor(random_state=42),\n",
        "    'RandomForest': RandomForestRegressor(random_state=42),\n",
        "    'LinearRegression': LinearRegression(),\n",
        "    'SVR': SVR(),\n",
        "    'KNeighbors': KNeighborsRegressor(),\n",
        "    'xgb': xgb.XGBRegressor(random_state=42)\n",
        "}"
      ],
      "metadata": {
        "id": "abRqKNZddFKU"
      },
      "execution_count": null,
      "outputs": []
    },
    {
      "cell_type": "code",
      "source": [
        "from sklearn.model_selection import cross_validate, TimeSeriesSplit\n",
        "import numpy as np\n",
        "\n",
        "results = {}\n",
        "for name, model in models.items():\n",
        "    # Используем TimeSeriesSplit и правильные ключи метрик\n",
        "    tscv = TimeSeriesSplit(n_splits=5)\n",
        "    scores = cross_validate(\n",
        "        model,\n",
        "        X_train,\n",
        "        y_train,\n",
        "        cv=tscv,\n",
        "        scoring=['neg_mean_squared_error', 'r2']\n",
        "    )\n",
        "    results[name] = {\n",
        "        'MSE': -np.mean(scores['test_neg_mean_squared_error']),\n",
        "        'R²': np.mean(scores['test_r2'])\n",
        "    }\n",
        "\n",
        "results_df = pd.DataFrame.from_dict(results, orient='index')\n",
        "results_df"
      ],
      "metadata": {
        "id": "GU15kjuUd5Dz"
      },
      "execution_count": null,
      "outputs": []
    },
    {
      "cell_type": "code",
      "source": [
        "from sklearn.ensemble import RandomForestRegressor\n",
        "from sklearn.model_selection import GridSearchCV\n",
        "\n",
        "# Определяем модель\n",
        "rf_model = RandomForestRegressor(random_state=42)\n",
        "\n",
        "# Определяем параметры для поиска\n",
        "param_grid = {\n",
        "    'n_estimators': [100, 200, 300, 500],  # Количество деревьев\n",
        "    'max_depth': [10, 20, 30],  # Максимальная глубина деревьев\n",
        "    'min_samples_split': [2, 5, 10],  # Минимальное количество сэмплов для разбиения узла\n",
        "    'min_samples_leaf': [2, 4, 6],  # Минимальное количество сэмплов в листе\n",
        "    'max_features': ['auto', 'sqrt', 'log2'],  # Количество признаков для поиска лучшего разбиения\n",
        "}\n",
        "\n",
        "# Инициализация GridSearchCV\n",
        "grid_search = GridSearchCV(estimator=rf_model, param_grid=param_grid, cv=5, n_jobs=-1, scoring='neg_mean_squared_error', verbose=True)\n",
        "\n",
        "# Обучение на данных\n",
        "grid_search.fit(X_train, y_train)\n",
        "\n",
        "# Вывод лучших параметров\n",
        "print(\"Best parameters found: \", grid_search.best_params_)\n",
        "\n",
        "# Оценка модели с лучшими гиперпараметрами\n",
        "best_model = grid_search.best_estimator_\n",
        "best_score = grid_search.best_score_\n",
        "\n",
        "print(f\"Best score (MSE): {best_score:.4f}\")"
      ],
      "metadata": {
        "id": "0EwZGAlYXF66"
      },
      "execution_count": null,
      "outputs": []
    },
    {
      "cell_type": "code",
      "source": [
        "scoring = ['neg_mean_squared_error', 'r2']\n",
        "tscv = TimeSeriesSplit(n_splits=5)\n",
        "scores = cross_validate(best_model, X_train, y_train, cv=tscv, scoring=scoring)\n",
        "scores"
      ],
      "metadata": {
        "id": "2ZlcVgBCeEyy"
      },
      "execution_count": null,
      "outputs": []
    },
    {
      "cell_type": "code",
      "source": [
        "y_pred = best_model.predict(X_test)"
      ],
      "metadata": {
        "id": "3O_xRoFtec5_"
      },
      "execution_count": null,
      "outputs": []
    },
    {
      "cell_type": "code",
      "source": [
        "from sklearn.metrics import mean_absolute_error, mean_squared_error, r2_score"
      ],
      "metadata": {
        "id": "EJhoiIBsesjD"
      },
      "execution_count": null,
      "outputs": []
    },
    {
      "cell_type": "code",
      "source": [
        "print(f'MAE:{mean_absolute_error(y_test, y_pred)}')\n",
        "print(f'MSE:{mean_squared_error(y_test, y_pred)}')\n",
        "print(f'R^2:{r2_score(y_test, y_pred)}')"
      ],
      "metadata": {
        "id": "ZwxrzMdvenU3"
      },
      "execution_count": null,
      "outputs": []
    },
    {
      "cell_type": "code",
      "source": [
        "import torch"
      ],
      "metadata": {
        "id": "6KVPXWTefqsa"
      },
      "execution_count": null,
      "outputs": []
    },
    {
      "cell_type": "code",
      "source": [
        "import torch.nn as nn\n",
        "\n",
        "class Net(nn.Module):\n",
        "    def __init__(self, num_classes):\n",
        "        super(Net, self).__init__()\n",
        "        self.fc = nn.Sequential(\n",
        "            nn.Linear(num_classes, 64),\n",
        "            nn.ReLU(),\n",
        "            nn.BatchNorm1d(64),\n",
        "            nn.Dropout(0.2),\n",
        "            nn.Linear(64, 32),\n",
        "            nn.ReLU(),\n",
        "            nn.BatchNorm1d(32),\n",
        "            nn.Linear(32,1)\n",
        "        )\n",
        "\n",
        "\n",
        "    def forward(self, x):\n",
        "      return (self.fc(x))"
      ],
      "metadata": {
        "id": "IGwJYUF1YcW8"
      },
      "execution_count": null,
      "outputs": []
    },
    {
      "cell_type": "code",
      "source": [
        "X_train_tensor = torch.from_numpy(X_train).float()\n",
        "y_train_tensor = torch.from_numpy(y_train).float()"
      ],
      "metadata": {
        "id": "_ipxtfPbfcvo"
      },
      "execution_count": null,
      "outputs": []
    },
    {
      "cell_type": "code",
      "source": [
        "train_loader = torch.utils.data.DataLoader(list(zip(X_train_tensor, y_train_tensor)), batch_size=64, shuffle=True)"
      ],
      "metadata": {
        "id": "tMXhvBYofaEq"
      },
      "execution_count": null,
      "outputs": []
    },
    {
      "cell_type": "code",
      "source": [
        "X_train.shape"
      ],
      "metadata": {
        "id": "Msb0WeP090mY"
      },
      "execution_count": null,
      "outputs": []
    },
    {
      "cell_type": "code",
      "source": [
        "model = Net(num_classes=16)\n",
        "\n",
        "criterion = torch.nn.MSELoss()\n",
        "optimizer = torch.optim.Adam(model.parameters(), lr=1e-4)"
      ],
      "metadata": {
        "id": "DYzEA90HfgPz"
      },
      "execution_count": null,
      "outputs": []
    },
    {
      "cell_type": "code",
      "source": [
        "import matplotlib.pyplot as plt"
      ],
      "metadata": {
        "id": "nQpbK3DzggbA"
      },
      "execution_count": null,
      "outputs": []
    },
    {
      "cell_type": "code",
      "source": [
        "import tqdm\n",
        "from tqdm.auto import tqdm\n",
        "\n",
        "def train_stochastic(model, loader, criterion, optimizer, num_epoch):\n",
        "    # цикл по количеству эпох обучения\n",
        "    total_epoch_loss = []\n",
        "    for t in tqdm(range(num_epoch)):\n",
        "        epoch_loss = []\n",
        "\n",
        "        # цикл по батчам даталоадера\n",
        "        for X_batch, y_batch in loader:\n",
        "            # Вычислим предсказания нашей модели\n",
        "            y_batch = y_batch.unsqueeze(1)\n",
        "            y_pred = model(X_batch)\n",
        "\n",
        "            # Посчитаем значение функции потерь  на полученном предсказании\n",
        "            loss = criterion(y_pred, y_batch)\n",
        "            epoch_loss.append(loss.item())\n",
        "\n",
        "            # Выполним подсчёт новых градиентов\n",
        "            loss.backward()\n",
        "            # Выполним шаг градиентного спуска\n",
        "            optimizer.step()\n",
        "            # Обнулим сохраненные у оптимизатора значения градиентов\n",
        "            # перед следующим шагом обучения\n",
        "            optimizer.zero_grad()\n",
        "\n",
        "        print(f\"{t} epoch: curr_loss = {np.mean(epoch_loss)}\")\n",
        "        total_epoch_loss.append(epoch_loss)\n",
        "\n",
        "    plt.figure(figsize=(10,8))\n",
        "    plt.plot(range(1, num_epoch+1), total_epoch_loss, 'b-', linewidth=2)\n",
        "    plt.title('Training Loss Over Epochs', fontsize=14)\n",
        "    plt.xlabel('Epoch', fontsize=12)\n",
        "    plt.ylabel('Loss', fontsize=12)\n",
        "    plt.grid(True)\n",
        "    plt.show()\n",
        "\n",
        "    return model"
      ],
      "metadata": {
        "id": "pAfLbnGufxqu"
      },
      "execution_count": null,
      "outputs": []
    },
    {
      "cell_type": "code",
      "source": [
        "model = train_stochastic(model, train_loader, criterion, optimizer, 500)"
      ],
      "metadata": {
        "id": "ML6m8iSCgCbm"
      },
      "execution_count": null,
      "outputs": []
    },
    {
      "cell_type": "code",
      "source": [
        "X_test_tensor = torch.from_numpy(X_test).float()\n",
        "y_test_tensor = torch.from_numpy(y_test).float()"
      ],
      "metadata": {
        "id": "0Cl1K7rakngF"
      },
      "execution_count": null,
      "outputs": []
    },
    {
      "cell_type": "code",
      "source": [
        "with torch.no_grad():\n",
        "    nn_prediction = model(torch.FloatTensor(X_test_tensor))\n",
        "    nn_prediction = nn_prediction.tolist()"
      ],
      "metadata": {
        "id": "axFuSdRFkrGC"
      },
      "execution_count": null,
      "outputs": []
    },
    {
      "cell_type": "code",
      "source": [
        "print(f'MAE:{mean_absolute_error(y_test, nn_prediction)}')\n",
        "print(f'MSE:{mean_squared_error(y_test, nn_prediction)}')\n",
        "print(f'R^2:{r2_score(y_test, nn_prediction)}')"
      ],
      "metadata": {
        "id": "hr9LY7ZUkvYq"
      },
      "execution_count": null,
      "outputs": []
    }
  ]
}