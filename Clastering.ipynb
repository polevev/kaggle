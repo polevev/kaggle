{
  "metadata": {
    "kernelspec": {
      "name": "python3",
      "display_name": "Python 3",
      "language": "python"
    },
    "language_info": {
      "name": "python",
      "version": "3.11.11",
      "mimetype": "text/x-python",
      "codemirror_mode": {
        "name": "ipython",
        "version": 3
      },
      "pygments_lexer": "ipython3",
      "nbconvert_exporter": "python",
      "file_extension": ".py"
    },
    "colab": {
      "provenance": [],
      "gpuType": "T4",
      "name": "notebookd03597d892",
      "include_colab_link": true
    },
    "accelerator": "GPU",
    "kaggle": {
      "accelerator": "nvidiaTeslaT4",
      "dataSources": [
        {
          "sourceId": 11252963,
          "sourceType": "datasetVersion",
          "datasetId": 7032125
        }
      ],
      "dockerImageVersionId": 31011,
      "isInternetEnabled": true,
      "language": "python",
      "sourceType": "notebook",
      "isGpuEnabled": true
    }
  },
  "nbformat_minor": 0,
  "nbformat": 4,
  "cells": [
    {
      "cell_type": "markdown",
      "metadata": {
        "id": "view-in-github",
        "colab_type": "text"
      },
      "source": [
        "<a href=\"https://colab.research.google.com/github/polevev/kaggle/blob/main/Clastering.ipynb\" target=\"_parent\"><img src=\"https://colab.research.google.com/assets/colab-badge.svg\" alt=\"Open In Colab\"/></a>"
      ]
    },
    {
      "source": [
        "# IMPORTANT: SOME KAGGLE DATA SOURCES ARE PRIVATE\n",
        "# RUN THIS CELL IN ORDER TO IMPORT YOUR KAGGLE DATA SOURCES.\n",
        "import kagglehub\n",
        "kagglehub.login()\n"
      ],
      "metadata": {
        "id": "w74QzQ7Lvkw7"
      },
      "cell_type": "code",
      "outputs": [],
      "execution_count": null
    },
    {
      "source": [
        "# IMPORTANT: RUN THIS CELL IN ORDER TO IMPORT YOUR KAGGLE DATA SOURCES,\n",
        "# THEN FEEL FREE TO DELETE THIS CELL.\n",
        "# NOTE: THIS NOTEBOOK ENVIRONMENT DIFFERS FROM KAGGLE'S PYTHON\n",
        "# ENVIRONMENT SO THERE MAY BE MISSING LIBRARIES USED BY YOUR\n",
        "# NOTEBOOK.\n",
        "\n",
        "levmarkovich_physical_path = kagglehub.dataset_download('levmarkovich/physical')\n",
        "\n",
        "print('Data source import complete.')\n"
      ],
      "metadata": {
        "id": "iTFm5JVNvkw_"
      },
      "cell_type": "code",
      "outputs": [],
      "execution_count": null
    },
    {
      "cell_type": "code",
      "source": [
        "import pandas as pd\n",
        "\n",
        "df = pd.read_csv('/kaggle/input/physical/Physical_Activity_Monitoring_unlabeled.csv')\n",
        "df.head()"
      ],
      "metadata": {
        "id": "XOOa5HRBgRuZ",
        "colab": {
          "base_uri": "https://localhost:8080/",
          "height": 256
        },
        "outputId": "499bfbe4-1b4e-481d-febf-2f917b104a89",
        "trusted": true,
        "execution": {
          "iopub.status.busy": "2025-04-14T09:15:12.819465Z",
          "iopub.execute_input": "2025-04-14T09:15:12.820146Z",
          "iopub.status.idle": "2025-04-14T09:15:16.778075Z",
          "shell.execute_reply.started": "2025-04-14T09:15:12.820122Z",
          "shell.execute_reply": "2025-04-14T09:15:16.777216Z"
        }
      },
      "outputs": [
        {
          "execution_count": 3,
          "output_type": "execute_result",
          "data": {
            "text/plain": "   timestamp  handTemperature  handAcc16_1  handAcc16_2  handAcc16_3  \\\n0     252.75          34.8750     0.902847      7.45872     6.032490   \n1    3652.45          29.7500    -4.069330      3.76168     8.279720   \n2     504.76          34.3750    -2.007540     -9.60180     0.773674   \n3    2801.61          31.9375   -13.262200      5.85443     0.899334   \n4     441.01          33.5000    -0.013940      8.66540     4.398210   \n\n   handAcc6_1  handAcc6_2  handAcc6_3  handGyro1  handGyro2  ...  ankleGyro2  \\\n0    1.006100     7.44575    6.303650  -0.021952   0.004114  ...   -0.025606   \n1   -5.972500     3.22273    6.908970   0.116054  -0.375968  ...   -0.670163   \n2   -1.803500    -9.58937    1.073680   0.020131   0.042189  ...   -0.009741   \n3  -13.611500     5.91511    0.840377   1.715630  -0.050492  ...   -0.163470   \n4    0.144153     8.56816    4.822200  -0.006938  -0.007383  ...   -0.028172   \n\n   ankleGyro3  ankleMagne1  ankleMagne2  ankleMagne3  ankleOrientation1  \\\n0    0.030239     -14.5447      27.3336     -5.76620           0.206416   \n1    1.786200     -32.8257     -15.7719     -1.31395           0.578332   \n2   -0.006579     -18.8171      16.3089     25.29280           0.139776   \n3   -3.495570     -26.7418      34.3566     21.32740           0.416303   \n4   -0.003737     -17.7798      -3.9981     10.99500           0.171133   \n\n   ankleOrientation2  ankleOrientation3  ankleOrientation4  subject_id  \n0           0.348212           0.763201          -0.503652           5  \n1          -0.566734           0.405888          -0.423791           2  \n2           0.676586           0.393796           0.606316           8  \n3           0.783387           0.306464           0.345075           2  \n4          -0.748343           0.252988          -0.588807           6  \n\n[5 rows x 53 columns]",
            "text/html": "<div>\n<style scoped>\n    .dataframe tbody tr th:only-of-type {\n        vertical-align: middle;\n    }\n\n    .dataframe tbody tr th {\n        vertical-align: top;\n    }\n\n    .dataframe thead th {\n        text-align: right;\n    }\n</style>\n<table border=\"1\" class=\"dataframe\">\n  <thead>\n    <tr style=\"text-align: right;\">\n      <th></th>\n      <th>timestamp</th>\n      <th>handTemperature</th>\n      <th>handAcc16_1</th>\n      <th>handAcc16_2</th>\n      <th>handAcc16_3</th>\n      <th>handAcc6_1</th>\n      <th>handAcc6_2</th>\n      <th>handAcc6_3</th>\n      <th>handGyro1</th>\n      <th>handGyro2</th>\n      <th>...</th>\n      <th>ankleGyro2</th>\n      <th>ankleGyro3</th>\n      <th>ankleMagne1</th>\n      <th>ankleMagne2</th>\n      <th>ankleMagne3</th>\n      <th>ankleOrientation1</th>\n      <th>ankleOrientation2</th>\n      <th>ankleOrientation3</th>\n      <th>ankleOrientation4</th>\n      <th>subject_id</th>\n    </tr>\n  </thead>\n  <tbody>\n    <tr>\n      <th>0</th>\n      <td>252.75</td>\n      <td>34.8750</td>\n      <td>0.902847</td>\n      <td>7.45872</td>\n      <td>6.032490</td>\n      <td>1.006100</td>\n      <td>7.44575</td>\n      <td>6.303650</td>\n      <td>-0.021952</td>\n      <td>0.004114</td>\n      <td>...</td>\n      <td>-0.025606</td>\n      <td>0.030239</td>\n      <td>-14.5447</td>\n      <td>27.3336</td>\n      <td>-5.76620</td>\n      <td>0.206416</td>\n      <td>0.348212</td>\n      <td>0.763201</td>\n      <td>-0.503652</td>\n      <td>5</td>\n    </tr>\n    <tr>\n      <th>1</th>\n      <td>3652.45</td>\n      <td>29.7500</td>\n      <td>-4.069330</td>\n      <td>3.76168</td>\n      <td>8.279720</td>\n      <td>-5.972500</td>\n      <td>3.22273</td>\n      <td>6.908970</td>\n      <td>0.116054</td>\n      <td>-0.375968</td>\n      <td>...</td>\n      <td>-0.670163</td>\n      <td>1.786200</td>\n      <td>-32.8257</td>\n      <td>-15.7719</td>\n      <td>-1.31395</td>\n      <td>0.578332</td>\n      <td>-0.566734</td>\n      <td>0.405888</td>\n      <td>-0.423791</td>\n      <td>2</td>\n    </tr>\n    <tr>\n      <th>2</th>\n      <td>504.76</td>\n      <td>34.3750</td>\n      <td>-2.007540</td>\n      <td>-9.60180</td>\n      <td>0.773674</td>\n      <td>-1.803500</td>\n      <td>-9.58937</td>\n      <td>1.073680</td>\n      <td>0.020131</td>\n      <td>0.042189</td>\n      <td>...</td>\n      <td>-0.009741</td>\n      <td>-0.006579</td>\n      <td>-18.8171</td>\n      <td>16.3089</td>\n      <td>25.29280</td>\n      <td>0.139776</td>\n      <td>0.676586</td>\n      <td>0.393796</td>\n      <td>0.606316</td>\n      <td>8</td>\n    </tr>\n    <tr>\n      <th>3</th>\n      <td>2801.61</td>\n      <td>31.9375</td>\n      <td>-13.262200</td>\n      <td>5.85443</td>\n      <td>0.899334</td>\n      <td>-13.611500</td>\n      <td>5.91511</td>\n      <td>0.840377</td>\n      <td>1.715630</td>\n      <td>-0.050492</td>\n      <td>...</td>\n      <td>-0.163470</td>\n      <td>-3.495570</td>\n      <td>-26.7418</td>\n      <td>34.3566</td>\n      <td>21.32740</td>\n      <td>0.416303</td>\n      <td>0.783387</td>\n      <td>0.306464</td>\n      <td>0.345075</td>\n      <td>2</td>\n    </tr>\n    <tr>\n      <th>4</th>\n      <td>441.01</td>\n      <td>33.5000</td>\n      <td>-0.013940</td>\n      <td>8.66540</td>\n      <td>4.398210</td>\n      <td>0.144153</td>\n      <td>8.56816</td>\n      <td>4.822200</td>\n      <td>-0.006938</td>\n      <td>-0.007383</td>\n      <td>...</td>\n      <td>-0.028172</td>\n      <td>-0.003737</td>\n      <td>-17.7798</td>\n      <td>-3.9981</td>\n      <td>10.99500</td>\n      <td>0.171133</td>\n      <td>-0.748343</td>\n      <td>0.252988</td>\n      <td>-0.588807</td>\n      <td>6</td>\n    </tr>\n  </tbody>\n</table>\n<p>5 rows × 53 columns</p>\n</div>"
          },
          "metadata": {}
        }
      ],
      "execution_count": null
    },
    {
      "cell_type": "markdown",
      "source": [
        "Устраним NAN"
      ],
      "metadata": {
        "id": "9_NOcXm2kBrN"
      }
    },
    {
      "cell_type": "code",
      "source": [
        "df.isna().sum()"
      ],
      "metadata": {
        "colab": {
          "base_uri": "https://localhost:8080/",
          "height": 1000
        },
        "id": "vh7l6tAokEAD",
        "outputId": "5f480ed4-7dc4-4f5f-c65b-c113aa6197a4",
        "trusted": true,
        "execution": {
          "iopub.status.busy": "2025-04-14T07:57:24.485909Z",
          "iopub.execute_input": "2025-04-14T07:57:24.486208Z",
          "iopub.status.idle": "2025-04-14T07:57:24.576949Z",
          "shell.execute_reply.started": "2025-04-14T07:57:24.486185Z",
          "shell.execute_reply": "2025-04-14T07:57:24.576116Z"
        }
      },
      "outputs": [
        {
          "execution_count": 34,
          "output_type": "execute_result",
          "data": {
            "text/plain": "timestamp               0\nhandTemperature      4041\nhandAcc16_1          4041\nhandAcc16_2          4041\nhandAcc16_3          4041\nhandAcc6_1           4041\nhandAcc6_2           4041\nhandAcc6_3           4041\nhandGyro1            4041\nhandGyro2            4041\nhandGyro3            4041\nhandMagne1           4041\nhandMagne2           4041\nhandMagne3           4041\nhandOrientation1     4041\nhandOrientation2     4041\nhandOrientation3     4041\nhandOrientation4     4041\nchestTemperature      809\nchestAcc16_1          809\nchestAcc16_2          809\nchestAcc16_3          809\nchestAcc6_1           809\nchestAcc6_2           809\nchestAcc6_3           809\nchestGyro1            809\nchestGyro2            809\nchestGyro3            809\nchestMagne1           809\nchestMagne2           809\nchestMagne3           809\nchestOrientation1     809\nchestOrientation2     809\nchestOrientation3     809\nchestOrientation4     809\nankleTemperature     2546\nankleAcc16_1         2546\nankleAcc16_2         2546\nankleAcc16_3         2546\nankleAcc6_1          2546\nankleAcc6_2          2546\nankleAcc6_3          2546\nankleGyro1           2546\nankleGyro2           2546\nankleGyro3           2546\nankleMagne1          2546\nankleMagne2          2546\nankleMagne3          2546\nankleOrientation1    2546\nankleOrientation2    2546\nankleOrientation3    2546\nankleOrientation4    2546\nsubject_id              0\ndtype: int64"
          },
          "metadata": {}
        }
      ],
      "execution_count": null
    },
    {
      "cell_type": "code",
      "source": [
        "df.describe()"
      ],
      "metadata": {
        "colab": {
          "base_uri": "https://localhost:8080/",
          "height": 350
        },
        "id": "YRJR23Zml1PR",
        "outputId": "578ca697-707b-402c-aefd-4d9735a420d5"
      },
      "outputs": [
        {
          "output_type": "execute_result",
          "data": {
            "text/plain": [
              "           timestamp  handTemperature    handAcc16_1    handAcc16_2  \\\n",
              "count  534601.000000    530560.000000  530560.000000  530560.000000   \n",
              "mean     1593.538159        32.451221      -4.435286       3.241949   \n",
              "std      1243.906483         1.754847       7.062004       7.224031   \n",
              "min        37.660000        27.500000    -114.755000     -82.550900   \n",
              "25%       475.500000        31.312500      -9.076360       0.682775   \n",
              "50%       827.610000        32.875000      -5.465610       3.089205   \n",
              "75%      2876.990000        33.812500       0.383679       5.559742   \n",
              "max      4007.730000        35.250000      60.912600     155.532000   \n",
              "\n",
              "         handAcc16_3     handAcc6_1     handAcc6_2     handAcc6_3  \\\n",
              "count  530560.000000  530560.000000  530560.000000  530560.000000   \n",
              "mean        4.079375      -4.375896       3.218250       4.262513   \n",
              "std         3.831257       7.068961       6.864782       3.822053   \n",
              "min       -73.949700     -61.214700     -61.824200     -61.577100   \n",
              "25%         1.588777      -8.981072       0.687587       1.780160   \n",
              "50%         4.157125      -5.434845       3.127145       4.413625   \n",
              "75%         6.864212       0.424770       5.592180       7.148178   \n",
              "max        78.480100      34.159400      62.259800      60.843700   \n",
              "\n",
              "           handGyro1      handGyro2  ...     ankleGyro2     ankleGyro3  \\\n",
              "count  530560.000000  530560.000000  ...  532055.000000  532055.000000   \n",
              "mean       -0.008852       0.028801  ...      -0.031911       0.002304   \n",
              "std         1.160112       0.926832  ...       0.618840       2.036102   \n",
              "min       -19.690500      -7.609010  ...      -7.701040     -14.019600   \n",
              "25%        -0.153182      -0.083315  ...      -0.049003      -0.221911   \n",
              "50%        -0.004439       0.004013  ...      -0.004481       0.000354   \n",
              "75%         0.130310       0.094342  ...       0.048972       0.032649   \n",
              "max        22.960000      11.862600  ...       6.002540      14.482700   \n",
              "\n",
              "         ankleMagne1    ankleMagne2    ankleMagne3  ankleOrientation1  \\\n",
              "count  532055.000000  532055.000000  532055.000000      532055.000000   \n",
              "mean      -28.756284       2.115624      14.723345           0.360159   \n",
              "std        19.303887      22.253170      17.907491           0.301254   \n",
              "min      -172.865000    -136.951000    -102.716000           0.000003   \n",
              "25%       -39.689950     -10.960850       2.252230           0.145023   \n",
              "50%       -26.285600      -0.014372      16.599500           0.240996   \n",
              "75%       -14.549500      19.245900      25.947100           0.501671   \n",
              "max        41.764800      92.867000     122.521000           1.000000   \n",
              "\n",
              "       ankleOrientation2  ankleOrientation3  ankleOrientation4     subject_id  \n",
              "count      532055.000000      532055.000000      532055.000000  534601.000000  \n",
              "mean           -0.091093           0.303517          -0.173845       4.558615  \n",
              "std             0.559400           0.344271           0.466304       2.318076  \n",
              "min            -0.954848          -0.876838          -0.997040       1.000000  \n",
              "25%            -0.676392           0.006839          -0.580040       2.000000  \n",
              "50%             0.000000           0.322698          -0.281681       5.000000  \n",
              "75%             0.410052           0.594198           0.252247       7.000000  \n",
              "max             0.959538           0.920506           0.996105       8.000000  \n",
              "\n",
              "[8 rows x 53 columns]"
            ],
            "text/html": [
              "\n",
              "  <div id=\"df-c35a09bd-4884-4c11-b671-3b26ceb223dc\" class=\"colab-df-container\">\n",
              "    <div>\n",
              "<style scoped>\n",
              "    .dataframe tbody tr th:only-of-type {\n",
              "        vertical-align: middle;\n",
              "    }\n",
              "\n",
              "    .dataframe tbody tr th {\n",
              "        vertical-align: top;\n",
              "    }\n",
              "\n",
              "    .dataframe thead th {\n",
              "        text-align: right;\n",
              "    }\n",
              "</style>\n",
              "<table border=\"1\" class=\"dataframe\">\n",
              "  <thead>\n",
              "    <tr style=\"text-align: right;\">\n",
              "      <th></th>\n",
              "      <th>timestamp</th>\n",
              "      <th>handTemperature</th>\n",
              "      <th>handAcc16_1</th>\n",
              "      <th>handAcc16_2</th>\n",
              "      <th>handAcc16_3</th>\n",
              "      <th>handAcc6_1</th>\n",
              "      <th>handAcc6_2</th>\n",
              "      <th>handAcc6_3</th>\n",
              "      <th>handGyro1</th>\n",
              "      <th>handGyro2</th>\n",
              "      <th>...</th>\n",
              "      <th>ankleGyro2</th>\n",
              "      <th>ankleGyro3</th>\n",
              "      <th>ankleMagne1</th>\n",
              "      <th>ankleMagne2</th>\n",
              "      <th>ankleMagne3</th>\n",
              "      <th>ankleOrientation1</th>\n",
              "      <th>ankleOrientation2</th>\n",
              "      <th>ankleOrientation3</th>\n",
              "      <th>ankleOrientation4</th>\n",
              "      <th>subject_id</th>\n",
              "    </tr>\n",
              "  </thead>\n",
              "  <tbody>\n",
              "    <tr>\n",
              "      <th>count</th>\n",
              "      <td>534601.000000</td>\n",
              "      <td>530560.000000</td>\n",
              "      <td>530560.000000</td>\n",
              "      <td>530560.000000</td>\n",
              "      <td>530560.000000</td>\n",
              "      <td>530560.000000</td>\n",
              "      <td>530560.000000</td>\n",
              "      <td>530560.000000</td>\n",
              "      <td>530560.000000</td>\n",
              "      <td>530560.000000</td>\n",
              "      <td>...</td>\n",
              "      <td>532055.000000</td>\n",
              "      <td>532055.000000</td>\n",
              "      <td>532055.000000</td>\n",
              "      <td>532055.000000</td>\n",
              "      <td>532055.000000</td>\n",
              "      <td>532055.000000</td>\n",
              "      <td>532055.000000</td>\n",
              "      <td>532055.000000</td>\n",
              "      <td>532055.000000</td>\n",
              "      <td>534601.000000</td>\n",
              "    </tr>\n",
              "    <tr>\n",
              "      <th>mean</th>\n",
              "      <td>1593.538159</td>\n",
              "      <td>32.451221</td>\n",
              "      <td>-4.435286</td>\n",
              "      <td>3.241949</td>\n",
              "      <td>4.079375</td>\n",
              "      <td>-4.375896</td>\n",
              "      <td>3.218250</td>\n",
              "      <td>4.262513</td>\n",
              "      <td>-0.008852</td>\n",
              "      <td>0.028801</td>\n",
              "      <td>...</td>\n",
              "      <td>-0.031911</td>\n",
              "      <td>0.002304</td>\n",
              "      <td>-28.756284</td>\n",
              "      <td>2.115624</td>\n",
              "      <td>14.723345</td>\n",
              "      <td>0.360159</td>\n",
              "      <td>-0.091093</td>\n",
              "      <td>0.303517</td>\n",
              "      <td>-0.173845</td>\n",
              "      <td>4.558615</td>\n",
              "    </tr>\n",
              "    <tr>\n",
              "      <th>std</th>\n",
              "      <td>1243.906483</td>\n",
              "      <td>1.754847</td>\n",
              "      <td>7.062004</td>\n",
              "      <td>7.224031</td>\n",
              "      <td>3.831257</td>\n",
              "      <td>7.068961</td>\n",
              "      <td>6.864782</td>\n",
              "      <td>3.822053</td>\n",
              "      <td>1.160112</td>\n",
              "      <td>0.926832</td>\n",
              "      <td>...</td>\n",
              "      <td>0.618840</td>\n",
              "      <td>2.036102</td>\n",
              "      <td>19.303887</td>\n",
              "      <td>22.253170</td>\n",
              "      <td>17.907491</td>\n",
              "      <td>0.301254</td>\n",
              "      <td>0.559400</td>\n",
              "      <td>0.344271</td>\n",
              "      <td>0.466304</td>\n",
              "      <td>2.318076</td>\n",
              "    </tr>\n",
              "    <tr>\n",
              "      <th>min</th>\n",
              "      <td>37.660000</td>\n",
              "      <td>27.500000</td>\n",
              "      <td>-114.755000</td>\n",
              "      <td>-82.550900</td>\n",
              "      <td>-73.949700</td>\n",
              "      <td>-61.214700</td>\n",
              "      <td>-61.824200</td>\n",
              "      <td>-61.577100</td>\n",
              "      <td>-19.690500</td>\n",
              "      <td>-7.609010</td>\n",
              "      <td>...</td>\n",
              "      <td>-7.701040</td>\n",
              "      <td>-14.019600</td>\n",
              "      <td>-172.865000</td>\n",
              "      <td>-136.951000</td>\n",
              "      <td>-102.716000</td>\n",
              "      <td>0.000003</td>\n",
              "      <td>-0.954848</td>\n",
              "      <td>-0.876838</td>\n",
              "      <td>-0.997040</td>\n",
              "      <td>1.000000</td>\n",
              "    </tr>\n",
              "    <tr>\n",
              "      <th>25%</th>\n",
              "      <td>475.500000</td>\n",
              "      <td>31.312500</td>\n",
              "      <td>-9.076360</td>\n",
              "      <td>0.682775</td>\n",
              "      <td>1.588777</td>\n",
              "      <td>-8.981072</td>\n",
              "      <td>0.687587</td>\n",
              "      <td>1.780160</td>\n",
              "      <td>-0.153182</td>\n",
              "      <td>-0.083315</td>\n",
              "      <td>...</td>\n",
              "      <td>-0.049003</td>\n",
              "      <td>-0.221911</td>\n",
              "      <td>-39.689950</td>\n",
              "      <td>-10.960850</td>\n",
              "      <td>2.252230</td>\n",
              "      <td>0.145023</td>\n",
              "      <td>-0.676392</td>\n",
              "      <td>0.006839</td>\n",
              "      <td>-0.580040</td>\n",
              "      <td>2.000000</td>\n",
              "    </tr>\n",
              "    <tr>\n",
              "      <th>50%</th>\n",
              "      <td>827.610000</td>\n",
              "      <td>32.875000</td>\n",
              "      <td>-5.465610</td>\n",
              "      <td>3.089205</td>\n",
              "      <td>4.157125</td>\n",
              "      <td>-5.434845</td>\n",
              "      <td>3.127145</td>\n",
              "      <td>4.413625</td>\n",
              "      <td>-0.004439</td>\n",
              "      <td>0.004013</td>\n",
              "      <td>...</td>\n",
              "      <td>-0.004481</td>\n",
              "      <td>0.000354</td>\n",
              "      <td>-26.285600</td>\n",
              "      <td>-0.014372</td>\n",
              "      <td>16.599500</td>\n",
              "      <td>0.240996</td>\n",
              "      <td>0.000000</td>\n",
              "      <td>0.322698</td>\n",
              "      <td>-0.281681</td>\n",
              "      <td>5.000000</td>\n",
              "    </tr>\n",
              "    <tr>\n",
              "      <th>75%</th>\n",
              "      <td>2876.990000</td>\n",
              "      <td>33.812500</td>\n",
              "      <td>0.383679</td>\n",
              "      <td>5.559742</td>\n",
              "      <td>6.864212</td>\n",
              "      <td>0.424770</td>\n",
              "      <td>5.592180</td>\n",
              "      <td>7.148178</td>\n",
              "      <td>0.130310</td>\n",
              "      <td>0.094342</td>\n",
              "      <td>...</td>\n",
              "      <td>0.048972</td>\n",
              "      <td>0.032649</td>\n",
              "      <td>-14.549500</td>\n",
              "      <td>19.245900</td>\n",
              "      <td>25.947100</td>\n",
              "      <td>0.501671</td>\n",
              "      <td>0.410052</td>\n",
              "      <td>0.594198</td>\n",
              "      <td>0.252247</td>\n",
              "      <td>7.000000</td>\n",
              "    </tr>\n",
              "    <tr>\n",
              "      <th>max</th>\n",
              "      <td>4007.730000</td>\n",
              "      <td>35.250000</td>\n",
              "      <td>60.912600</td>\n",
              "      <td>155.532000</td>\n",
              "      <td>78.480100</td>\n",
              "      <td>34.159400</td>\n",
              "      <td>62.259800</td>\n",
              "      <td>60.843700</td>\n",
              "      <td>22.960000</td>\n",
              "      <td>11.862600</td>\n",
              "      <td>...</td>\n",
              "      <td>6.002540</td>\n",
              "      <td>14.482700</td>\n",
              "      <td>41.764800</td>\n",
              "      <td>92.867000</td>\n",
              "      <td>122.521000</td>\n",
              "      <td>1.000000</td>\n",
              "      <td>0.959538</td>\n",
              "      <td>0.920506</td>\n",
              "      <td>0.996105</td>\n",
              "      <td>8.000000</td>\n",
              "    </tr>\n",
              "  </tbody>\n",
              "</table>\n",
              "<p>8 rows × 53 columns</p>\n",
              "</div>\n",
              "    <div class=\"colab-df-buttons\">\n",
              "\n",
              "  <div class=\"colab-df-container\">\n",
              "    <button class=\"colab-df-convert\" onclick=\"convertToInteractive('df-c35a09bd-4884-4c11-b671-3b26ceb223dc')\"\n",
              "            title=\"Convert this dataframe to an interactive table.\"\n",
              "            style=\"display:none;\">\n",
              "\n",
              "  <svg xmlns=\"http://www.w3.org/2000/svg\" height=\"24px\" viewBox=\"0 -960 960 960\">\n",
              "    <path d=\"M120-120v-720h720v720H120Zm60-500h600v-160H180v160Zm220 220h160v-160H400v160Zm0 220h160v-160H400v160ZM180-400h160v-160H180v160Zm440 0h160v-160H620v160ZM180-180h160v-160H180v160Zm440 0h160v-160H620v160Z\"/>\n",
              "  </svg>\n",
              "    </button>\n",
              "\n",
              "  <style>\n",
              "    .colab-df-container {\n",
              "      display:flex;\n",
              "      gap: 12px;\n",
              "    }\n",
              "\n",
              "    .colab-df-convert {\n",
              "      background-color: #E8F0FE;\n",
              "      border: none;\n",
              "      border-radius: 50%;\n",
              "      cursor: pointer;\n",
              "      display: none;\n",
              "      fill: #1967D2;\n",
              "      height: 32px;\n",
              "      padding: 0 0 0 0;\n",
              "      width: 32px;\n",
              "    }\n",
              "\n",
              "    .colab-df-convert:hover {\n",
              "      background-color: #E2EBFA;\n",
              "      box-shadow: 0px 1px 2px rgba(60, 64, 67, 0.3), 0px 1px 3px 1px rgba(60, 64, 67, 0.15);\n",
              "      fill: #174EA6;\n",
              "    }\n",
              "\n",
              "    .colab-df-buttons div {\n",
              "      margin-bottom: 4px;\n",
              "    }\n",
              "\n",
              "    [theme=dark] .colab-df-convert {\n",
              "      background-color: #3B4455;\n",
              "      fill: #D2E3FC;\n",
              "    }\n",
              "\n",
              "    [theme=dark] .colab-df-convert:hover {\n",
              "      background-color: #434B5C;\n",
              "      box-shadow: 0px 1px 3px 1px rgba(0, 0, 0, 0.15);\n",
              "      filter: drop-shadow(0px 1px 2px rgba(0, 0, 0, 0.3));\n",
              "      fill: #FFFFFF;\n",
              "    }\n",
              "  </style>\n",
              "\n",
              "    <script>\n",
              "      const buttonEl =\n",
              "        document.querySelector('#df-c35a09bd-4884-4c11-b671-3b26ceb223dc button.colab-df-convert');\n",
              "      buttonEl.style.display =\n",
              "        google.colab.kernel.accessAllowed ? 'block' : 'none';\n",
              "\n",
              "      async function convertToInteractive(key) {\n",
              "        const element = document.querySelector('#df-c35a09bd-4884-4c11-b671-3b26ceb223dc');\n",
              "        const dataTable =\n",
              "          await google.colab.kernel.invokeFunction('convertToInteractive',\n",
              "                                                    [key], {});\n",
              "        if (!dataTable) return;\n",
              "\n",
              "        const docLinkHtml = 'Like what you see? Visit the ' +\n",
              "          '<a target=\"_blank\" href=https://colab.research.google.com/notebooks/data_table.ipynb>data table notebook</a>'\n",
              "          + ' to learn more about interactive tables.';\n",
              "        element.innerHTML = '';\n",
              "        dataTable['output_type'] = 'display_data';\n",
              "        await google.colab.output.renderOutput(dataTable, element);\n",
              "        const docLink = document.createElement('div');\n",
              "        docLink.innerHTML = docLinkHtml;\n",
              "        element.appendChild(docLink);\n",
              "      }\n",
              "    </script>\n",
              "  </div>\n",
              "\n",
              "\n",
              "<div id=\"df-b6fcf171-8b17-4c28-8658-727969556cec\">\n",
              "  <button class=\"colab-df-quickchart\" onclick=\"quickchart('df-b6fcf171-8b17-4c28-8658-727969556cec')\"\n",
              "            title=\"Suggest charts\"\n",
              "            style=\"display:none;\">\n",
              "\n",
              "<svg xmlns=\"http://www.w3.org/2000/svg\" height=\"24px\"viewBox=\"0 0 24 24\"\n",
              "     width=\"24px\">\n",
              "    <g>\n",
              "        <path d=\"M19 3H5c-1.1 0-2 .9-2 2v14c0 1.1.9 2 2 2h14c1.1 0 2-.9 2-2V5c0-1.1-.9-2-2-2zM9 17H7v-7h2v7zm4 0h-2V7h2v10zm4 0h-2v-4h2v4z\"/>\n",
              "    </g>\n",
              "</svg>\n",
              "  </button>\n",
              "\n",
              "<style>\n",
              "  .colab-df-quickchart {\n",
              "      --bg-color: #E8F0FE;\n",
              "      --fill-color: #1967D2;\n",
              "      --hover-bg-color: #E2EBFA;\n",
              "      --hover-fill-color: #174EA6;\n",
              "      --disabled-fill-color: #AAA;\n",
              "      --disabled-bg-color: #DDD;\n",
              "  }\n",
              "\n",
              "  [theme=dark] .colab-df-quickchart {\n",
              "      --bg-color: #3B4455;\n",
              "      --fill-color: #D2E3FC;\n",
              "      --hover-bg-color: #434B5C;\n",
              "      --hover-fill-color: #FFFFFF;\n",
              "      --disabled-bg-color: #3B4455;\n",
              "      --disabled-fill-color: #666;\n",
              "  }\n",
              "\n",
              "  .colab-df-quickchart {\n",
              "    background-color: var(--bg-color);\n",
              "    border: none;\n",
              "    border-radius: 50%;\n",
              "    cursor: pointer;\n",
              "    display: none;\n",
              "    fill: var(--fill-color);\n",
              "    height: 32px;\n",
              "    padding: 0;\n",
              "    width: 32px;\n",
              "  }\n",
              "\n",
              "  .colab-df-quickchart:hover {\n",
              "    background-color: var(--hover-bg-color);\n",
              "    box-shadow: 0 1px 2px rgba(60, 64, 67, 0.3), 0 1px 3px 1px rgba(60, 64, 67, 0.15);\n",
              "    fill: var(--button-hover-fill-color);\n",
              "  }\n",
              "\n",
              "  .colab-df-quickchart-complete:disabled,\n",
              "  .colab-df-quickchart-complete:disabled:hover {\n",
              "    background-color: var(--disabled-bg-color);\n",
              "    fill: var(--disabled-fill-color);\n",
              "    box-shadow: none;\n",
              "  }\n",
              "\n",
              "  .colab-df-spinner {\n",
              "    border: 2px solid var(--fill-color);\n",
              "    border-color: transparent;\n",
              "    border-bottom-color: var(--fill-color);\n",
              "    animation:\n",
              "      spin 1s steps(1) infinite;\n",
              "  }\n",
              "\n",
              "  @keyframes spin {\n",
              "    0% {\n",
              "      border-color: transparent;\n",
              "      border-bottom-color: var(--fill-color);\n",
              "      border-left-color: var(--fill-color);\n",
              "    }\n",
              "    20% {\n",
              "      border-color: transparent;\n",
              "      border-left-color: var(--fill-color);\n",
              "      border-top-color: var(--fill-color);\n",
              "    }\n",
              "    30% {\n",
              "      border-color: transparent;\n",
              "      border-left-color: var(--fill-color);\n",
              "      border-top-color: var(--fill-color);\n",
              "      border-right-color: var(--fill-color);\n",
              "    }\n",
              "    40% {\n",
              "      border-color: transparent;\n",
              "      border-right-color: var(--fill-color);\n",
              "      border-top-color: var(--fill-color);\n",
              "    }\n",
              "    60% {\n",
              "      border-color: transparent;\n",
              "      border-right-color: var(--fill-color);\n",
              "    }\n",
              "    80% {\n",
              "      border-color: transparent;\n",
              "      border-right-color: var(--fill-color);\n",
              "      border-bottom-color: var(--fill-color);\n",
              "    }\n",
              "    90% {\n",
              "      border-color: transparent;\n",
              "      border-bottom-color: var(--fill-color);\n",
              "    }\n",
              "  }\n",
              "</style>\n",
              "\n",
              "  <script>\n",
              "    async function quickchart(key) {\n",
              "      const quickchartButtonEl =\n",
              "        document.querySelector('#' + key + ' button');\n",
              "      quickchartButtonEl.disabled = true;  // To prevent multiple clicks.\n",
              "      quickchartButtonEl.classList.add('colab-df-spinner');\n",
              "      try {\n",
              "        const charts = await google.colab.kernel.invokeFunction(\n",
              "            'suggestCharts', [key], {});\n",
              "      } catch (error) {\n",
              "        console.error('Error during call to suggestCharts:', error);\n",
              "      }\n",
              "      quickchartButtonEl.classList.remove('colab-df-spinner');\n",
              "      quickchartButtonEl.classList.add('colab-df-quickchart-complete');\n",
              "    }\n",
              "    (() => {\n",
              "      let quickchartButtonEl =\n",
              "        document.querySelector('#df-b6fcf171-8b17-4c28-8658-727969556cec button');\n",
              "      quickchartButtonEl.style.display =\n",
              "        google.colab.kernel.accessAllowed ? 'block' : 'none';\n",
              "    })();\n",
              "  </script>\n",
              "</div>\n",
              "    </div>\n",
              "  </div>\n"
            ],
            "application/vnd.google.colaboratory.intrinsic+json": {
              "type": "dataframe"
            }
          },
          "metadata": {},
          "execution_count": 4
        }
      ],
      "execution_count": null
    },
    {
      "cell_type": "code",
      "source": [
        "from sklearn.impute import KNNImputer\n",
        "import cudf\n",
        "\n",
        "def imputed(df):\n",
        "  df_cudf = cudf.DataFrame(df)\n",
        "  imputer = KNNImputer(n_neighbors= 2)\n",
        "  df_imputed = imputer.fit_transform(df_cudf.to_pandas())\n",
        "  return df_imputed"
      ],
      "metadata": {
        "id": "xk_r5q-OmkWl",
        "trusted": true,
        "execution": {
          "iopub.status.busy": "2025-04-14T09:15:20.869443Z",
          "iopub.execute_input": "2025-04-14T09:15:20.869751Z",
          "iopub.status.idle": "2025-04-14T09:15:22.643529Z",
          "shell.execute_reply.started": "2025-04-14T09:15:20.869727Z",
          "shell.execute_reply": "2025-04-14T09:15:22.642961Z"
        }
      },
      "outputs": [],
      "execution_count": null
    },
    {
      "cell_type": "code",
      "source": [
        "df_imputed = imputed(df)"
      ],
      "metadata": {
        "colab": {
          "base_uri": "https://localhost:8080/",
          "height": 287
        },
        "id": "iufJGNmJECtD",
        "outputId": "a08b2ff6-edd0-4bc0-a024-a792ca6ba66b"
      },
      "outputs": [
        {
          "output_type": "error",
          "ename": "KeyboardInterrupt",
          "evalue": "",
          "traceback": [
            "\u001b[0;31m---------------------------------------------------------------------------\u001b[0m",
            "\u001b[0;31mKeyboardInterrupt\u001b[0m                         Traceback (most recent call last)",
            "\u001b[0;32m<ipython-input-28-c49f75045773>\u001b[0m in \u001b[0;36m<cell line: 0>\u001b[0;34m()\u001b[0m\n\u001b[0;32m----> 1\u001b[0;31m \u001b[0mdf_imputed\u001b[0m \u001b[0;34m=\u001b[0m \u001b[0mimputed\u001b[0m\u001b[0;34m(\u001b[0m\u001b[0mdf\u001b[0m\u001b[0;34m)\u001b[0m\u001b[0;34m\u001b[0m\u001b[0;34m\u001b[0m\u001b[0m\n\u001b[0m",
            "\u001b[0;32m<ipython-input-27-7365a5087c05>\u001b[0m in \u001b[0;36mimputed\u001b[0;34m(df)\u001b[0m\n\u001b[1;32m      5\u001b[0m   \u001b[0mdf_cudf\u001b[0m \u001b[0;34m=\u001b[0m \u001b[0mcudf\u001b[0m\u001b[0;34m.\u001b[0m\u001b[0mDataFrame\u001b[0m\u001b[0;34m(\u001b[0m\u001b[0mdf\u001b[0m\u001b[0;34m)\u001b[0m\u001b[0;34m\u001b[0m\u001b[0;34m\u001b[0m\u001b[0m\n\u001b[1;32m      6\u001b[0m   \u001b[0mimputer\u001b[0m \u001b[0;34m=\u001b[0m \u001b[0mKNNImputer\u001b[0m\u001b[0;34m(\u001b[0m\u001b[0mn_neighbors\u001b[0m\u001b[0;34m=\u001b[0m \u001b[0;36m2\u001b[0m\u001b[0;34m)\u001b[0m\u001b[0;34m\u001b[0m\u001b[0;34m\u001b[0m\u001b[0m\n\u001b[0;32m----> 7\u001b[0;31m   \u001b[0mdf_imputed\u001b[0m \u001b[0;34m=\u001b[0m \u001b[0mimputer\u001b[0m\u001b[0;34m.\u001b[0m\u001b[0mfit_transform\u001b[0m\u001b[0;34m(\u001b[0m\u001b[0mdf_cudf\u001b[0m\u001b[0;34m.\u001b[0m\u001b[0mto_pandas\u001b[0m\u001b[0;34m(\u001b[0m\u001b[0;34m)\u001b[0m\u001b[0;34m)\u001b[0m\u001b[0;34m\u001b[0m\u001b[0;34m\u001b[0m\u001b[0m\n\u001b[0m\u001b[1;32m      8\u001b[0m   \u001b[0;32mreturn\u001b[0m \u001b[0mdf_imputed\u001b[0m\u001b[0;34m\u001b[0m\u001b[0;34m\u001b[0m\u001b[0m\n",
            "\u001b[0;32m/usr/local/lib/python3.11/dist-packages/sklearn/utils/_set_output.py\u001b[0m in \u001b[0;36mwrapped\u001b[0;34m(self, X, *args, **kwargs)\u001b[0m\n\u001b[1;32m    317\u001b[0m     \u001b[0;34m@\u001b[0m\u001b[0mwraps\u001b[0m\u001b[0;34m(\u001b[0m\u001b[0mf\u001b[0m\u001b[0;34m)\u001b[0m\u001b[0;34m\u001b[0m\u001b[0;34m\u001b[0m\u001b[0m\n\u001b[1;32m    318\u001b[0m     \u001b[0;32mdef\u001b[0m \u001b[0mwrapped\u001b[0m\u001b[0;34m(\u001b[0m\u001b[0mself\u001b[0m\u001b[0;34m,\u001b[0m \u001b[0mX\u001b[0m\u001b[0;34m,\u001b[0m \u001b[0;34m*\u001b[0m\u001b[0margs\u001b[0m\u001b[0;34m,\u001b[0m \u001b[0;34m**\u001b[0m\u001b[0mkwargs\u001b[0m\u001b[0;34m)\u001b[0m\u001b[0;34m:\u001b[0m\u001b[0;34m\u001b[0m\u001b[0;34m\u001b[0m\u001b[0m\n\u001b[0;32m--> 319\u001b[0;31m         \u001b[0mdata_to_wrap\u001b[0m \u001b[0;34m=\u001b[0m \u001b[0mf\u001b[0m\u001b[0;34m(\u001b[0m\u001b[0mself\u001b[0m\u001b[0;34m,\u001b[0m \u001b[0mX\u001b[0m\u001b[0;34m,\u001b[0m \u001b[0;34m*\u001b[0m\u001b[0margs\u001b[0m\u001b[0;34m,\u001b[0m \u001b[0;34m**\u001b[0m\u001b[0mkwargs\u001b[0m\u001b[0;34m)\u001b[0m\u001b[0;34m\u001b[0m\u001b[0;34m\u001b[0m\u001b[0m\n\u001b[0m\u001b[1;32m    320\u001b[0m         \u001b[0;32mif\u001b[0m \u001b[0misinstance\u001b[0m\u001b[0;34m(\u001b[0m\u001b[0mdata_to_wrap\u001b[0m\u001b[0;34m,\u001b[0m \u001b[0mtuple\u001b[0m\u001b[0;34m)\u001b[0m\u001b[0;34m:\u001b[0m\u001b[0;34m\u001b[0m\u001b[0;34m\u001b[0m\u001b[0m\n\u001b[1;32m    321\u001b[0m             \u001b[0;31m# only wrap the first output for cross decomposition\u001b[0m\u001b[0;34m\u001b[0m\u001b[0;34m\u001b[0m\u001b[0m\n",
            "\u001b[0;32m/usr/local/lib/python3.11/dist-packages/sklearn/base.py\u001b[0m in \u001b[0;36mfit_transform\u001b[0;34m(self, X, y, **fit_params)\u001b[0m\n\u001b[1;32m    916\u001b[0m         \u001b[0;32mif\u001b[0m \u001b[0my\u001b[0m \u001b[0;32mis\u001b[0m \u001b[0;32mNone\u001b[0m\u001b[0;34m:\u001b[0m\u001b[0;34m\u001b[0m\u001b[0;34m\u001b[0m\u001b[0m\n\u001b[1;32m    917\u001b[0m             \u001b[0;31m# fit method of arity 1 (unsupervised transformation)\u001b[0m\u001b[0;34m\u001b[0m\u001b[0;34m\u001b[0m\u001b[0m\n\u001b[0;32m--> 918\u001b[0;31m             \u001b[0;32mreturn\u001b[0m \u001b[0mself\u001b[0m\u001b[0;34m.\u001b[0m\u001b[0mfit\u001b[0m\u001b[0;34m(\u001b[0m\u001b[0mX\u001b[0m\u001b[0;34m,\u001b[0m \u001b[0;34m**\u001b[0m\u001b[0mfit_params\u001b[0m\u001b[0;34m)\u001b[0m\u001b[0;34m.\u001b[0m\u001b[0mtransform\u001b[0m\u001b[0;34m(\u001b[0m\u001b[0mX\u001b[0m\u001b[0;34m)\u001b[0m\u001b[0;34m\u001b[0m\u001b[0;34m\u001b[0m\u001b[0m\n\u001b[0m\u001b[1;32m    919\u001b[0m         \u001b[0;32melse\u001b[0m\u001b[0;34m:\u001b[0m\u001b[0;34m\u001b[0m\u001b[0;34m\u001b[0m\u001b[0m\n\u001b[1;32m    920\u001b[0m             \u001b[0;31m# fit method of arity 2 (supervised transformation)\u001b[0m\u001b[0;34m\u001b[0m\u001b[0;34m\u001b[0m\u001b[0m\n",
            "\u001b[0;32m/usr/local/lib/python3.11/dist-packages/sklearn/utils/_set_output.py\u001b[0m in \u001b[0;36mwrapped\u001b[0;34m(self, X, *args, **kwargs)\u001b[0m\n\u001b[1;32m    317\u001b[0m     \u001b[0;34m@\u001b[0m\u001b[0mwraps\u001b[0m\u001b[0;34m(\u001b[0m\u001b[0mf\u001b[0m\u001b[0;34m)\u001b[0m\u001b[0;34m\u001b[0m\u001b[0;34m\u001b[0m\u001b[0m\n\u001b[1;32m    318\u001b[0m     \u001b[0;32mdef\u001b[0m \u001b[0mwrapped\u001b[0m\u001b[0;34m(\u001b[0m\u001b[0mself\u001b[0m\u001b[0;34m,\u001b[0m \u001b[0mX\u001b[0m\u001b[0;34m,\u001b[0m \u001b[0;34m*\u001b[0m\u001b[0margs\u001b[0m\u001b[0;34m,\u001b[0m \u001b[0;34m**\u001b[0m\u001b[0mkwargs\u001b[0m\u001b[0;34m)\u001b[0m\u001b[0;34m:\u001b[0m\u001b[0;34m\u001b[0m\u001b[0;34m\u001b[0m\u001b[0m\n\u001b[0;32m--> 319\u001b[0;31m         \u001b[0mdata_to_wrap\u001b[0m \u001b[0;34m=\u001b[0m \u001b[0mf\u001b[0m\u001b[0;34m(\u001b[0m\u001b[0mself\u001b[0m\u001b[0;34m,\u001b[0m \u001b[0mX\u001b[0m\u001b[0;34m,\u001b[0m \u001b[0;34m*\u001b[0m\u001b[0margs\u001b[0m\u001b[0;34m,\u001b[0m \u001b[0;34m**\u001b[0m\u001b[0mkwargs\u001b[0m\u001b[0;34m)\u001b[0m\u001b[0;34m\u001b[0m\u001b[0;34m\u001b[0m\u001b[0m\n\u001b[0m\u001b[1;32m    320\u001b[0m         \u001b[0;32mif\u001b[0m \u001b[0misinstance\u001b[0m\u001b[0;34m(\u001b[0m\u001b[0mdata_to_wrap\u001b[0m\u001b[0;34m,\u001b[0m \u001b[0mtuple\u001b[0m\u001b[0;34m)\u001b[0m\u001b[0;34m:\u001b[0m\u001b[0;34m\u001b[0m\u001b[0;34m\u001b[0m\u001b[0m\n\u001b[1;32m    321\u001b[0m             \u001b[0;31m# only wrap the first output for cross decomposition\u001b[0m\u001b[0;34m\u001b[0m\u001b[0;34m\u001b[0m\u001b[0m\n",
            "\u001b[0;32m/usr/local/lib/python3.11/dist-packages/sklearn/impute/_knn.py\u001b[0m in \u001b[0;36mtransform\u001b[0;34m(self, X)\u001b[0m\n\u001b[1;32m    374\u001b[0m             \u001b[0mreduce_func\u001b[0m\u001b[0;34m=\u001b[0m\u001b[0mprocess_chunk\u001b[0m\u001b[0;34m,\u001b[0m\u001b[0;34m\u001b[0m\u001b[0;34m\u001b[0m\u001b[0m\n\u001b[1;32m    375\u001b[0m         )\n\u001b[0;32m--> 376\u001b[0;31m         \u001b[0;32mfor\u001b[0m \u001b[0mchunk\u001b[0m \u001b[0;32min\u001b[0m \u001b[0mgen\u001b[0m\u001b[0;34m:\u001b[0m\u001b[0;34m\u001b[0m\u001b[0;34m\u001b[0m\u001b[0m\n\u001b[0m\u001b[1;32m    377\u001b[0m             \u001b[0;31m# process_chunk modifies X in place. No return value.\u001b[0m\u001b[0;34m\u001b[0m\u001b[0;34m\u001b[0m\u001b[0m\n\u001b[1;32m    378\u001b[0m             \u001b[0;32mpass\u001b[0m\u001b[0;34m\u001b[0m\u001b[0;34m\u001b[0m\u001b[0m\n",
            "\u001b[0;32m/usr/local/lib/python3.11/dist-packages/sklearn/metrics/pairwise.py\u001b[0m in \u001b[0;36mpairwise_distances_chunked\u001b[0;34m(X, Y, reduce_func, metric, n_jobs, working_memory, **kwds)\u001b[0m\n\u001b[1;32m   2250\u001b[0m         \u001b[0;32melse\u001b[0m\u001b[0;34m:\u001b[0m\u001b[0;34m\u001b[0m\u001b[0;34m\u001b[0m\u001b[0m\n\u001b[1;32m   2251\u001b[0m             \u001b[0mX_chunk\u001b[0m \u001b[0;34m=\u001b[0m \u001b[0mX\u001b[0m\u001b[0;34m[\u001b[0m\u001b[0msl\u001b[0m\u001b[0;34m]\u001b[0m\u001b[0;34m\u001b[0m\u001b[0;34m\u001b[0m\u001b[0m\n\u001b[0;32m-> 2252\u001b[0;31m         \u001b[0mD_chunk\u001b[0m \u001b[0;34m=\u001b[0m \u001b[0mpairwise_distances\u001b[0m\u001b[0;34m(\u001b[0m\u001b[0mX_chunk\u001b[0m\u001b[0;34m,\u001b[0m \u001b[0mY\u001b[0m\u001b[0;34m,\u001b[0m \u001b[0mmetric\u001b[0m\u001b[0;34m=\u001b[0m\u001b[0mmetric\u001b[0m\u001b[0;34m,\u001b[0m \u001b[0mn_jobs\u001b[0m\u001b[0;34m=\u001b[0m\u001b[0mn_jobs\u001b[0m\u001b[0;34m,\u001b[0m \u001b[0;34m**\u001b[0m\u001b[0mkwds\u001b[0m\u001b[0;34m)\u001b[0m\u001b[0;34m\u001b[0m\u001b[0;34m\u001b[0m\u001b[0m\n\u001b[0m\u001b[1;32m   2253\u001b[0m         if (X is Y or Y is None) and PAIRWISE_DISTANCE_FUNCTIONS.get(\n\u001b[1;32m   2254\u001b[0m             \u001b[0mmetric\u001b[0m\u001b[0;34m,\u001b[0m \u001b[0;32mNone\u001b[0m\u001b[0;34m\u001b[0m\u001b[0;34m\u001b[0m\u001b[0m\n",
            "\u001b[0;32m/usr/local/lib/python3.11/dist-packages/sklearn/utils/_param_validation.py\u001b[0m in \u001b[0;36mwrapper\u001b[0;34m(*args, **kwargs)\u001b[0m\n\u001b[1;32m    214\u001b[0m                     )\n\u001b[1;32m    215\u001b[0m                 ):\n\u001b[0;32m--> 216\u001b[0;31m                     \u001b[0;32mreturn\u001b[0m \u001b[0mfunc\u001b[0m\u001b[0;34m(\u001b[0m\u001b[0;34m*\u001b[0m\u001b[0margs\u001b[0m\u001b[0;34m,\u001b[0m \u001b[0;34m**\u001b[0m\u001b[0mkwargs\u001b[0m\u001b[0;34m)\u001b[0m\u001b[0;34m\u001b[0m\u001b[0;34m\u001b[0m\u001b[0m\n\u001b[0m\u001b[1;32m    217\u001b[0m             \u001b[0;32mexcept\u001b[0m \u001b[0mInvalidParameterError\u001b[0m \u001b[0;32mas\u001b[0m \u001b[0me\u001b[0m\u001b[0;34m:\u001b[0m\u001b[0;34m\u001b[0m\u001b[0;34m\u001b[0m\u001b[0m\n\u001b[1;32m    218\u001b[0m                 \u001b[0;31m# When the function is just a wrapper around an estimator, we allow\u001b[0m\u001b[0;34m\u001b[0m\u001b[0;34m\u001b[0m\u001b[0m\n",
            "\u001b[0;32m/usr/local/lib/python3.11/dist-packages/sklearn/metrics/pairwise.py\u001b[0m in \u001b[0;36mpairwise_distances\u001b[0;34m(X, Y, metric, n_jobs, force_all_finite, ensure_all_finite, **kwds)\u001b[0m\n\u001b[1;32m   2478\u001b[0m         \u001b[0mfunc\u001b[0m \u001b[0;34m=\u001b[0m \u001b[0mpartial\u001b[0m\u001b[0;34m(\u001b[0m\u001b[0mdistance\u001b[0m\u001b[0;34m.\u001b[0m\u001b[0mcdist\u001b[0m\u001b[0;34m,\u001b[0m \u001b[0mmetric\u001b[0m\u001b[0;34m=\u001b[0m\u001b[0mmetric\u001b[0m\u001b[0;34m,\u001b[0m \u001b[0;34m**\u001b[0m\u001b[0mkwds\u001b[0m\u001b[0;34m)\u001b[0m\u001b[0;34m\u001b[0m\u001b[0;34m\u001b[0m\u001b[0m\n\u001b[1;32m   2479\u001b[0m \u001b[0;34m\u001b[0m\u001b[0m\n\u001b[0;32m-> 2480\u001b[0;31m     \u001b[0;32mreturn\u001b[0m \u001b[0m_parallel_pairwise\u001b[0m\u001b[0;34m(\u001b[0m\u001b[0mX\u001b[0m\u001b[0;34m,\u001b[0m \u001b[0mY\u001b[0m\u001b[0;34m,\u001b[0m \u001b[0mfunc\u001b[0m\u001b[0;34m,\u001b[0m \u001b[0mn_jobs\u001b[0m\u001b[0;34m,\u001b[0m \u001b[0;34m**\u001b[0m\u001b[0mkwds\u001b[0m\u001b[0;34m)\u001b[0m\u001b[0;34m\u001b[0m\u001b[0;34m\u001b[0m\u001b[0m\n\u001b[0m\u001b[1;32m   2481\u001b[0m \u001b[0;34m\u001b[0m\u001b[0m\n\u001b[1;32m   2482\u001b[0m \u001b[0;34m\u001b[0m\u001b[0m\n",
            "\u001b[0;32m/usr/local/lib/python3.11/dist-packages/sklearn/metrics/pairwise.py\u001b[0m in \u001b[0;36m_parallel_pairwise\u001b[0;34m(X, Y, func, n_jobs, **kwds)\u001b[0m\n\u001b[1;32m   1971\u001b[0m \u001b[0;34m\u001b[0m\u001b[0m\n\u001b[1;32m   1972\u001b[0m     \u001b[0;32mif\u001b[0m \u001b[0meffective_n_jobs\u001b[0m\u001b[0;34m(\u001b[0m\u001b[0mn_jobs\u001b[0m\u001b[0;34m)\u001b[0m \u001b[0;34m==\u001b[0m \u001b[0;36m1\u001b[0m\u001b[0;34m:\u001b[0m\u001b[0;34m\u001b[0m\u001b[0;34m\u001b[0m\u001b[0m\n\u001b[0;32m-> 1973\u001b[0;31m         \u001b[0;32mreturn\u001b[0m \u001b[0mfunc\u001b[0m\u001b[0;34m(\u001b[0m\u001b[0mX\u001b[0m\u001b[0;34m,\u001b[0m \u001b[0mY\u001b[0m\u001b[0;34m,\u001b[0m \u001b[0;34m**\u001b[0m\u001b[0mkwds\u001b[0m\u001b[0;34m)\u001b[0m\u001b[0;34m\u001b[0m\u001b[0;34m\u001b[0m\u001b[0m\n\u001b[0m\u001b[1;32m   1974\u001b[0m \u001b[0;34m\u001b[0m\u001b[0m\n\u001b[1;32m   1975\u001b[0m     \u001b[0;31m# enforce a threading backend to prevent data communication overhead\u001b[0m\u001b[0;34m\u001b[0m\u001b[0;34m\u001b[0m\u001b[0m\n",
            "\u001b[0;32m/usr/local/lib/python3.11/dist-packages/sklearn/utils/_param_validation.py\u001b[0m in \u001b[0;36mwrapper\u001b[0;34m(*args, **kwargs)\u001b[0m\n\u001b[1;32m    187\u001b[0m             \u001b[0mglobal_skip_validation\u001b[0m \u001b[0;34m=\u001b[0m \u001b[0mget_config\u001b[0m\u001b[0;34m(\u001b[0m\u001b[0;34m)\u001b[0m\u001b[0;34m[\u001b[0m\u001b[0;34m\"skip_parameter_validation\"\u001b[0m\u001b[0;34m]\u001b[0m\u001b[0;34m\u001b[0m\u001b[0;34m\u001b[0m\u001b[0m\n\u001b[1;32m    188\u001b[0m             \u001b[0;32mif\u001b[0m \u001b[0mglobal_skip_validation\u001b[0m\u001b[0;34m:\u001b[0m\u001b[0;34m\u001b[0m\u001b[0;34m\u001b[0m\u001b[0m\n\u001b[0;32m--> 189\u001b[0;31m                 \u001b[0;32mreturn\u001b[0m \u001b[0mfunc\u001b[0m\u001b[0;34m(\u001b[0m\u001b[0;34m*\u001b[0m\u001b[0margs\u001b[0m\u001b[0;34m,\u001b[0m \u001b[0;34m**\u001b[0m\u001b[0mkwargs\u001b[0m\u001b[0;34m)\u001b[0m\u001b[0;34m\u001b[0m\u001b[0;34m\u001b[0m\u001b[0m\n\u001b[0m\u001b[1;32m    190\u001b[0m \u001b[0;34m\u001b[0m\u001b[0m\n\u001b[1;32m    191\u001b[0m             \u001b[0mfunc_sig\u001b[0m \u001b[0;34m=\u001b[0m \u001b[0msignature\u001b[0m\u001b[0;34m(\u001b[0m\u001b[0mfunc\u001b[0m\u001b[0;34m)\u001b[0m\u001b[0;34m\u001b[0m\u001b[0;34m\u001b[0m\u001b[0m\n",
            "\u001b[0;32m/usr/local/lib/python3.11/dist-packages/sklearn/metrics/pairwise.py\u001b[0m in \u001b[0;36mnan_euclidean_distances\u001b[0;34m(X, Y, squared, missing_values, copy)\u001b[0m\n\u001b[1;32m    567\u001b[0m     \u001b[0mpresent_X\u001b[0m \u001b[0;34m=\u001b[0m \u001b[0;36m1\u001b[0m \u001b[0;34m-\u001b[0m \u001b[0mmissing_X\u001b[0m\u001b[0;34m\u001b[0m\u001b[0;34m\u001b[0m\u001b[0m\n\u001b[1;32m    568\u001b[0m     \u001b[0mpresent_Y\u001b[0m \u001b[0;34m=\u001b[0m \u001b[0mpresent_X\u001b[0m \u001b[0;32mif\u001b[0m \u001b[0mY\u001b[0m \u001b[0;32mis\u001b[0m \u001b[0mX\u001b[0m \u001b[0;32melse\u001b[0m \u001b[0;34m~\u001b[0m\u001b[0mmissing_Y\u001b[0m\u001b[0;34m\u001b[0m\u001b[0;34m\u001b[0m\u001b[0m\n\u001b[0;32m--> 569\u001b[0;31m     \u001b[0mpresent_count\u001b[0m \u001b[0;34m=\u001b[0m \u001b[0mnp\u001b[0m\u001b[0;34m.\u001b[0m\u001b[0mdot\u001b[0m\u001b[0;34m(\u001b[0m\u001b[0mpresent_X\u001b[0m\u001b[0;34m,\u001b[0m \u001b[0mpresent_Y\u001b[0m\u001b[0;34m.\u001b[0m\u001b[0mT\u001b[0m\u001b[0;34m)\u001b[0m\u001b[0;34m\u001b[0m\u001b[0;34m\u001b[0m\u001b[0m\n\u001b[0m\u001b[1;32m    570\u001b[0m     \u001b[0mdistances\u001b[0m\u001b[0;34m[\u001b[0m\u001b[0mpresent_count\u001b[0m \u001b[0;34m==\u001b[0m \u001b[0;36m0\u001b[0m\u001b[0;34m]\u001b[0m \u001b[0;34m=\u001b[0m \u001b[0mnp\u001b[0m\u001b[0;34m.\u001b[0m\u001b[0mnan\u001b[0m\u001b[0;34m\u001b[0m\u001b[0;34m\u001b[0m\u001b[0m\n\u001b[1;32m    571\u001b[0m     \u001b[0;31m# avoid divide by zero\u001b[0m\u001b[0;34m\u001b[0m\u001b[0;34m\u001b[0m\u001b[0m\n",
            "\u001b[0;31mKeyboardInterrupt\u001b[0m: "
          ]
        }
      ],
      "execution_count": null
    },
    {
      "cell_type": "code",
      "source": [
        "df_filled = df.fillna(df.mean())"
      ],
      "metadata": {
        "id": "vKUxwPGvn3Qg",
        "trusted": true,
        "execution": {
          "iopub.status.busy": "2025-04-14T09:15:26.758617Z",
          "iopub.execute_input": "2025-04-14T09:15:26.759587Z",
          "iopub.status.idle": "2025-04-14T09:15:27.327889Z",
          "shell.execute_reply.started": "2025-04-14T09:15:26.759558Z",
          "shell.execute_reply": "2025-04-14T09:15:27.32695Z"
        }
      },
      "outputs": [],
      "execution_count": null
    },
    {
      "cell_type": "code",
      "source": [
        "df_filled.isna().sum()"
      ],
      "metadata": {
        "colab": {
          "base_uri": "https://localhost:8080/",
          "height": 1000
        },
        "id": "P-nJ8SiySrN1",
        "outputId": "8c58a2e6-93a3-488e-f5eb-3598344bb040",
        "trusted": true,
        "execution": {
          "iopub.status.busy": "2025-04-14T07:26:32.796984Z",
          "iopub.execute_input": "2025-04-14T07:26:32.797552Z",
          "iopub.status.idle": "2025-04-14T07:26:32.903474Z",
          "shell.execute_reply.started": "2025-04-14T07:26:32.797525Z",
          "shell.execute_reply": "2025-04-14T07:26:32.902822Z"
        }
      },
      "outputs": [
        {
          "execution_count": 6,
          "output_type": "execute_result",
          "data": {
            "text/plain": "timestamp            0\nhandTemperature      0\nhandAcc16_1          0\nhandAcc16_2          0\nhandAcc16_3          0\nhandAcc6_1           0\nhandAcc6_2           0\nhandAcc6_3           0\nhandGyro1            0\nhandGyro2            0\nhandGyro3            0\nhandMagne1           0\nhandMagne2           0\nhandMagne3           0\nhandOrientation1     0\nhandOrientation2     0\nhandOrientation3     0\nhandOrientation4     0\nchestTemperature     0\nchestAcc16_1         0\nchestAcc16_2         0\nchestAcc16_3         0\nchestAcc6_1          0\nchestAcc6_2          0\nchestAcc6_3          0\nchestGyro1           0\nchestGyro2           0\nchestGyro3           0\nchestMagne1          0\nchestMagne2          0\nchestMagne3          0\nchestOrientation1    0\nchestOrientation2    0\nchestOrientation3    0\nchestOrientation4    0\nankleTemperature     0\nankleAcc16_1         0\nankleAcc16_2         0\nankleAcc16_3         0\nankleAcc6_1          0\nankleAcc6_2          0\nankleAcc6_3          0\nankleGyro1           0\nankleGyro2           0\nankleGyro3           0\nankleMagne1          0\nankleMagne2          0\nankleMagne3          0\nankleOrientation1    0\nankleOrientation2    0\nankleOrientation3    0\nankleOrientation4    0\nsubject_id           0\ndtype: int64"
          },
          "metadata": {}
        }
      ],
      "execution_count": null
    },
    {
      "cell_type": "markdown",
      "source": [
        "Без поиска числа кластеров"
      ],
      "metadata": {
        "id": "tD2ImVJTjcuy"
      }
    },
    {
      "cell_type": "code",
      "source": [
        "from sklearn.preprocessing import StandardScaler\n",
        "scaler = StandardScaler()\n",
        "df_scaled = scaler.fit_transform(df_filled)"
      ],
      "metadata": {
        "id": "ZaV8fAG3UYO5",
        "trusted": true,
        "execution": {
          "iopub.status.busy": "2025-04-14T09:15:30.29199Z",
          "iopub.execute_input": "2025-04-14T09:15:30.29255Z",
          "iopub.status.idle": "2025-04-14T09:15:30.847877Z",
          "shell.execute_reply.started": "2025-04-14T09:15:30.292521Z",
          "shell.execute_reply": "2025-04-14T09:15:30.847226Z"
        }
      },
      "outputs": [],
      "execution_count": null
    },
    {
      "cell_type": "code",
      "source": [
        "pd.DataFrame(df_scaled, columns=df_filled.columns).describe()"
      ],
      "metadata": {
        "colab": {
          "base_uri": "https://localhost:8080/",
          "height": 350
        },
        "id": "Xp43gK89UbRH",
        "outputId": "b07ba404-b8da-4a86-b2ac-a68a743ff195"
      },
      "outputs": [
        {
          "output_type": "execute_result",
          "data": {
            "text/plain": [
              "          timestamp  handTemperature   handAcc16_1   handAcc16_2  \\\n",
              "count  5.346010e+05     5.346010e+05  5.346010e+05  5.346010e+05   \n",
              "mean   2.913672e-16    -5.979287e-15  1.681322e-16  8.941910e-17   \n",
              "std    1.000001e+00     1.000001e+00  1.000001e+00  1.000001e+00   \n",
              "min   -1.250801e+00    -2.832182e+00 -1.568098e+01 -1.192119e+01   \n",
              "25%   -8.988129e-01    -6.513675e-01 -6.580918e-01 -3.496107e-01   \n",
              "50%   -6.157447e-01     2.066577e-01 -1.310847e-01 -1.713556e-02   \n",
              "75%    1.031792e+00     7.786745e-01  6.827180e-01  3.163951e-01   \n",
              "max    1.940816e+00     1.600949e+00  9.288630e+00  2.116118e+01   \n",
              "\n",
              "        handAcc16_3    handAcc6_1    handAcc6_2    handAcc6_3     handGyro1  \\\n",
              "count  5.346010e+05  5.346010e+05  5.346010e+05  5.346010e+05  5.346010e+05   \n",
              "mean   3.127126e-16 -1.066742e-16 -2.168241e-16 -2.246193e-16 -1.089869e-18   \n",
              "std    1.000001e+00  1.000001e+00  1.000001e+00  1.000001e+00  1.000001e+00   \n",
              "min   -2.044387e+01 -8.071186e+00 -9.510825e+00 -1.729174e+01 -1.702980e+01   \n",
              "25%   -6.451320e-01 -6.519813e-01 -3.634089e-01 -6.450147e-01 -1.208268e-01   \n",
              "50%    6.711148e-03 -1.341095e-01 -9.096634e-03  2.522523e-02  3.266733e-03   \n",
              "75%    7.239896e-01  6.801267e-01  3.418987e-01  7.528166e-01  1.166013e-01   \n",
              "max    1.949323e+01  5.472064e+00  8.633344e+00  1.486016e+01  1.987410e+01   \n",
              "\n",
              "          handGyro2  ...    ankleGyro2    ankleGyro3   ankleMagne1  \\\n",
              "count  5.346010e+05  ...  5.346010e+05  5.346010e+05  5.346010e+05   \n",
              "mean  -1.511861e-17  ... -1.763727e-17 -1.608221e-18  2.599072e-16   \n",
              "std    1.000001e+00  ...  1.000001e+00  1.000001e+00  1.000001e+00   \n",
              "min   -8.272104e+00  ... -1.242237e+01 -6.903104e+00 -7.483117e+00   \n",
              "25%   -1.182828e-01  ... -2.682080e-02 -1.054664e-01 -5.656612e-01   \n",
              "50%   -2.624679e-02  ...  4.394607e-02 -8.695254e-04  1.159052e-01   \n",
              "75%    6.779651e-02  ...  1.296685e-01  1.474960e-02  7.373557e-01   \n",
              "max    1.281655e+01  ...  9.774540e+00  7.128823e+00  3.661940e+00   \n",
              "\n",
              "        ankleMagne2   ankleMagne3  ankleOrientation1  ankleOrientation2  \\\n",
              "count  5.346010e+05  5.346010e+05       5.346010e+05       5.346010e+05   \n",
              "mean   1.514519e-17  9.334329e-17       6.654846e-16       5.337035e-17   \n",
              "std    1.000001e+00  1.000001e+00       1.000001e+00       1.000001e+00   \n",
              "min   -6.264235e+00 -6.573791e+00      -1.198384e+00      -1.547764e+00   \n",
              "25%   -5.837238e-01 -6.906048e-01      -7.134946e-01      -1.045657e+00   \n",
              "50%   -9.117973e-02  9.875603e-02      -3.866943e-01       1.632301e-01   \n",
              "75%    7.683740e-01  6.264367e-01       4.678178e-01       8.968367e-01   \n",
              "max    4.087882e+00  6.034087e+00       2.129004e+00       1.882628e+00   \n",
              "\n",
              "       ankleOrientation3  ankleOrientation4    subject_id  \n",
              "count       5.346010e+05       5.346010e+05  5.346010e+05  \n",
              "mean        3.237177e-16       1.101565e-16  4.719664e-17  \n",
              "std         1.000001e+00       1.000001e+00  1.000001e+00  \n",
              "min        -3.436761e+00      -1.769582e+00 -1.535160e+00  \n",
              "25%        -8.623998e-01      -8.711293e-01 -1.103768e+00  \n",
              "50%         4.884011e-02      -2.276979e-01  1.904104e-01  \n",
              "75%         8.422690e-01       8.948542e-01  1.053196e+00  \n",
              "max         1.796446e+00       2.514984e+00  1.484589e+00  \n",
              "\n",
              "[8 rows x 53 columns]"
            ],
            "text/html": [
              "\n",
              "  <div id=\"df-36ef6e9e-07c4-414c-8181-b8ca8cd1f173\" class=\"colab-df-container\">\n",
              "    <div>\n",
              "<style scoped>\n",
              "    .dataframe tbody tr th:only-of-type {\n",
              "        vertical-align: middle;\n",
              "    }\n",
              "\n",
              "    .dataframe tbody tr th {\n",
              "        vertical-align: top;\n",
              "    }\n",
              "\n",
              "    .dataframe thead th {\n",
              "        text-align: right;\n",
              "    }\n",
              "</style>\n",
              "<table border=\"1\" class=\"dataframe\">\n",
              "  <thead>\n",
              "    <tr style=\"text-align: right;\">\n",
              "      <th></th>\n",
              "      <th>timestamp</th>\n",
              "      <th>handTemperature</th>\n",
              "      <th>handAcc16_1</th>\n",
              "      <th>handAcc16_2</th>\n",
              "      <th>handAcc16_3</th>\n",
              "      <th>handAcc6_1</th>\n",
              "      <th>handAcc6_2</th>\n",
              "      <th>handAcc6_3</th>\n",
              "      <th>handGyro1</th>\n",
              "      <th>handGyro2</th>\n",
              "      <th>...</th>\n",
              "      <th>ankleGyro2</th>\n",
              "      <th>ankleGyro3</th>\n",
              "      <th>ankleMagne1</th>\n",
              "      <th>ankleMagne2</th>\n",
              "      <th>ankleMagne3</th>\n",
              "      <th>ankleOrientation1</th>\n",
              "      <th>ankleOrientation2</th>\n",
              "      <th>ankleOrientation3</th>\n",
              "      <th>ankleOrientation4</th>\n",
              "      <th>subject_id</th>\n",
              "    </tr>\n",
              "  </thead>\n",
              "  <tbody>\n",
              "    <tr>\n",
              "      <th>count</th>\n",
              "      <td>5.346010e+05</td>\n",
              "      <td>5.346010e+05</td>\n",
              "      <td>5.346010e+05</td>\n",
              "      <td>5.346010e+05</td>\n",
              "      <td>5.346010e+05</td>\n",
              "      <td>5.346010e+05</td>\n",
              "      <td>5.346010e+05</td>\n",
              "      <td>5.346010e+05</td>\n",
              "      <td>5.346010e+05</td>\n",
              "      <td>5.346010e+05</td>\n",
              "      <td>...</td>\n",
              "      <td>5.346010e+05</td>\n",
              "      <td>5.346010e+05</td>\n",
              "      <td>5.346010e+05</td>\n",
              "      <td>5.346010e+05</td>\n",
              "      <td>5.346010e+05</td>\n",
              "      <td>5.346010e+05</td>\n",
              "      <td>5.346010e+05</td>\n",
              "      <td>5.346010e+05</td>\n",
              "      <td>5.346010e+05</td>\n",
              "      <td>5.346010e+05</td>\n",
              "    </tr>\n",
              "    <tr>\n",
              "      <th>mean</th>\n",
              "      <td>2.913672e-16</td>\n",
              "      <td>-5.979287e-15</td>\n",
              "      <td>1.681322e-16</td>\n",
              "      <td>8.941910e-17</td>\n",
              "      <td>3.127126e-16</td>\n",
              "      <td>-1.066742e-16</td>\n",
              "      <td>-2.168241e-16</td>\n",
              "      <td>-2.246193e-16</td>\n",
              "      <td>-1.089869e-18</td>\n",
              "      <td>-1.511861e-17</td>\n",
              "      <td>...</td>\n",
              "      <td>-1.763727e-17</td>\n",
              "      <td>-1.608221e-18</td>\n",
              "      <td>2.599072e-16</td>\n",
              "      <td>1.514519e-17</td>\n",
              "      <td>9.334329e-17</td>\n",
              "      <td>6.654846e-16</td>\n",
              "      <td>5.337035e-17</td>\n",
              "      <td>3.237177e-16</td>\n",
              "      <td>1.101565e-16</td>\n",
              "      <td>4.719664e-17</td>\n",
              "    </tr>\n",
              "    <tr>\n",
              "      <th>std</th>\n",
              "      <td>1.000001e+00</td>\n",
              "      <td>1.000001e+00</td>\n",
              "      <td>1.000001e+00</td>\n",
              "      <td>1.000001e+00</td>\n",
              "      <td>1.000001e+00</td>\n",
              "      <td>1.000001e+00</td>\n",
              "      <td>1.000001e+00</td>\n",
              "      <td>1.000001e+00</td>\n",
              "      <td>1.000001e+00</td>\n",
              "      <td>1.000001e+00</td>\n",
              "      <td>...</td>\n",
              "      <td>1.000001e+00</td>\n",
              "      <td>1.000001e+00</td>\n",
              "      <td>1.000001e+00</td>\n",
              "      <td>1.000001e+00</td>\n",
              "      <td>1.000001e+00</td>\n",
              "      <td>1.000001e+00</td>\n",
              "      <td>1.000001e+00</td>\n",
              "      <td>1.000001e+00</td>\n",
              "      <td>1.000001e+00</td>\n",
              "      <td>1.000001e+00</td>\n",
              "    </tr>\n",
              "    <tr>\n",
              "      <th>min</th>\n",
              "      <td>-1.250801e+00</td>\n",
              "      <td>-2.832182e+00</td>\n",
              "      <td>-1.568098e+01</td>\n",
              "      <td>-1.192119e+01</td>\n",
              "      <td>-2.044387e+01</td>\n",
              "      <td>-8.071186e+00</td>\n",
              "      <td>-9.510825e+00</td>\n",
              "      <td>-1.729174e+01</td>\n",
              "      <td>-1.702980e+01</td>\n",
              "      <td>-8.272104e+00</td>\n",
              "      <td>...</td>\n",
              "      <td>-1.242237e+01</td>\n",
              "      <td>-6.903104e+00</td>\n",
              "      <td>-7.483117e+00</td>\n",
              "      <td>-6.264235e+00</td>\n",
              "      <td>-6.573791e+00</td>\n",
              "      <td>-1.198384e+00</td>\n",
              "      <td>-1.547764e+00</td>\n",
              "      <td>-3.436761e+00</td>\n",
              "      <td>-1.769582e+00</td>\n",
              "      <td>-1.535160e+00</td>\n",
              "    </tr>\n",
              "    <tr>\n",
              "      <th>25%</th>\n",
              "      <td>-8.988129e-01</td>\n",
              "      <td>-6.513675e-01</td>\n",
              "      <td>-6.580918e-01</td>\n",
              "      <td>-3.496107e-01</td>\n",
              "      <td>-6.451320e-01</td>\n",
              "      <td>-6.519813e-01</td>\n",
              "      <td>-3.634089e-01</td>\n",
              "      <td>-6.450147e-01</td>\n",
              "      <td>-1.208268e-01</td>\n",
              "      <td>-1.182828e-01</td>\n",
              "      <td>...</td>\n",
              "      <td>-2.682080e-02</td>\n",
              "      <td>-1.054664e-01</td>\n",
              "      <td>-5.656612e-01</td>\n",
              "      <td>-5.837238e-01</td>\n",
              "      <td>-6.906048e-01</td>\n",
              "      <td>-7.134946e-01</td>\n",
              "      <td>-1.045657e+00</td>\n",
              "      <td>-8.623998e-01</td>\n",
              "      <td>-8.711293e-01</td>\n",
              "      <td>-1.103768e+00</td>\n",
              "    </tr>\n",
              "    <tr>\n",
              "      <th>50%</th>\n",
              "      <td>-6.157447e-01</td>\n",
              "      <td>2.066577e-01</td>\n",
              "      <td>-1.310847e-01</td>\n",
              "      <td>-1.713556e-02</td>\n",
              "      <td>6.711148e-03</td>\n",
              "      <td>-1.341095e-01</td>\n",
              "      <td>-9.096634e-03</td>\n",
              "      <td>2.522523e-02</td>\n",
              "      <td>3.266733e-03</td>\n",
              "      <td>-2.624679e-02</td>\n",
              "      <td>...</td>\n",
              "      <td>4.394607e-02</td>\n",
              "      <td>-8.695254e-04</td>\n",
              "      <td>1.159052e-01</td>\n",
              "      <td>-9.117973e-02</td>\n",
              "      <td>9.875603e-02</td>\n",
              "      <td>-3.866943e-01</td>\n",
              "      <td>1.632301e-01</td>\n",
              "      <td>4.884011e-02</td>\n",
              "      <td>-2.276979e-01</td>\n",
              "      <td>1.904104e-01</td>\n",
              "    </tr>\n",
              "    <tr>\n",
              "      <th>75%</th>\n",
              "      <td>1.031792e+00</td>\n",
              "      <td>7.786745e-01</td>\n",
              "      <td>6.827180e-01</td>\n",
              "      <td>3.163951e-01</td>\n",
              "      <td>7.239896e-01</td>\n",
              "      <td>6.801267e-01</td>\n",
              "      <td>3.418987e-01</td>\n",
              "      <td>7.528166e-01</td>\n",
              "      <td>1.166013e-01</td>\n",
              "      <td>6.779651e-02</td>\n",
              "      <td>...</td>\n",
              "      <td>1.296685e-01</td>\n",
              "      <td>1.474960e-02</td>\n",
              "      <td>7.373557e-01</td>\n",
              "      <td>7.683740e-01</td>\n",
              "      <td>6.264367e-01</td>\n",
              "      <td>4.678178e-01</td>\n",
              "      <td>8.968367e-01</td>\n",
              "      <td>8.422690e-01</td>\n",
              "      <td>8.948542e-01</td>\n",
              "      <td>1.053196e+00</td>\n",
              "    </tr>\n",
              "    <tr>\n",
              "      <th>max</th>\n",
              "      <td>1.940816e+00</td>\n",
              "      <td>1.600949e+00</td>\n",
              "      <td>9.288630e+00</td>\n",
              "      <td>2.116118e+01</td>\n",
              "      <td>1.949323e+01</td>\n",
              "      <td>5.472064e+00</td>\n",
              "      <td>8.633344e+00</td>\n",
              "      <td>1.486016e+01</td>\n",
              "      <td>1.987410e+01</td>\n",
              "      <td>1.281655e+01</td>\n",
              "      <td>...</td>\n",
              "      <td>9.774540e+00</td>\n",
              "      <td>7.128823e+00</td>\n",
              "      <td>3.661940e+00</td>\n",
              "      <td>4.087882e+00</td>\n",
              "      <td>6.034087e+00</td>\n",
              "      <td>2.129004e+00</td>\n",
              "      <td>1.882628e+00</td>\n",
              "      <td>1.796446e+00</td>\n",
              "      <td>2.514984e+00</td>\n",
              "      <td>1.484589e+00</td>\n",
              "    </tr>\n",
              "  </tbody>\n",
              "</table>\n",
              "<p>8 rows × 53 columns</p>\n",
              "</div>\n",
              "    <div class=\"colab-df-buttons\">\n",
              "\n",
              "  <div class=\"colab-df-container\">\n",
              "    <button class=\"colab-df-convert\" onclick=\"convertToInteractive('df-36ef6e9e-07c4-414c-8181-b8ca8cd1f173')\"\n",
              "            title=\"Convert this dataframe to an interactive table.\"\n",
              "            style=\"display:none;\">\n",
              "\n",
              "  <svg xmlns=\"http://www.w3.org/2000/svg\" height=\"24px\" viewBox=\"0 -960 960 960\">\n",
              "    <path d=\"M120-120v-720h720v720H120Zm60-500h600v-160H180v160Zm220 220h160v-160H400v160Zm0 220h160v-160H400v160ZM180-400h160v-160H180v160Zm440 0h160v-160H620v160ZM180-180h160v-160H180v160Zm440 0h160v-160H620v160Z\"/>\n",
              "  </svg>\n",
              "    </button>\n",
              "\n",
              "  <style>\n",
              "    .colab-df-container {\n",
              "      display:flex;\n",
              "      gap: 12px;\n",
              "    }\n",
              "\n",
              "    .colab-df-convert {\n",
              "      background-color: #E8F0FE;\n",
              "      border: none;\n",
              "      border-radius: 50%;\n",
              "      cursor: pointer;\n",
              "      display: none;\n",
              "      fill: #1967D2;\n",
              "      height: 32px;\n",
              "      padding: 0 0 0 0;\n",
              "      width: 32px;\n",
              "    }\n",
              "\n",
              "    .colab-df-convert:hover {\n",
              "      background-color: #E2EBFA;\n",
              "      box-shadow: 0px 1px 2px rgba(60, 64, 67, 0.3), 0px 1px 3px 1px rgba(60, 64, 67, 0.15);\n",
              "      fill: #174EA6;\n",
              "    }\n",
              "\n",
              "    .colab-df-buttons div {\n",
              "      margin-bottom: 4px;\n",
              "    }\n",
              "\n",
              "    [theme=dark] .colab-df-convert {\n",
              "      background-color: #3B4455;\n",
              "      fill: #D2E3FC;\n",
              "    }\n",
              "\n",
              "    [theme=dark] .colab-df-convert:hover {\n",
              "      background-color: #434B5C;\n",
              "      box-shadow: 0px 1px 3px 1px rgba(0, 0, 0, 0.15);\n",
              "      filter: drop-shadow(0px 1px 2px rgba(0, 0, 0, 0.3));\n",
              "      fill: #FFFFFF;\n",
              "    }\n",
              "  </style>\n",
              "\n",
              "    <script>\n",
              "      const buttonEl =\n",
              "        document.querySelector('#df-36ef6e9e-07c4-414c-8181-b8ca8cd1f173 button.colab-df-convert');\n",
              "      buttonEl.style.display =\n",
              "        google.colab.kernel.accessAllowed ? 'block' : 'none';\n",
              "\n",
              "      async function convertToInteractive(key) {\n",
              "        const element = document.querySelector('#df-36ef6e9e-07c4-414c-8181-b8ca8cd1f173');\n",
              "        const dataTable =\n",
              "          await google.colab.kernel.invokeFunction('convertToInteractive',\n",
              "                                                    [key], {});\n",
              "        if (!dataTable) return;\n",
              "\n",
              "        const docLinkHtml = 'Like what you see? Visit the ' +\n",
              "          '<a target=\"_blank\" href=https://colab.research.google.com/notebooks/data_table.ipynb>data table notebook</a>'\n",
              "          + ' to learn more about interactive tables.';\n",
              "        element.innerHTML = '';\n",
              "        dataTable['output_type'] = 'display_data';\n",
              "        await google.colab.output.renderOutput(dataTable, element);\n",
              "        const docLink = document.createElement('div');\n",
              "        docLink.innerHTML = docLinkHtml;\n",
              "        element.appendChild(docLink);\n",
              "      }\n",
              "    </script>\n",
              "  </div>\n",
              "\n",
              "\n",
              "<div id=\"df-8773c6dd-e234-400d-9c5c-a0f90bb83655\">\n",
              "  <button class=\"colab-df-quickchart\" onclick=\"quickchart('df-8773c6dd-e234-400d-9c5c-a0f90bb83655')\"\n",
              "            title=\"Suggest charts\"\n",
              "            style=\"display:none;\">\n",
              "\n",
              "<svg xmlns=\"http://www.w3.org/2000/svg\" height=\"24px\"viewBox=\"0 0 24 24\"\n",
              "     width=\"24px\">\n",
              "    <g>\n",
              "        <path d=\"M19 3H5c-1.1 0-2 .9-2 2v14c0 1.1.9 2 2 2h14c1.1 0 2-.9 2-2V5c0-1.1-.9-2-2-2zM9 17H7v-7h2v7zm4 0h-2V7h2v10zm4 0h-2v-4h2v4z\"/>\n",
              "    </g>\n",
              "</svg>\n",
              "  </button>\n",
              "\n",
              "<style>\n",
              "  .colab-df-quickchart {\n",
              "      --bg-color: #E8F0FE;\n",
              "      --fill-color: #1967D2;\n",
              "      --hover-bg-color: #E2EBFA;\n",
              "      --hover-fill-color: #174EA6;\n",
              "      --disabled-fill-color: #AAA;\n",
              "      --disabled-bg-color: #DDD;\n",
              "  }\n",
              "\n",
              "  [theme=dark] .colab-df-quickchart {\n",
              "      --bg-color: #3B4455;\n",
              "      --fill-color: #D2E3FC;\n",
              "      --hover-bg-color: #434B5C;\n",
              "      --hover-fill-color: #FFFFFF;\n",
              "      --disabled-bg-color: #3B4455;\n",
              "      --disabled-fill-color: #666;\n",
              "  }\n",
              "\n",
              "  .colab-df-quickchart {\n",
              "    background-color: var(--bg-color);\n",
              "    border: none;\n",
              "    border-radius: 50%;\n",
              "    cursor: pointer;\n",
              "    display: none;\n",
              "    fill: var(--fill-color);\n",
              "    height: 32px;\n",
              "    padding: 0;\n",
              "    width: 32px;\n",
              "  }\n",
              "\n",
              "  .colab-df-quickchart:hover {\n",
              "    background-color: var(--hover-bg-color);\n",
              "    box-shadow: 0 1px 2px rgba(60, 64, 67, 0.3), 0 1px 3px 1px rgba(60, 64, 67, 0.15);\n",
              "    fill: var(--button-hover-fill-color);\n",
              "  }\n",
              "\n",
              "  .colab-df-quickchart-complete:disabled,\n",
              "  .colab-df-quickchart-complete:disabled:hover {\n",
              "    background-color: var(--disabled-bg-color);\n",
              "    fill: var(--disabled-fill-color);\n",
              "    box-shadow: none;\n",
              "  }\n",
              "\n",
              "  .colab-df-spinner {\n",
              "    border: 2px solid var(--fill-color);\n",
              "    border-color: transparent;\n",
              "    border-bottom-color: var(--fill-color);\n",
              "    animation:\n",
              "      spin 1s steps(1) infinite;\n",
              "  }\n",
              "\n",
              "  @keyframes spin {\n",
              "    0% {\n",
              "      border-color: transparent;\n",
              "      border-bottom-color: var(--fill-color);\n",
              "      border-left-color: var(--fill-color);\n",
              "    }\n",
              "    20% {\n",
              "      border-color: transparent;\n",
              "      border-left-color: var(--fill-color);\n",
              "      border-top-color: var(--fill-color);\n",
              "    }\n",
              "    30% {\n",
              "      border-color: transparent;\n",
              "      border-left-color: var(--fill-color);\n",
              "      border-top-color: var(--fill-color);\n",
              "      border-right-color: var(--fill-color);\n",
              "    }\n",
              "    40% {\n",
              "      border-color: transparent;\n",
              "      border-right-color: var(--fill-color);\n",
              "      border-top-color: var(--fill-color);\n",
              "    }\n",
              "    60% {\n",
              "      border-color: transparent;\n",
              "      border-right-color: var(--fill-color);\n",
              "    }\n",
              "    80% {\n",
              "      border-color: transparent;\n",
              "      border-right-color: var(--fill-color);\n",
              "      border-bottom-color: var(--fill-color);\n",
              "    }\n",
              "    90% {\n",
              "      border-color: transparent;\n",
              "      border-bottom-color: var(--fill-color);\n",
              "    }\n",
              "  }\n",
              "</style>\n",
              "\n",
              "  <script>\n",
              "    async function quickchart(key) {\n",
              "      const quickchartButtonEl =\n",
              "        document.querySelector('#' + key + ' button');\n",
              "      quickchartButtonEl.disabled = true;  // To prevent multiple clicks.\n",
              "      quickchartButtonEl.classList.add('colab-df-spinner');\n",
              "      try {\n",
              "        const charts = await google.colab.kernel.invokeFunction(\n",
              "            'suggestCharts', [key], {});\n",
              "      } catch (error) {\n",
              "        console.error('Error during call to suggestCharts:', error);\n",
              "      }\n",
              "      quickchartButtonEl.classList.remove('colab-df-spinner');\n",
              "      quickchartButtonEl.classList.add('colab-df-quickchart-complete');\n",
              "    }\n",
              "    (() => {\n",
              "      let quickchartButtonEl =\n",
              "        document.querySelector('#df-8773c6dd-e234-400d-9c5c-a0f90bb83655 button');\n",
              "      quickchartButtonEl.style.display =\n",
              "        google.colab.kernel.accessAllowed ? 'block' : 'none';\n",
              "    })();\n",
              "  </script>\n",
              "</div>\n",
              "    </div>\n",
              "  </div>\n"
            ],
            "application/vnd.google.colaboratory.intrinsic+json": {
              "type": "dataframe"
            }
          },
          "metadata": {},
          "execution_count": 5
        }
      ],
      "execution_count": null
    },
    {
      "cell_type": "code",
      "source": [
        "from sklearn.cluster import KMeans\n",
        "\n",
        "kmeans = KMeans(n_clusters=2)\n",
        "\n",
        "kmeans.fit(df_scaled)\n",
        "\n",
        "Y_pred = kmeans.labels_"
      ],
      "metadata": {
        "id": "Gnt_k2Aji6XB"
      },
      "outputs": [],
      "execution_count": null
    },
    {
      "cell_type": "code",
      "source": [
        "import numpy as np\n",
        "np.unique(Y_pred)"
      ],
      "metadata": {
        "colab": {
          "base_uri": "https://localhost:8080/",
          "height": 159
        },
        "id": "JXzukIVBoDE5",
        "outputId": "4c66e1d2-95f8-47cb-90eb-b5b82cbd8d64"
      },
      "outputs": [
        {
          "output_type": "error",
          "ename": "NameError",
          "evalue": "name 'Y_pred' is not defined",
          "traceback": [
            "\u001b[0;31m---------------------------------------------------------------------------\u001b[0m",
            "\u001b[0;31mNameError\u001b[0m                                 Traceback (most recent call last)",
            "\u001b[0;32m<ipython-input-5-cce2c4aaeb22>\u001b[0m in \u001b[0;36m<cell line: 0>\u001b[0;34m()\u001b[0m\n\u001b[1;32m      1\u001b[0m \u001b[0;32mimport\u001b[0m \u001b[0mnumpy\u001b[0m \u001b[0;32mas\u001b[0m \u001b[0mnp\u001b[0m\u001b[0;34m\u001b[0m\u001b[0;34m\u001b[0m\u001b[0m\n\u001b[0;32m----> 2\u001b[0;31m \u001b[0mnp\u001b[0m\u001b[0;34m.\u001b[0m\u001b[0munique\u001b[0m\u001b[0;34m(\u001b[0m\u001b[0mY_pred\u001b[0m\u001b[0;34m)\u001b[0m\u001b[0;34m\u001b[0m\u001b[0;34m\u001b[0m\u001b[0m\n\u001b[0m",
            "\u001b[0;31mNameError\u001b[0m: name 'Y_pred' is not defined"
          ]
        }
      ],
      "execution_count": null
    },
    {
      "cell_type": "code",
      "source": [
        "import matplotlib.pyplot as plt\n",
        "from sklearn.decomposition import PCA\n",
        "pca = PCA(n_components=2)\n",
        "df_2d = pca.fit_transform(df_scaled)\n",
        "\n",
        "plt.scatter(df_2d[:, 0], df_2d[:, 1], c=kmeans.labels_, cmap='coolwarm', edgecolors='k')\n",
        "plt.scatter(kmeans.cluster_centers_[:, 0],kmeans.cluster_centers_[:, 1], s=200, c='yellow', marker='X', edgecolors='k', label=\"Центроиды\")\n",
        "plt.legend()\n",
        "plt.title(\"K-Means\")\n",
        "plt.show()"
      ],
      "metadata": {
        "id": "q53kVQtWSxCp",
        "execution": {
          "iopub.status.busy": "2025-04-14T08:17:34.734101Z",
          "iopub.execute_input": "2025-04-14T08:17:34.734695Z",
          "iopub.status.idle": "2025-04-14T08:17:37.374806Z",
          "shell.execute_reply.started": "2025-04-14T08:17:34.734672Z",
          "shell.execute_reply": "2025-04-14T08:17:37.373851Z"
        },
        "trusted": true
      },
      "outputs": [],
      "execution_count": null
    },
    {
      "cell_type": "code",
      "source": [
        "from sklearn.decomposition import PCA\n",
        "\n",
        "pca = PCA()\n",
        "pca.fit(df_scaled)\n",
        "\n",
        "explained_variance_ratio = np.cumsum(pca.explained_variance_ratio_)\n",
        "\n",
        "plt.figure(figsize=(10, 8))\n",
        "plt.plot(range(1, len(explained_variance_ratio) + 1), explained_variance_ratio, marker='o', linestyle='--', label=\"Дисперсия\")\n",
        "\n",
        "# Добавляем горизонтальную линию на уровне 0.9\n",
        "plt.axhline(y=0.9, color='r', linestyle='--', label=\"90% дисперсии\")\n",
        "\n",
        "# Добавляем вертикальную линию на X = 40\n",
        "plt.axvline(x=27, color='g', linestyle='--', label=\"27 компонент\")\n",
        "\n",
        "plt.xlabel('Число главных компонент')\n",
        "plt.ylabel('Накопленная доля объясненной дисперсии')\n",
        "plt.title('График объясненной дисперсии PCA')\n",
        "plt.legend()\n",
        "plt.grid()\n",
        "plt.show()"
      ],
      "metadata": {
        "trusted": true,
        "execution": {
          "iopub.status.busy": "2025-04-14T08:19:31.727062Z",
          "iopub.execute_input": "2025-04-14T08:19:31.727681Z",
          "iopub.status.idle": "2025-04-14T08:19:34.545Z",
          "shell.execute_reply.started": "2025-04-14T08:19:31.727656Z",
          "shell.execute_reply": "2025-04-14T08:19:34.544369Z"
        },
        "id": "gR1yKY0pvkxI",
        "outputId": "85bca82b-63e9-452b-d3b7-70c51c4eb4cb"
      },
      "outputs": [
        {
          "output_type": "display_data",
          "data": {
            "text/plain": "<Figure size 1000x800 with 1 Axes>",
            "image/png": "[encoded data removed]"
          },
          "metadata": {}
        }
      ],
      "execution_count": null
    },
    {
      "cell_type": "code",
      "source": [
        "pca = PCA(n_components=27)\n",
        "X_pca_scaled = pca.fit_transform(df_scaled)\n",
        "\n",
        "print(\"Форма данных после PCA:\", X_pca_scaled.shape)"
      ],
      "metadata": {
        "trusted": true,
        "execution": {
          "iopub.status.busy": "2025-04-14T08:19:39.167628Z",
          "iopub.execute_input": "2025-04-14T08:19:39.167884Z",
          "iopub.status.idle": "2025-04-14T08:19:43.521537Z",
          "shell.execute_reply.started": "2025-04-14T08:19:39.167866Z",
          "shell.execute_reply": "2025-04-14T08:19:43.520808Z"
        },
        "id": "9jgDYgynvkxJ",
        "outputId": "9b4828c6-37aa-426c-9a8e-3585d3d52bc8"
      },
      "outputs": [
        {
          "name": "stdout",
          "text": "Форма данных после PCA: (534601, 27)\n",
          "output_type": "stream"
        }
      ],
      "execution_count": null
    },
    {
      "cell_type": "code",
      "source": [
        "import numpy as np"
      ],
      "metadata": {
        "trusted": true,
        "execution": {
          "iopub.status.busy": "2025-04-14T09:15:55.994988Z",
          "iopub.execute_input": "2025-04-14T09:15:55.995651Z",
          "iopub.status.idle": "2025-04-14T09:15:55.999005Z",
          "shell.execute_reply.started": "2025-04-14T09:15:55.995625Z",
          "shell.execute_reply": "2025-04-14T09:15:55.998221Z"
        },
        "id": "RknnuglIvkxJ"
      },
      "outputs": [],
      "execution_count": null
    },
    {
      "cell_type": "code",
      "source": [
        "# Применяем SVD\n",
        "U, S, Vt = np.linalg.svd(df_scaled, full_matrices=False)\n",
        "\n",
        "# Выбираем первые k компонент\n",
        "k = 27  # Уменьшим до 27 измерений\n",
        "X_pca_manual = df_scaled @ Vt[:k].T  # Умножаем на транспонированную часть\n",
        "\n",
        "print(\"Форма данных после SVD:\", X_pca_manual.shape)"
      ],
      "metadata": {
        "trusted": true,
        "execution": {
          "iopub.status.busy": "2025-04-14T09:15:57.810472Z",
          "iopub.execute_input": "2025-04-14T09:15:57.810749Z",
          "iopub.status.idle": "2025-04-14T09:15:59.087493Z",
          "shell.execute_reply.started": "2025-04-14T09:15:57.810729Z",
          "shell.execute_reply": "2025-04-14T09:15:59.086582Z"
        },
        "id": "1h92PKqPvkxJ",
        "outputId": "2bd4581a-ba25-42b2-c9e4-c3a8913e003d"
      },
      "outputs": [
        {
          "name": "stdout",
          "text": "Форма данных после SVD: (534601, 27)\n",
          "output_type": "stream"
        }
      ],
      "execution_count": null
    },
    {
      "cell_type": "code",
      "source": [
        "X_pca_manual"
      ],
      "metadata": {
        "trusted": true,
        "execution": {
          "iopub.status.busy": "2025-04-14T08:41:47.386841Z",
          "iopub.execute_input": "2025-04-14T08:41:47.387129Z",
          "iopub.status.idle": "2025-04-14T08:41:47.615277Z",
          "shell.execute_reply.started": "2025-04-14T08:41:47.387109Z",
          "shell.execute_reply": "2025-04-14T08:41:47.614447Z"
        },
        "id": "-mAp3bSWvkxJ",
        "outputId": "c8a7c0b5-30a7-484f-b951-4528e02d5b99"
      },
      "outputs": [
        {
          "execution_count": 107,
          "output_type": "execute_result",
          "data": {
            "text/plain": "              0         1         2         3         4         5         6   \\\n0      -5.951374  0.364499 -0.173057 -0.854915  0.263909 -0.541668  0.781569   \n1       1.155086 -4.239882 -1.789262  0.154083 -0.852250  0.576277 -2.776170   \n2      -0.262890  2.910558 -2.051573  0.845455  0.823412  1.502378  0.816563   \n3       3.831110  1.148066 -0.052670  1.707828 -1.356243  0.674342 -0.069464   \n4      -0.737869 -0.136178  1.211712 -2.241988 -0.058866 -0.570159 -1.001451   \n...          ...       ...       ...       ...       ...       ...       ...   \n534596  3.069228 -1.106241  0.573010 -1.054590  4.217485 -1.072076 -1.415540   \n534597  0.844590  2.496105  1.291498  1.834689 -0.385118  3.537437 -0.135889   \n534598  0.943136  1.892480 -0.972713  2.071190  0.580161 -0.713034  0.623256   \n534599  5.171315  1.455641  5.819866 -0.787618  2.913938 -1.204550  0.555066   \n534600  1.363900 -0.903557  0.215995 -3.064488  1.196186  1.070884  0.295499   \n\n              7         8         9   ...        17        18        19  \\\n0       0.163003 -1.762493 -0.453408  ...  0.578641  0.299367  0.144227   \n1       0.801218  0.677975  0.500837  ...  0.504973  0.962052  0.216154   \n2      -0.934039 -0.432889 -0.463435  ... -0.291588 -0.419005 -0.795163   \n3       2.049879 -0.050488 -2.919390  ... -0.193733  1.503352 -0.322050   \n4      -0.320267 -0.912198  0.267176  ...  0.071404 -0.207491 -0.145485   \n...          ...       ...       ...  ...       ...       ...       ...   \n534596 -1.711951 -1.261604  0.927877  ... -1.224736 -0.732302  0.898059   \n534597  0.764374 -2.665302 -0.096315  ...  1.961658  0.124075 -1.267339   \n534598 -0.684960 -1.101537 -1.101499  ... -0.889283 -1.500672  0.117921   \n534599  1.933125 -0.232501  4.626276  ... -0.841254 -3.371444 -1.712204   \n534600 -0.508285  1.056388 -0.457347  ... -0.337034  0.864078  0.536713   \n\n              20        21        22        23        24        25        26  \n0       0.262205 -0.000149  0.146201 -0.013605  0.196430  0.379572  0.121779  \n1      -0.938837  0.077471  0.012894 -0.341690 -1.197813 -0.445563  0.524443  \n2      -1.273597 -0.618261 -1.092805  0.485896 -0.171488  0.504296  0.553508  \n3      -1.423582  0.928313 -0.323837  0.021627  3.240258 -0.176862  0.944667  \n4      -0.363026 -0.488767 -0.209657  0.245808 -0.109437  0.120423 -0.263742  \n...          ...       ...       ...       ...       ...       ...       ...  \n534596 -0.792112  1.262528 -0.023605 -0.157951 -0.678576  0.742618 -0.549913  \n534597 -1.729657 -0.335097 -0.685607 -0.797572  1.404760  0.150001  0.488032  \n534598  0.880249  0.229671  0.877686  0.225668 -0.495180 -1.645135 -0.631382  \n534599 -2.513209 -0.320958 -4.119659 -3.252345 -1.900585  1.413154  0.286754  \n534600 -0.109110 -0.080366  0.455250 -0.973293  0.288296 -0.151618 -0.327203  \n\n[534601 rows x 27 columns]",
            "text/html": "<div>\n<style scoped>\n    .dataframe tbody tr th:only-of-type {\n        vertical-align: middle;\n    }\n\n    .dataframe tbody tr th {\n        vertical-align: top;\n    }\n\n    .dataframe thead th {\n        text-align: right;\n    }\n</style>\n<table border=\"1\" class=\"dataframe\">\n  <thead>\n    <tr style=\"text-align: right;\">\n      <th></th>\n      <th>0</th>\n      <th>1</th>\n      <th>2</th>\n      <th>3</th>\n      <th>4</th>\n      <th>5</th>\n      <th>6</th>\n      <th>7</th>\n      <th>8</th>\n      <th>9</th>\n      <th>...</th>\n      <th>17</th>\n      <th>18</th>\n      <th>19</th>\n      <th>20</th>\n      <th>21</th>\n      <th>22</th>\n      <th>23</th>\n      <th>24</th>\n      <th>25</th>\n      <th>26</th>\n    </tr>\n  </thead>\n  <tbody>\n    <tr>\n      <th>0</th>\n      <td>-5.951374</td>\n      <td>0.364499</td>\n      <td>-0.173057</td>\n      <td>-0.854915</td>\n      <td>0.263909</td>\n      <td>-0.541668</td>\n      <td>0.781569</td>\n      <td>0.163003</td>\n      <td>-1.762493</td>\n      <td>-0.453408</td>\n      <td>...</td>\n      <td>0.578641</td>\n      <td>0.299367</td>\n      <td>0.144227</td>\n      <td>0.262205</td>\n      <td>-0.000149</td>\n      <td>0.146201</td>\n      <td>-0.013605</td>\n      <td>0.196430</td>\n      <td>0.379572</td>\n      <td>0.121779</td>\n    </tr>\n    <tr>\n      <th>1</th>\n      <td>1.155086</td>\n      <td>-4.239882</td>\n      <td>-1.789262</td>\n      <td>0.154083</td>\n      <td>-0.852250</td>\n      <td>0.576277</td>\n      <td>-2.776170</td>\n      <td>0.801218</td>\n      <td>0.677975</td>\n      <td>0.500837</td>\n      <td>...</td>\n      <td>0.504973</td>\n      <td>0.962052</td>\n      <td>0.216154</td>\n      <td>-0.938837</td>\n      <td>0.077471</td>\n      <td>0.012894</td>\n      <td>-0.341690</td>\n      <td>-1.197813</td>\n      <td>-0.445563</td>\n      <td>0.524443</td>\n    </tr>\n    <tr>\n      <th>2</th>\n      <td>-0.262890</td>\n      <td>2.910558</td>\n      <td>-2.051573</td>\n      <td>0.845455</td>\n      <td>0.823412</td>\n      <td>1.502378</td>\n      <td>0.816563</td>\n      <td>-0.934039</td>\n      <td>-0.432889</td>\n      <td>-0.463435</td>\n      <td>...</td>\n      <td>-0.291588</td>\n      <td>-0.419005</td>\n      <td>-0.795163</td>\n      <td>-1.273597</td>\n      <td>-0.618261</td>\n      <td>-1.092805</td>\n      <td>0.485896</td>\n      <td>-0.171488</td>\n      <td>0.504296</td>\n      <td>0.553508</td>\n    </tr>\n    <tr>\n      <th>3</th>\n      <td>3.831110</td>\n      <td>1.148066</td>\n      <td>-0.052670</td>\n      <td>1.707828</td>\n      <td>-1.356243</td>\n      <td>0.674342</td>\n      <td>-0.069464</td>\n      <td>2.049879</td>\n      <td>-0.050488</td>\n      <td>-2.919390</td>\n      <td>...</td>\n      <td>-0.193733</td>\n      <td>1.503352</td>\n      <td>-0.322050</td>\n      <td>-1.423582</td>\n      <td>0.928313</td>\n      <td>-0.323837</td>\n      <td>0.021627</td>\n      <td>3.240258</td>\n      <td>-0.176862</td>\n      <td>0.944667</td>\n    </tr>\n    <tr>\n      <th>4</th>\n      <td>-0.737869</td>\n      <td>-0.136178</td>\n      <td>1.211712</td>\n      <td>-2.241988</td>\n      <td>-0.058866</td>\n      <td>-0.570159</td>\n      <td>-1.001451</td>\n      <td>-0.320267</td>\n      <td>-0.912198</td>\n      <td>0.267176</td>\n      <td>...</td>\n      <td>0.071404</td>\n      <td>-0.207491</td>\n      <td>-0.145485</td>\n      <td>-0.363026</td>\n      <td>-0.488767</td>\n      <td>-0.209657</td>\n      <td>0.245808</td>\n      <td>-0.109437</td>\n      <td>0.120423</td>\n      <td>-0.263742</td>\n    </tr>\n    <tr>\n      <th>...</th>\n      <td>...</td>\n      <td>...</td>\n      <td>...</td>\n      <td>...</td>\n      <td>...</td>\n      <td>...</td>\n      <td>...</td>\n      <td>...</td>\n      <td>...</td>\n      <td>...</td>\n      <td>...</td>\n      <td>...</td>\n      <td>...</td>\n      <td>...</td>\n      <td>...</td>\n      <td>...</td>\n      <td>...</td>\n      <td>...</td>\n      <td>...</td>\n      <td>...</td>\n      <td>...</td>\n    </tr>\n    <tr>\n      <th>534596</th>\n      <td>3.069228</td>\n      <td>-1.106241</td>\n      <td>0.573010</td>\n      <td>-1.054590</td>\n      <td>4.217485</td>\n      <td>-1.072076</td>\n      <td>-1.415540</td>\n      <td>-1.711951</td>\n      <td>-1.261604</td>\n      <td>0.927877</td>\n      <td>...</td>\n      <td>-1.224736</td>\n      <td>-0.732302</td>\n      <td>0.898059</td>\n      <td>-0.792112</td>\n      <td>1.262528</td>\n      <td>-0.023605</td>\n      <td>-0.157951</td>\n      <td>-0.678576</td>\n      <td>0.742618</td>\n      <td>-0.549913</td>\n    </tr>\n    <tr>\n      <th>534597</th>\n      <td>0.844590</td>\n      <td>2.496105</td>\n      <td>1.291498</td>\n      <td>1.834689</td>\n      <td>-0.385118</td>\n      <td>3.537437</td>\n      <td>-0.135889</td>\n      <td>0.764374</td>\n      <td>-2.665302</td>\n      <td>-0.096315</td>\n      <td>...</td>\n      <td>1.961658</td>\n      <td>0.124075</td>\n      <td>-1.267339</td>\n      <td>-1.729657</td>\n      <td>-0.335097</td>\n      <td>-0.685607</td>\n      <td>-0.797572</td>\n      <td>1.404760</td>\n      <td>0.150001</td>\n      <td>0.488032</td>\n    </tr>\n    <tr>\n      <th>534598</th>\n      <td>0.943136</td>\n      <td>1.892480</td>\n      <td>-0.972713</td>\n      <td>2.071190</td>\n      <td>0.580161</td>\n      <td>-0.713034</td>\n      <td>0.623256</td>\n      <td>-0.684960</td>\n      <td>-1.101537</td>\n      <td>-1.101499</td>\n      <td>...</td>\n      <td>-0.889283</td>\n      <td>-1.500672</td>\n      <td>0.117921</td>\n      <td>0.880249</td>\n      <td>0.229671</td>\n      <td>0.877686</td>\n      <td>0.225668</td>\n      <td>-0.495180</td>\n      <td>-1.645135</td>\n      <td>-0.631382</td>\n    </tr>\n    <tr>\n      <th>534599</th>\n      <td>5.171315</td>\n      <td>1.455641</td>\n      <td>5.819866</td>\n      <td>-0.787618</td>\n      <td>2.913938</td>\n      <td>-1.204550</td>\n      <td>0.555066</td>\n      <td>1.933125</td>\n      <td>-0.232501</td>\n      <td>4.626276</td>\n      <td>...</td>\n      <td>-0.841254</td>\n      <td>-3.371444</td>\n      <td>-1.712204</td>\n      <td>-2.513209</td>\n      <td>-0.320958</td>\n      <td>-4.119659</td>\n      <td>-3.252345</td>\n      <td>-1.900585</td>\n      <td>1.413154</td>\n      <td>0.286754</td>\n    </tr>\n    <tr>\n      <th>534600</th>\n      <td>1.363900</td>\n      <td>-0.903557</td>\n      <td>0.215995</td>\n      <td>-3.064488</td>\n      <td>1.196186</td>\n      <td>1.070884</td>\n      <td>0.295499</td>\n      <td>-0.508285</td>\n      <td>1.056388</td>\n      <td>-0.457347</td>\n      <td>...</td>\n      <td>-0.337034</td>\n      <td>0.864078</td>\n      <td>0.536713</td>\n      <td>-0.109110</td>\n      <td>-0.080366</td>\n      <td>0.455250</td>\n      <td>-0.973293</td>\n      <td>0.288296</td>\n      <td>-0.151618</td>\n      <td>-0.327203</td>\n    </tr>\n  </tbody>\n</table>\n<p>534601 rows × 27 columns</p>\n</div>"
          },
          "metadata": {}
        }
      ],
      "execution_count": null
    },
    {
      "cell_type": "code",
      "source": [
        "X_train_scaled = X_pca_scaled[:30000]\n",
        "X_train = df_filled[:30000]"
      ],
      "metadata": {
        "id": "vHGLxfF3p70f",
        "trusted": true,
        "execution": {
          "iopub.status.busy": "2025-04-14T08:19:57.155606Z",
          "iopub.execute_input": "2025-04-14T08:19:57.156167Z",
          "iopub.status.idle": "2025-04-14T08:19:57.159803Z",
          "shell.execute_reply.started": "2025-04-14T08:19:57.15613Z",
          "shell.execute_reply": "2025-04-14T08:19:57.159056Z"
        }
      },
      "outputs": [],
      "execution_count": null
    },
    {
      "cell_type": "code",
      "source": [
        "from sklearn.metrics import silhouette_score\n",
        "import matplotlib.pyplot as plt\n",
        "from sklearn.cluster import KMeans\n",
        "\n",
        "SSE = [] # для локтя\n",
        "sil = [] # для силуэта\n",
        "\n",
        "for k in range(2, 15): # 1, 2, 3, 4, 5, ..., 8\n",
        "    kmeans = KMeans(n_clusters = k, random_state=42, n_init=10)\n",
        "    kmeans.fit(X_train_scaled)\n",
        "    SSE.append(kmeans.inertia_)\n",
        "    sil.append(silhouette_score(X_train, kmeans.fit_predict(X_train_scaled)))\n",
        "\n",
        "# Построение графика\n",
        "fig, ax = plt.subplots(1,2, figsize=(12,5))\n",
        "ax[0].plot(range(2,15), SSE, marker='s', color = 'b')\n",
        "ax[0].set_title('Метод локтя')\n",
        "ax[0].set_xlabel('Число кластеров')\n",
        "ax[0].set_ylabel('inertia')\n",
        "ax[1].plot(range(2,15), sil, marker='s', color = 'g')\n",
        "ax[1].set_title('Метод силуэта')\n",
        "ax[1].set_xlabel('Число кластеров')\n",
        "ax[1].set_ylabel('Cилуэт')\n",
        "\n",
        "plt.show()"
      ],
      "metadata": {
        "colab": {
          "base_uri": "https://localhost:8080/",
          "height": 487
        },
        "id": "TGMYTifTqTQ9",
        "outputId": "529fe57e-dc3c-44db-828f-5bbcea876ebd"
      },
      "outputs": [
        {
          "output_type": "display_data",
          "data": {
            "text/plain": [
              "<Figure size 1200x500 with 2 Axes>"
            ],
            "image/png": "[encoded data removed]"
          },
          "metadata": {}
        }
      ],
      "execution_count": null
    },
    {
      "cell_type": "code",
      "source": [
        "from yellowbrick.cluster import silhouette_visualizer\n",
        "silhouette_visualizer(KMeans(8, random_state=42), X_train, colors='yellowbrick')"
      ],
      "metadata": {
        "colab": {
          "base_uri": "https://localhost:8080/",
          "height": 690
        },
        "id": "KtTBFIAEMcz8",
        "outputId": "81eed5d0-cd07-47ea-b34b-5dafda897efa"
      },
      "outputs": [
        {
          "output_type": "display_data",
          "data": {
            "text/plain": [
              "<Figure size 800x550 with 1 Axes>"
            ],
            "image/png": "[encoded data removed]"
          },
          "metadata": {}
        },
        {
          "output_type": "execute_result",
          "data": {
            "text/plain": [
              "SilhouetteVisualizer(ax=<Axes: title={'center': 'Silhouette Plot of KMeans Clustering for 30000 Samples in 8 Centers'}, xlabel='silhouette coefficient values', ylabel='cluster label'>,\n",
              "                     colors='yellowbrick', estimator=KMeans(random_state=42))"
            ],
            "text/html": [
              "<style>#sk-container-id-1 {\n",
              "  /* Definition of color scheme common for light and dark mode */\n",
              "  --sklearn-color-text: #000;\n",
              "  --sklearn-color-text-muted: #666;\n",
              "  --sklearn-color-line: gray;\n",
              "  /* Definition of color scheme for unfitted estimators */\n",
              "  --sklearn-color-unfitted-level-0: #fff5e6;\n",
              "  --sklearn-color-unfitted-level-1: #f6e4d2;\n",
              "  --sklearn-color-unfitted-level-2: #ffe0b3;\n",
              "  --sklearn-color-unfitted-level-3: chocolate;\n",
              "  /* Definition of color scheme for fitted estimators */\n",
              "  --sklearn-color-fitted-level-0: #f0f8ff;\n",
              "  --sklearn-color-fitted-level-1: #d4ebff;\n",
              "  --sklearn-color-fitted-level-2: #b3dbfd;\n",
              "  --sklearn-color-fitted-level-3: cornflowerblue;\n",
              "\n",
              "  /* Specific color for light theme */\n",
              "  --sklearn-color-text-on-default-background: var(--sg-text-color, var(--theme-code-foreground, var(--jp-content-font-color1, black)));\n",
              "  --sklearn-color-background: var(--sg-background-color, var(--theme-background, var(--jp-layout-color0, white)));\n",
              "  --sklearn-color-border-box: var(--sg-text-color, var(--theme-code-foreground, var(--jp-content-font-color1, black)));\n",
              "  --sklearn-color-icon: #696969;\n",
              "\n",
              "  @media (prefers-color-scheme: dark) {\n",
              "    /* Redefinition of color scheme for dark theme */\n",
              "    --sklearn-color-text-on-default-background: var(--sg-text-color, var(--theme-code-foreground, var(--jp-content-font-color1, white)));\n",
              "    --sklearn-color-background: var(--sg-background-color, var(--theme-background, var(--jp-layout-color0, #111)));\n",
              "    --sklearn-color-border-box: var(--sg-text-color, var(--theme-code-foreground, var(--jp-content-font-color1, white)));\n",
              "    --sklearn-color-icon: #878787;\n",
              "  }\n",
              "}\n",
              "\n",
              "#sk-container-id-1 {\n",
              "  color: var(--sklearn-color-text);\n",
              "}\n",
              "\n",
              "#sk-container-id-1 pre {\n",
              "  padding: 0;\n",
              "}\n",
              "\n",
              "#sk-container-id-1 input.sk-hidden--visually {\n",
              "  border: 0;\n",
              "  clip: rect(1px 1px 1px 1px);\n",
              "  clip: rect(1px, 1px, 1px, 1px);\n",
              "  height: 1px;\n",
              "  margin: -1px;\n",
              "  overflow: hidden;\n",
              "  padding: 0;\n",
              "  position: absolute;\n",
              "  width: 1px;\n",
              "}\n",
              "\n",
              "#sk-container-id-1 div.sk-dashed-wrapped {\n",
              "  border: 1px dashed var(--sklearn-color-line);\n",
              "  margin: 0 0.4em 0.5em 0.4em;\n",
              "  box-sizing: border-box;\n",
              "  padding-bottom: 0.4em;\n",
              "  background-color: var(--sklearn-color-background);\n",
              "}\n",
              "\n",
              "#sk-container-id-1 div.sk-container {\n",
              "  /* jupyter's `normalize.less` sets `[hidden] { display: none; }`\n",
              "     but bootstrap.min.css set `[hidden] { display: none !important; }`\n",
              "     so we also need the `!important` here to be able to override the\n",
              "     default hidden behavior on the sphinx rendered scikit-learn.org.\n",
              "     See: https://github.com/scikit-learn/scikit-learn/issues/21755 */\n",
              "  display: inline-block !important;\n",
              "  position: relative;\n",
              "}\n",
              "\n",
              "#sk-container-id-1 div.sk-text-repr-fallback {\n",
              "  display: none;\n",
              "}\n",
              "\n",
              "div.sk-parallel-item,\n",
              "div.sk-serial,\n",
              "div.sk-item {\n",
              "  /* draw centered vertical line to link estimators */\n",
              "  background-image: linear-gradient(var(--sklearn-color-text-on-default-background), var(--sklearn-color-text-on-default-background));\n",
              "  background-size: 2px 100%;\n",
              "  background-repeat: no-repeat;\n",
              "  background-position: center center;\n",
              "}\n",
              "\n",
              "/* Parallel-specific style estimator block */\n",
              "\n",
              "#sk-container-id-1 div.sk-parallel-item::after {\n",
              "  content: \"\";\n",
              "  width: 100%;\n",
              "  border-bottom: 2px solid var(--sklearn-color-text-on-default-background);\n",
              "  flex-grow: 1;\n",
              "}\n",
              "\n",
              "#sk-container-id-1 div.sk-parallel {\n",
              "  display: flex;\n",
              "  align-items: stretch;\n",
              "  justify-content: center;\n",
              "  background-color: var(--sklearn-color-background);\n",
              "  position: relative;\n",
              "}\n",
              "\n",
              "#sk-container-id-1 div.sk-parallel-item {\n",
              "  display: flex;\n",
              "  flex-direction: column;\n",
              "}\n",
              "\n",
              "#sk-container-id-1 div.sk-parallel-item:first-child::after {\n",
              "  align-self: flex-end;\n",
              "  width: 50%;\n",
              "}\n",
              "\n",
              "#sk-container-id-1 div.sk-parallel-item:last-child::after {\n",
              "  align-self: flex-start;\n",
              "  width: 50%;\n",
              "}\n",
              "\n",
              "#sk-container-id-1 div.sk-parallel-item:only-child::after {\n",
              "  width: 0;\n",
              "}\n",
              "\n",
              "/* Serial-specific style estimator block */\n",
              "\n",
              "#sk-container-id-1 div.sk-serial {\n",
              "  display: flex;\n",
              "  flex-direction: column;\n",
              "  align-items: center;\n",
              "  background-color: var(--sklearn-color-background);\n",
              "  padding-right: 1em;\n",
              "  padding-left: 1em;\n",
              "}\n",
              "\n",
              "\n",
              "/* Toggleable style: style used for estimator/Pipeline/ColumnTransformer box that is\n",
              "clickable and can be expanded/collapsed.\n",
              "- Pipeline and ColumnTransformer use this feature and define the default style\n",
              "- Estimators will overwrite some part of the style using the `sk-estimator` class\n",
              "*/\n",
              "\n",
              "/* Pipeline and ColumnTransformer style (default) */\n",
              "\n",
              "#sk-container-id-1 div.sk-toggleable {\n",
              "  /* Default theme specific background. It is overwritten whether we have a\n",
              "  specific estimator or a Pipeline/ColumnTransformer */\n",
              "  background-color: var(--sklearn-color-background);\n",
              "}\n",
              "\n",
              "/* Toggleable label */\n",
              "#sk-container-id-1 label.sk-toggleable__label {\n",
              "  cursor: pointer;\n",
              "  display: flex;\n",
              "  width: 100%;\n",
              "  margin-bottom: 0;\n",
              "  padding: 0.5em;\n",
              "  box-sizing: border-box;\n",
              "  text-align: center;\n",
              "  align-items: start;\n",
              "  justify-content: space-between;\n",
              "  gap: 0.5em;\n",
              "}\n",
              "\n",
              "#sk-container-id-1 label.sk-toggleable__label .caption {\n",
              "  font-size: 0.6rem;\n",
              "  font-weight: lighter;\n",
              "  color: var(--sklearn-color-text-muted);\n",
              "}\n",
              "\n",
              "#sk-container-id-1 label.sk-toggleable__label-arrow:before {\n",
              "  /* Arrow on the left of the label */\n",
              "  content: \"▸\";\n",
              "  float: left;\n",
              "  margin-right: 0.25em;\n",
              "  color: var(--sklearn-color-icon);\n",
              "}\n",
              "\n",
              "#sk-container-id-1 label.sk-toggleable__label-arrow:hover:before {\n",
              "  color: var(--sklearn-color-text);\n",
              "}\n",
              "\n",
              "/* Toggleable content - dropdown */\n",
              "\n",
              "#sk-container-id-1 div.sk-toggleable__content {\n",
              "  max-height: 0;\n",
              "  max-width: 0;\n",
              "  overflow: hidden;\n",
              "  text-align: left;\n",
              "  /* unfitted */\n",
              "  background-color: var(--sklearn-color-unfitted-level-0);\n",
              "}\n",
              "\n",
              "#sk-container-id-1 div.sk-toggleable__content.fitted {\n",
              "  /* fitted */\n",
              "  background-color: var(--sklearn-color-fitted-level-0);\n",
              "}\n",
              "\n",
              "#sk-container-id-1 div.sk-toggleable__content pre {\n",
              "  margin: 0.2em;\n",
              "  border-radius: 0.25em;\n",
              "  color: var(--sklearn-color-text);\n",
              "  /* unfitted */\n",
              "  background-color: var(--sklearn-color-unfitted-level-0);\n",
              "}\n",
              "\n",
              "#sk-container-id-1 div.sk-toggleable__content.fitted pre {\n",
              "  /* unfitted */\n",
              "  background-color: var(--sklearn-color-fitted-level-0);\n",
              "}\n",
              "\n",
              "#sk-container-id-1 input.sk-toggleable__control:checked~div.sk-toggleable__content {\n",
              "  /* Expand drop-down */\n",
              "  max-height: 200px;\n",
              "  max-width: 100%;\n",
              "  overflow: auto;\n",
              "}\n",
              "\n",
              "#sk-container-id-1 input.sk-toggleable__control:checked~label.sk-toggleable__label-arrow:before {\n",
              "  content: \"▾\";\n",
              "}\n",
              "\n",
              "/* Pipeline/ColumnTransformer-specific style */\n",
              "\n",
              "#sk-container-id-1 div.sk-label input.sk-toggleable__control:checked~label.sk-toggleable__label {\n",
              "  color: var(--sklearn-color-text);\n",
              "  background-color: var(--sklearn-color-unfitted-level-2);\n",
              "}\n",
              "\n",
              "#sk-container-id-1 div.sk-label.fitted input.sk-toggleable__control:checked~label.sk-toggleable__label {\n",
              "  background-color: var(--sklearn-color-fitted-level-2);\n",
              "}\n",
              "\n",
              "/* Estimator-specific style */\n",
              "\n",
              "/* Colorize estimator box */\n",
              "#sk-container-id-1 div.sk-estimator input.sk-toggleable__control:checked~label.sk-toggleable__label {\n",
              "  /* unfitted */\n",
              "  background-color: var(--sklearn-color-unfitted-level-2);\n",
              "}\n",
              "\n",
              "#sk-container-id-1 div.sk-estimator.fitted input.sk-toggleable__control:checked~label.sk-toggleable__label {\n",
              "  /* fitted */\n",
              "  background-color: var(--sklearn-color-fitted-level-2);\n",
              "}\n",
              "\n",
              "#sk-container-id-1 div.sk-label label.sk-toggleable__label,\n",
              "#sk-container-id-1 div.sk-label label {\n",
              "  /* The background is the default theme color */\n",
              "  color: var(--sklearn-color-text-on-default-background);\n",
              "}\n",
              "\n",
              "/* On hover, darken the color of the background */\n",
              "#sk-container-id-1 div.sk-label:hover label.sk-toggleable__label {\n",
              "  color: var(--sklearn-color-text);\n",
              "  background-color: var(--sklearn-color-unfitted-level-2);\n",
              "}\n",
              "\n",
              "/* Label box, darken color on hover, fitted */\n",
              "#sk-container-id-1 div.sk-label.fitted:hover label.sk-toggleable__label.fitted {\n",
              "  color: var(--sklearn-color-text);\n",
              "  background-color: var(--sklearn-color-fitted-level-2);\n",
              "}\n",
              "\n",
              "/* Estimator label */\n",
              "\n",
              "#sk-container-id-1 div.sk-label label {\n",
              "  font-family: monospace;\n",
              "  font-weight: bold;\n",
              "  display: inline-block;\n",
              "  line-height: 1.2em;\n",
              "}\n",
              "\n",
              "#sk-container-id-1 div.sk-label-container {\n",
              "  text-align: center;\n",
              "}\n",
              "\n",
              "/* Estimator-specific */\n",
              "#sk-container-id-1 div.sk-estimator {\n",
              "  font-family: monospace;\n",
              "  border: 1px dotted var(--sklearn-color-border-box);\n",
              "  border-radius: 0.25em;\n",
              "  box-sizing: border-box;\n",
              "  margin-bottom: 0.5em;\n",
              "  /* unfitted */\n",
              "  background-color: var(--sklearn-color-unfitted-level-0);\n",
              "}\n",
              "\n",
              "#sk-container-id-1 div.sk-estimator.fitted {\n",
              "  /* fitted */\n",
              "  background-color: var(--sklearn-color-fitted-level-0);\n",
              "}\n",
              "\n",
              "/* on hover */\n",
              "#sk-container-id-1 div.sk-estimator:hover {\n",
              "  /* unfitted */\n",
              "  background-color: var(--sklearn-color-unfitted-level-2);\n",
              "}\n",
              "\n",
              "#sk-container-id-1 div.sk-estimator.fitted:hover {\n",
              "  /* fitted */\n",
              "  background-color: var(--sklearn-color-fitted-level-2);\n",
              "}\n",
              "\n",
              "/* Specification for estimator info (e.g. \"i\" and \"?\") */\n",
              "\n",
              "/* Common style for \"i\" and \"?\" */\n",
              "\n",
              ".sk-estimator-doc-link,\n",
              "a:link.sk-estimator-doc-link,\n",
              "a:visited.sk-estimator-doc-link {\n",
              "  float: right;\n",
              "  font-size: smaller;\n",
              "  line-height: 1em;\n",
              "  font-family: monospace;\n",
              "  background-color: var(--sklearn-color-background);\n",
              "  border-radius: 1em;\n",
              "  height: 1em;\n",
              "  width: 1em;\n",
              "  text-decoration: none !important;\n",
              "  margin-left: 0.5em;\n",
              "  text-align: center;\n",
              "  /* unfitted */\n",
              "  border: var(--sklearn-color-unfitted-level-1) 1pt solid;\n",
              "  color: var(--sklearn-color-unfitted-level-1);\n",
              "}\n",
              "\n",
              ".sk-estimator-doc-link.fitted,\n",
              "a:link.sk-estimator-doc-link.fitted,\n",
              "a:visited.sk-estimator-doc-link.fitted {\n",
              "  /* fitted */\n",
              "  border: var(--sklearn-color-fitted-level-1) 1pt solid;\n",
              "  color: var(--sklearn-color-fitted-level-1);\n",
              "}\n",
              "\n",
              "/* On hover */\n",
              "div.sk-estimator:hover .sk-estimator-doc-link:hover,\n",
              ".sk-estimator-doc-link:hover,\n",
              "div.sk-label-container:hover .sk-estimator-doc-link:hover,\n",
              ".sk-estimator-doc-link:hover {\n",
              "  /* unfitted */\n",
              "  background-color: var(--sklearn-color-unfitted-level-3);\n",
              "  color: var(--sklearn-color-background);\n",
              "  text-decoration: none;\n",
              "}\n",
              "\n",
              "div.sk-estimator.fitted:hover .sk-estimator-doc-link.fitted:hover,\n",
              ".sk-estimator-doc-link.fitted:hover,\n",
              "div.sk-label-container:hover .sk-estimator-doc-link.fitted:hover,\n",
              ".sk-estimator-doc-link.fitted:hover {\n",
              "  /* fitted */\n",
              "  background-color: var(--sklearn-color-fitted-level-3);\n",
              "  color: var(--sklearn-color-background);\n",
              "  text-decoration: none;\n",
              "}\n",
              "\n",
              "/* Span, style for the box shown on hovering the info icon */\n",
              ".sk-estimator-doc-link span {\n",
              "  display: none;\n",
              "  z-index: 9999;\n",
              "  position: relative;\n",
              "  font-weight: normal;\n",
              "  right: .2ex;\n",
              "  padding: .5ex;\n",
              "  margin: .5ex;\n",
              "  width: min-content;\n",
              "  min-width: 20ex;\n",
              "  max-width: 50ex;\n",
              "  color: var(--sklearn-color-text);\n",
              "  box-shadow: 2pt 2pt 4pt #999;\n",
              "  /* unfitted */\n",
              "  background: var(--sklearn-color-unfitted-level-0);\n",
              "  border: .5pt solid var(--sklearn-color-unfitted-level-3);\n",
              "}\n",
              "\n",
              ".sk-estimator-doc-link.fitted span {\n",
              "  /* fitted */\n",
              "  background: var(--sklearn-color-fitted-level-0);\n",
              "  border: var(--sklearn-color-fitted-level-3);\n",
              "}\n",
              "\n",
              ".sk-estimator-doc-link:hover span {\n",
              "  display: block;\n",
              "}\n",
              "\n",
              "/* \"?\"-specific style due to the `<a>` HTML tag */\n",
              "\n",
              "#sk-container-id-1 a.estimator_doc_link {\n",
              "  float: right;\n",
              "  font-size: 1rem;\n",
              "  line-height: 1em;\n",
              "  font-family: monospace;\n",
              "  background-color: var(--sklearn-color-background);\n",
              "  border-radius: 1rem;\n",
              "  height: 1rem;\n",
              "  width: 1rem;\n",
              "  text-decoration: none;\n",
              "  /* unfitted */\n",
              "  color: var(--sklearn-color-unfitted-level-1);\n",
              "  border: var(--sklearn-color-unfitted-level-1) 1pt solid;\n",
              "}\n",
              "\n",
              "#sk-container-id-1 a.estimator_doc_link.fitted {\n",
              "  /* fitted */\n",
              "  border: var(--sklearn-color-fitted-level-1) 1pt solid;\n",
              "  color: var(--sklearn-color-fitted-level-1);\n",
              "}\n",
              "\n",
              "/* On hover */\n",
              "#sk-container-id-1 a.estimator_doc_link:hover {\n",
              "  /* unfitted */\n",
              "  background-color: var(--sklearn-color-unfitted-level-3);\n",
              "  color: var(--sklearn-color-background);\n",
              "  text-decoration: none;\n",
              "}\n",
              "\n",
              "#sk-container-id-1 a.estimator_doc_link.fitted:hover {\n",
              "  /* fitted */\n",
              "  background-color: var(--sklearn-color-fitted-level-3);\n",
              "}\n",
              "</style><div id=\"sk-container-id-1\" class=\"sk-top-container\"><div class=\"sk-text-repr-fallback\"><pre>SilhouetteVisualizer(ax=&lt;Axes: title={&#x27;center&#x27;: &#x27;Silhouette Plot of KMeans Clustering for 30000 Samples in 8 Centers&#x27;}, xlabel=&#x27;silhouette coefficient values&#x27;, ylabel=&#x27;cluster label&#x27;&gt;,\n",
              "                     colors=&#x27;yellowbrick&#x27;, estimator=KMeans(random_state=42))</pre><b>In a Jupyter environment, please rerun this cell to show the HTML representation or trust the notebook. <br />On GitHub, the HTML representation is unable to render, please try loading this page with nbviewer.org.</b></div><div class=\"sk-container\" hidden><div class=\"sk-item sk-dashed-wrapped\"><div class=\"sk-label-container\"><div class=\"sk-label fitted sk-toggleable\"><input class=\"sk-toggleable__control sk-hidden--visually\" id=\"sk-estimator-id-1\" type=\"checkbox\" ><label for=\"sk-estimator-id-1\" class=\"sk-toggleable__label fitted sk-toggleable__label-arrow\"><div><div>SilhouetteVisualizer</div></div><div><span class=\"sk-estimator-doc-link fitted\">i<span>Fitted</span></span></div></label><div class=\"sk-toggleable__content fitted\"><pre>SilhouetteVisualizer(ax=&lt;Axes: title={&#x27;center&#x27;: &#x27;Silhouette Plot of KMeans Clustering for 30000 Samples in 8 Centers&#x27;}, xlabel=&#x27;silhouette coefficient values&#x27;, ylabel=&#x27;cluster label&#x27;&gt;,\n",
              "                     colors=&#x27;yellowbrick&#x27;, estimator=KMeans(random_state=42))</pre></div> </div></div><div class=\"sk-parallel\"><div class=\"sk-parallel-item\"><div class=\"sk-item\"><div class=\"sk-label-container\"><div class=\"sk-label fitted sk-toggleable\"><input class=\"sk-toggleable__control sk-hidden--visually\" id=\"sk-estimator-id-2\" type=\"checkbox\" ><label for=\"sk-estimator-id-2\" class=\"sk-toggleable__label fitted sk-toggleable__label-arrow\"><div><div>estimator: KMeans</div></div></label><div class=\"sk-toggleable__content fitted\"><pre>KMeans(random_state=42)</pre></div> </div></div><div class=\"sk-serial\"><div class=\"sk-item\"><div class=\"sk-estimator fitted sk-toggleable\"><input class=\"sk-toggleable__control sk-hidden--visually\" id=\"sk-estimator-id-3\" type=\"checkbox\" ><label for=\"sk-estimator-id-3\" class=\"sk-toggleable__label fitted sk-toggleable__label-arrow\"><div><div>KMeans</div></div><div><a class=\"sk-estimator-doc-link fitted\" rel=\"noreferrer\" target=\"_blank\" href=\"https://scikit-learn.org/1.6/modules/generated/sklearn.cluster.KMeans.html\">?<span>Documentation for KMeans</span></a></div></label><div class=\"sk-toggleable__content fitted\"><pre>KMeans(random_state=42)</pre></div> </div></div></div></div></div></div></div></div></div>"
            ]
          },
          "metadata": {},
          "execution_count": 12
        }
      ],
      "execution_count": null
    },
    {
      "cell_type": "code",
      "source": [
        "from sklearn.cluster import KMeans\n",
        "\n",
        "n_clusters = 8\n",
        "\n",
        "clusterer = KMeans(n_clusters=n_clusters)\n",
        "\n",
        "cluster_labels = clusterer.fit_predict(X_pca_scaled)"
      ],
      "metadata": {
        "id": "8UddjLVXs9n8",
        "trusted": true,
        "execution": {
          "iopub.status.busy": "2025-04-14T08:21:06.741547Z",
          "iopub.execute_input": "2025-04-14T08:21:06.742242Z",
          "iopub.status.idle": "2025-04-14T08:21:16.543298Z",
          "shell.execute_reply.started": "2025-04-14T08:21:06.742211Z",
          "shell.execute_reply": "2025-04-14T08:21:16.542705Z"
        },
        "outputId": "a033a905-1d7d-49f8-b426-96b93f4e4059"
      },
      "outputs": [
        {
          "name": "stderr",
          "text": "/usr/local/lib/python3.11/dist-packages/sklearn/cluster/_kmeans.py:870: FutureWarning: The default value of `n_init` will change from 10 to 'auto' in 1.4. Set the value of `n_init` explicitly to suppress the warning\n  warnings.warn(\n",
          "output_type": "stream"
        }
      ],
      "execution_count": null
    },
    {
      "cell_type": "code",
      "source": [
        "predictions = pd.DataFrame(cluster_labels, columns=['activityID'])\n",
        "predictions = predictions.reset_index()"
      ],
      "metadata": {
        "id": "orZOMpphtSkW",
        "trusted": true,
        "execution": {
          "iopub.status.busy": "2025-04-14T08:21:19.741476Z",
          "iopub.execute_input": "2025-04-14T08:21:19.742313Z",
          "iopub.status.idle": "2025-04-14T08:21:19.748147Z",
          "shell.execute_reply.started": "2025-04-14T08:21:19.742287Z",
          "shell.execute_reply": "2025-04-14T08:21:19.747602Z"
        }
      },
      "outputs": [],
      "execution_count": null
    },
    {
      "cell_type": "code",
      "source": [
        "predictions['activityID'].unique()"
      ],
      "metadata": {
        "colab": {
          "base_uri": "https://localhost:8080/"
        },
        "id": "gvJ0bXGhtlVU",
        "outputId": "961275ad-85ea-4491-f647-3f5a09843ede",
        "trusted": true,
        "execution": {
          "iopub.status.busy": "2025-04-14T08:21:21.310622Z",
          "iopub.execute_input": "2025-04-14T08:21:21.310887Z",
          "iopub.status.idle": "2025-04-14T08:21:21.317815Z",
          "shell.execute_reply.started": "2025-04-14T08:21:21.310866Z",
          "shell.execute_reply": "2025-04-14T08:21:21.317228Z"
        }
      },
      "outputs": [
        {
          "execution_count": 76,
          "output_type": "execute_result",
          "data": {
            "text/plain": "array([1, 7, 5, 6, 4, 0, 2, 3], dtype=int32)"
          },
          "metadata": {}
        }
      ],
      "execution_count": null
    },
    {
      "cell_type": "code",
      "source": [
        "for index, row in predictions.iterrows():\n",
        "    if row['activityID'] == 1:\n",
        "        predictions.loc[index, 'new_label'] = 1\n",
        "    if row['activityID'] == 7:\n",
        "        predictions.loc[index, 'new_label'] = 2\n",
        "    if row['activityID'] == 5:\n",
        "        predictions.loc[index, 'new_label'] = 3\n",
        "    if row['activityID'] == 6:\n",
        "        predictions.loc[index, 'new_label'] = 4\n",
        "    if row['activityID'] == 4:\n",
        "        predictions.loc[index, 'new_label'] = 5\n",
        "    if row['activityID'] == 0:\n",
        "        predictions.loc[index, 'new_label'] = 6\n",
        "    if row['activityID'] == 2:\n",
        "        predictions.loc[index, 'new_label'] = 7\n",
        "    if row['activityID'] == 3:\n",
        "        predictions.loc[index, 'new_label'] = 8"
      ],
      "metadata": {
        "id": "dK9eq4a7tYeF",
        "trusted": true,
        "execution": {
          "iopub.status.busy": "2025-04-14T08:22:03.431597Z",
          "iopub.execute_input": "2025-04-14T08:22:03.432191Z",
          "iopub.status.idle": "2025-04-14T08:23:24.528496Z",
          "shell.execute_reply.started": "2025-04-14T08:22:03.432169Z",
          "shell.execute_reply": "2025-04-14T08:23:24.527697Z"
        }
      },
      "outputs": [],
      "execution_count": null
    },
    {
      "cell_type": "code",
      "source": [
        "predictions"
      ],
      "metadata": {
        "colab": {
          "base_uri": "https://localhost:8080/",
          "height": 424
        },
        "id": "UHlqT99LOS2F",
        "outputId": "204969a2-902b-4ed6-80dc-27b41fba4e1a",
        "trusted": true,
        "execution": {
          "iopub.status.busy": "2025-04-14T08:23:35.766895Z",
          "iopub.execute_input": "2025-04-14T08:23:35.767191Z",
          "iopub.status.idle": "2025-04-14T08:23:35.780552Z",
          "shell.execute_reply.started": "2025-04-14T08:23:35.767146Z",
          "shell.execute_reply": "2025-04-14T08:23:35.779895Z"
        }
      },
      "outputs": [
        {
          "execution_count": 79,
          "output_type": "execute_result",
          "data": {
            "text/plain": "         index  activityID  new_label\n0            0           1        1.0\n1            1           7        2.0\n2            2           5        3.0\n3            3           6        4.0\n4            4           4        5.0\n...        ...         ...        ...\n534596  534596           7        2.0\n534597  534597           6        4.0\n534598  534598           6        4.0\n534599  534599           3        8.0\n534600  534600           7        2.0\n\n[534601 rows x 3 columns]",
            "text/html": "<div>\n<style scoped>\n    .dataframe tbody tr th:only-of-type {\n        vertical-align: middle;\n    }\n\n    .dataframe tbody tr th {\n        vertical-align: top;\n    }\n\n    .dataframe thead th {\n        text-align: right;\n    }\n</style>\n<table border=\"1\" class=\"dataframe\">\n  <thead>\n    <tr style=\"text-align: right;\">\n      <th></th>\n      <th>index</th>\n      <th>activityID</th>\n      <th>new_label</th>\n    </tr>\n  </thead>\n  <tbody>\n    <tr>\n      <th>0</th>\n      <td>0</td>\n      <td>1</td>\n      <td>1.0</td>\n    </tr>\n    <tr>\n      <th>1</th>\n      <td>1</td>\n      <td>7</td>\n      <td>2.0</td>\n    </tr>\n    <tr>\n      <th>2</th>\n      <td>2</td>\n      <td>5</td>\n      <td>3.0</td>\n    </tr>\n    <tr>\n      <th>3</th>\n      <td>3</td>\n      <td>6</td>\n      <td>4.0</td>\n    </tr>\n    <tr>\n      <th>4</th>\n      <td>4</td>\n      <td>4</td>\n      <td>5.0</td>\n    </tr>\n    <tr>\n      <th>...</th>\n      <td>...</td>\n      <td>...</td>\n      <td>...</td>\n    </tr>\n    <tr>\n      <th>534596</th>\n      <td>534596</td>\n      <td>7</td>\n      <td>2.0</td>\n    </tr>\n    <tr>\n      <th>534597</th>\n      <td>534597</td>\n      <td>6</td>\n      <td>4.0</td>\n    </tr>\n    <tr>\n      <th>534598</th>\n      <td>534598</td>\n      <td>6</td>\n      <td>4.0</td>\n    </tr>\n    <tr>\n      <th>534599</th>\n      <td>534599</td>\n      <td>3</td>\n      <td>8.0</td>\n    </tr>\n    <tr>\n      <th>534600</th>\n      <td>534600</td>\n      <td>7</td>\n      <td>2.0</td>\n    </tr>\n  </tbody>\n</table>\n<p>534601 rows × 3 columns</p>\n</div>"
          },
          "metadata": {}
        }
      ],
      "execution_count": null
    },
    {
      "cell_type": "code",
      "source": [
        "predictions = predictions.drop(columns=['activityID'])\n",
        "predictions.columns = ['index','activityID']"
      ],
      "metadata": {
        "id": "dcuiZ-7Ot1gB",
        "trusted": true,
        "execution": {
          "iopub.status.busy": "2025-04-14T08:23:39.249052Z",
          "iopub.execute_input": "2025-04-14T08:23:39.249775Z",
          "iopub.status.idle": "2025-04-14T08:23:39.256759Z",
          "shell.execute_reply.started": "2025-04-14T08:23:39.24975Z",
          "shell.execute_reply": "2025-04-14T08:23:39.25609Z"
        }
      },
      "outputs": [],
      "execution_count": null
    },
    {
      "cell_type": "code",
      "source": [
        "predictions['activityID'] = predictions['activityID'].apply(lambda x: int(x))"
      ],
      "metadata": {
        "id": "kOH2VDO3YV_o",
        "trusted": true,
        "execution": {
          "iopub.status.busy": "2025-04-14T08:23:40.620136Z",
          "iopub.execute_input": "2025-04-14T08:23:40.620494Z",
          "iopub.status.idle": "2025-04-14T08:23:40.821336Z",
          "shell.execute_reply.started": "2025-04-14T08:23:40.620469Z",
          "shell.execute_reply": "2025-04-14T08:23:40.820791Z"
        }
      },
      "outputs": [],
      "execution_count": null
    },
    {
      "cell_type": "code",
      "source": [
        "predictions"
      ],
      "metadata": {
        "colab": {
          "base_uri": "https://localhost:8080/",
          "height": 424
        },
        "id": "JDDKxroMYtrp",
        "outputId": "a6772ff1-f601-43e5-97ed-dda55750f763",
        "trusted": true,
        "execution": {
          "iopub.status.busy": "2025-04-14T08:23:41.824704Z",
          "iopub.execute_input": "2025-04-14T08:23:41.824957Z",
          "iopub.status.idle": "2025-04-14T08:23:41.834087Z",
          "shell.execute_reply.started": "2025-04-14T08:23:41.824938Z",
          "shell.execute_reply": "2025-04-14T08:23:41.833362Z"
        }
      },
      "outputs": [
        {
          "execution_count": 82,
          "output_type": "execute_result",
          "data": {
            "text/plain": "         index  activityID\n0            0           1\n1            1           2\n2            2           3\n3            3           4\n4            4           5\n...        ...         ...\n534596  534596           2\n534597  534597           4\n534598  534598           4\n534599  534599           8\n534600  534600           2\n\n[534601 rows x 2 columns]",
            "text/html": "<div>\n<style scoped>\n    .dataframe tbody tr th:only-of-type {\n        vertical-align: middle;\n    }\n\n    .dataframe tbody tr th {\n        vertical-align: top;\n    }\n\n    .dataframe thead th {\n        text-align: right;\n    }\n</style>\n<table border=\"1\" class=\"dataframe\">\n  <thead>\n    <tr style=\"text-align: right;\">\n      <th></th>\n      <th>index</th>\n      <th>activityID</th>\n    </tr>\n  </thead>\n  <tbody>\n    <tr>\n      <th>0</th>\n      <td>0</td>\n      <td>1</td>\n    </tr>\n    <tr>\n      <th>1</th>\n      <td>1</td>\n      <td>2</td>\n    </tr>\n    <tr>\n      <th>2</th>\n      <td>2</td>\n      <td>3</td>\n    </tr>\n    <tr>\n      <th>3</th>\n      <td>3</td>\n      <td>4</td>\n    </tr>\n    <tr>\n      <th>4</th>\n      <td>4</td>\n      <td>5</td>\n    </tr>\n    <tr>\n      <th>...</th>\n      <td>...</td>\n      <td>...</td>\n    </tr>\n    <tr>\n      <th>534596</th>\n      <td>534596</td>\n      <td>2</td>\n    </tr>\n    <tr>\n      <th>534597</th>\n      <td>534597</td>\n      <td>4</td>\n    </tr>\n    <tr>\n      <th>534598</th>\n      <td>534598</td>\n      <td>4</td>\n    </tr>\n    <tr>\n      <th>534599</th>\n      <td>534599</td>\n      <td>8</td>\n    </tr>\n    <tr>\n      <th>534600</th>\n      <td>534600</td>\n      <td>2</td>\n    </tr>\n  </tbody>\n</table>\n<p>534601 rows × 2 columns</p>\n</div>"
          },
          "metadata": {}
        }
      ],
      "execution_count": null
    },
    {
      "cell_type": "code",
      "source": [
        "predictions.to_csv('pca_knn.csv', index=False)"
      ],
      "metadata": {
        "id": "8JkBAlyOYU7z",
        "trusted": true,
        "execution": {
          "iopub.status.busy": "2025-04-14T08:23:55.515865Z",
          "iopub.execute_input": "2025-04-14T08:23:55.516688Z",
          "iopub.status.idle": "2025-04-14T08:23:55.857978Z",
          "shell.execute_reply.started": "2025-04-14T08:23:55.516661Z",
          "shell.execute_reply": "2025-04-14T08:23:55.857413Z"
        }
      },
      "outputs": [],
      "execution_count": null
    },
    {
      "cell_type": "markdown",
      "source": [
        "Следующий вариант"
      ],
      "metadata": {
        "id": "rWpKVFR1ukEa"
      }
    },
    {
      "cell_type": "code",
      "source": [
        "from scipy.cluster.hierarchy import dendrogram, linkage\n",
        "\n",
        "# матрица расстояний\n",
        "Z = linkage(X_train, 'ward')\n",
        "\n",
        "# визуализация дендрограмы\n",
        "fig = plt.figure(figsize=(20, 12))\n",
        "dn = dendrogram(Z,\n",
        "    leaf_font_size=10,  # Размер шрифта меток\n",
        "    orientation='top',   # Ориентация (можно попробовать 'left'/'right')\n",
        "    color_threshold=0,   # Подсветка кластеров\n",
        "    above_threshold_color='gray')\n",
        "plt.title(\"Дендрограмма\", fontsize=14)\n",
        "plt.xlabel(\"Объекты\", fontsize=12)\n",
        "plt.ylabel(\"Расстояние\", fontsize=12)\n",
        "plt.xticks(rotation=90)  # Поворот меток на 90 градусов\n",
        "plt.yticks(fontsize=10)  # Размер шрифта для оси Y\n",
        "plt.grid(True, linestyle='--', alpha=0.5)  # Сетка для удобства\n",
        "\n",
        "plt.show()"
      ],
      "metadata": {
        "id": "Q54tZkN4umHQ",
        "colab": {
          "base_uri": "https://localhost:8080/",
          "height": 965
        },
        "outputId": "098b4b06-3723-46a6-ec10-9b1c2d810c82"
      },
      "outputs": [
        {
          "output_type": "display_data",
          "data": {
            "text/plain": [
              "<Figure size 2000x1200 with 1 Axes>"
            ],
            "image/png": "[encoded data removed]"
          },
          "metadata": {}
        }
      ],
      "execution_count": null
    },
    {
      "cell_type": "code",
      "source": [
        "Z.shape"
      ],
      "metadata": {
        "colab": {
          "base_uri": "https://localhost:8080/"
        },
        "id": "uq4hFRpVaoMS",
        "outputId": "e9b41288-8418-460a-c3f3-b98e3a17a678"
      },
      "outputs": [
        {
          "output_type": "execute_result",
          "data": {
            "text/plain": [
              "(29999, 4)"
            ]
          },
          "metadata": {},
          "execution_count": 23
        }
      ],
      "execution_count": null
    },
    {
      "cell_type": "code",
      "source": [
        "Z[120]"
      ],
      "metadata": {
        "colab": {
          "base_uri": "https://localhost:8080/"
        },
        "id": "SU2IpRo2axJ7",
        "outputId": "860de180-b334-495b-eb0b-88e5490903ee"
      },
      "outputs": [
        {
          "output_type": "execute_result",
          "data": {
            "text/plain": [
              "array([1.52480000e+04, 2.44850000e+04, 1.09711553e-01, 2.00000000e+00])"
            ]
          },
          "metadata": {},
          "execution_count": 24
        }
      ],
      "execution_count": null
    },
    {
      "cell_type": "code",
      "source": [
        "from scipy.cluster.hierarchy import fcluster\n",
        "import numpy as np\n",
        "\n",
        "y_pred = fcluster(Z, 250, criterion='distance')\n",
        "\n",
        "np.unique(y_pred)"
      ],
      "metadata": {
        "colab": {
          "base_uri": "https://localhost:8080/"
        },
        "id": "YBDWNso1azqw",
        "outputId": "71d51f39-b341-4bb8-81a8-7e39e9ffb7f9"
      },
      "outputs": [
        {
          "output_type": "execute_result",
          "data": {
            "text/plain": [
              "array([1, 2, 3, 4, 5, 6, 7, 8], dtype=int32)"
            ]
          },
          "metadata": {},
          "execution_count": 27
        }
      ],
      "execution_count": null
    },
    {
      "cell_type": "code",
      "source": [
        "!git clone https://github.com/rapidsai/rapidsai-csp-utils.git\n",
        "!python rapidsai-csp-utils/colab/rapids-colab.sh stable\n",
        "\n",
        "import os\n",
        "os._exit(00)"
      ],
      "metadata": {
        "colab": {
          "base_uri": "https://localhost:8080/"
        },
        "id": "cAfzvx13pZoF",
        "outputId": "cf897190-5e76-4382-ad97-6e7e65a3c4c7",
        "trusted": true,
        "execution": {
          "iopub.status.busy": "2025-04-14T09:14:37.216026Z",
          "iopub.execute_input": "2025-04-14T09:14:37.216637Z",
          "execution_failed": "2025-04-14T09:14:40.894Z"
        }
      },
      "outputs": [
        {
          "name": "stdout",
          "text": "Cloning into 'rapidsai-csp-utils'...\nremote: Enumerating objects: 587, done.\u001b[K\nremote: Counting objects: 100% (153/153), done.\u001b[K\nremote: Compressing objects: 100% (71/71), done.\u001b[K\nremote: Total 587 (delta 122), reused 85 (delta 82), pack-reused 434 (from 3)\u001b[K\nReceiving objects: 100% (587/587), 193.00 KiB | 3.71 MiB/s, done.\nResolving deltas: 100% (296/296), done.\n  File \"/kaggle/working/rapidsai-csp-utils/colab/rapids-colab.sh\", line 3\n    echo \"PLEASE READ FOR 21.06\"\n         ^^^^^^^^^^^^^^^^^^^^^^^\nSyntaxError: invalid syntax\n",
          "output_type": "stream"
        }
      ],
      "execution_count": null
    },
    {
      "cell_type": "code",
      "source": [
        "from cuml.cluster import AgglomerativeClustering\n",
        "\n",
        "hc = AgglomerativeClustering(n_clusters=8, metric='euclidean', linkage='single')\n",
        "\n",
        "y_hc = hc.fit_predict(X_pca_scaled)"
      ],
      "metadata": {
        "id": "TdHUsHukdQ6z",
        "trusted": true,
        "execution": {
          "iopub.status.busy": "2025-04-14T08:25:07.863936Z",
          "iopub.execute_input": "2025-04-14T08:25:07.8646Z",
          "iopub.status.idle": "2025-04-14T08:25:24.314667Z",
          "shell.execute_reply.started": "2025-04-14T08:25:07.864576Z",
          "shell.execute_reply": "2025-04-14T08:25:24.314076Z"
        }
      },
      "outputs": [],
      "execution_count": null
    },
    {
      "cell_type": "code",
      "source": [
        "import numpy as np\n",
        "np.unique(y_hc)"
      ],
      "metadata": {
        "colab": {
          "base_uri": "https://localhost:8080/"
        },
        "id": "4H1w4P7ptpGG",
        "outputId": "531122cb-abe5-4cb3-c947-a787cc3b13fb",
        "trusted": true,
        "execution": {
          "iopub.status.busy": "2025-04-14T08:25:34.644459Z",
          "iopub.execute_input": "2025-04-14T08:25:34.644966Z",
          "iopub.status.idle": "2025-04-14T08:25:34.663681Z",
          "shell.execute_reply.started": "2025-04-14T08:25:34.644945Z",
          "shell.execute_reply": "2025-04-14T08:25:34.663091Z"
        }
      },
      "outputs": [
        {
          "execution_count": 85,
          "output_type": "execute_result",
          "data": {
            "text/plain": "array([0, 1, 2, 3, 4, 5, 6, 7], dtype=int32)"
          },
          "metadata": {}
        }
      ],
      "execution_count": null
    },
    {
      "cell_type": "code",
      "source": [
        "predictions_hc = pd.DataFrame(y_hc, columns=['activityID'])\n",
        "predictions_hc = predictions_hc.reset_index()"
      ],
      "metadata": {
        "id": "P3iG8elNt49m",
        "trusted": true,
        "execution": {
          "iopub.status.busy": "2025-04-14T08:25:43.766065Z",
          "iopub.execute_input": "2025-04-14T08:25:43.766619Z",
          "iopub.status.idle": "2025-04-14T08:25:43.772272Z",
          "shell.execute_reply.started": "2025-04-14T08:25:43.766596Z",
          "shell.execute_reply": "2025-04-14T08:25:43.77167Z"
        }
      },
      "outputs": [],
      "execution_count": null
    },
    {
      "cell_type": "code",
      "source": [
        "predictions_hc['activityID'].value_counts()"
      ],
      "metadata": {
        "colab": {
          "base_uri": "https://localhost:8080/",
          "height": 366
        },
        "id": "dxi4G0v8vLAC",
        "outputId": "9291e366-3231-4cf1-858e-008c87e2719b",
        "trusted": true,
        "execution": {
          "iopub.status.busy": "2025-04-14T08:25:45.116069Z",
          "iopub.execute_input": "2025-04-14T08:25:45.116598Z",
          "iopub.status.idle": "2025-04-14T08:25:45.12577Z",
          "shell.execute_reply.started": "2025-04-14T08:25:45.116577Z",
          "shell.execute_reply": "2025-04-14T08:25:45.124899Z"
        }
      },
      "outputs": [
        {
          "execution_count": 87,
          "output_type": "execute_result",
          "data": {
            "text/plain": "activityID\n0    534588\n4         4\n2         2\n1         2\n3         2\n7         1\n6         1\n5         1\nName: count, dtype: int64"
          },
          "metadata": {}
        }
      ],
      "execution_count": null
    },
    {
      "cell_type": "code",
      "source": [
        "predictions_hc['activityID'].unique()"
      ],
      "metadata": {
        "colab": {
          "base_uri": "https://localhost:8080/"
        },
        "id": "Crl8Okzlt9w6",
        "outputId": "08daadf1-6951-4910-f2b4-b06bda8947a1"
      },
      "outputs": [
        {
          "output_type": "execute_result",
          "data": {
            "text/plain": [
              "array([4, 0, 2, 3, 7, 1, 6, 5], dtype=int32)"
            ]
          },
          "metadata": {},
          "execution_count": 34
        }
      ],
      "execution_count": null
    },
    {
      "cell_type": "code",
      "source": [
        "for index, row in predictions_hc.iterrows():\n",
        "    if row['activityID'] == 4:\n",
        "        predictions_hc.loc[index, 'new_label'] = 1\n",
        "    if row['activityID'] == 0:\n",
        "        predictions_hc.loc[index, 'new_label'] = 2\n",
        "    if row['activityID'] == 2:\n",
        "        predictions_hc.loc[index, 'new_label'] = 3\n",
        "    if row['activityID'] == 3:\n",
        "        predictions_hc.loc[index, 'new_label'] = 4\n",
        "    if row['activityID'] == 7:\n",
        "        predictions_hc.loc[index, 'new_label'] = 5\n",
        "    if row['activityID'] == 1:\n",
        "        predictions_hc.loc[index, 'new_label'] = 6\n",
        "    if row['activityID'] == 6:\n",
        "        predictions_hc.loc[index, 'new_label'] = 7\n",
        "    if row['activityID'] == 5:\n",
        "        predictions_hc.loc[index, 'new_label'] = 8"
      ],
      "metadata": {
        "id": "tT3eGzSeuAir"
      },
      "outputs": [],
      "execution_count": null
    },
    {
      "cell_type": "code",
      "source": [
        "predictions_hc"
      ],
      "metadata": {
        "colab": {
          "base_uri": "https://localhost:8080/",
          "height": 424
        },
        "id": "x9Yq-CI2uP_B",
        "outputId": "4216bdb1-de12-4e3c-c2f7-9bf48a96b36f"
      },
      "outputs": [
        {
          "output_type": "execute_result",
          "data": {
            "text/plain": [
              "         index  activityID  new_label\n",
              "0            0           4        1.0\n",
              "1            1           0        2.0\n",
              "2            2           4        1.0\n",
              "3            3           0        2.0\n",
              "4            4           4        1.0\n",
              "...        ...         ...        ...\n",
              "534596  534596           0        2.0\n",
              "534597  534597           2        3.0\n",
              "534598  534598           2        3.0\n",
              "534599  534599           0        2.0\n",
              "534600  534600           4        1.0\n",
              "\n",
              "[534601 rows x 3 columns]"
            ],
            "text/html": [
              "\n",
              "  <div id=\"df-f9690df9-2b25-4c95-ad10-b6822d93218b\" class=\"colab-df-container\">\n",
              "    <div>\n",
              "<style scoped>\n",
              "    .dataframe tbody tr th:only-of-type {\n",
              "        vertical-align: middle;\n",
              "    }\n",
              "\n",
              "    .dataframe tbody tr th {\n",
              "        vertical-align: top;\n",
              "    }\n",
              "\n",
              "    .dataframe thead th {\n",
              "        text-align: right;\n",
              "    }\n",
              "</style>\n",
              "<table border=\"1\" class=\"dataframe\">\n",
              "  <thead>\n",
              "    <tr style=\"text-align: right;\">\n",
              "      <th></th>\n",
              "      <th>index</th>\n",
              "      <th>activityID</th>\n",
              "      <th>new_label</th>\n",
              "    </tr>\n",
              "  </thead>\n",
              "  <tbody>\n",
              "    <tr>\n",
              "      <th>0</th>\n",
              "      <td>0</td>\n",
              "      <td>4</td>\n",
              "      <td>1.0</td>\n",
              "    </tr>\n",
              "    <tr>\n",
              "      <th>1</th>\n",
              "      <td>1</td>\n",
              "      <td>0</td>\n",
              "      <td>2.0</td>\n",
              "    </tr>\n",
              "    <tr>\n",
              "      <th>2</th>\n",
              "      <td>2</td>\n",
              "      <td>4</td>\n",
              "      <td>1.0</td>\n",
              "    </tr>\n",
              "    <tr>\n",
              "      <th>3</th>\n",
              "      <td>3</td>\n",
              "      <td>0</td>\n",
              "      <td>2.0</td>\n",
              "    </tr>\n",
              "    <tr>\n",
              "      <th>4</th>\n",
              "      <td>4</td>\n",
              "      <td>4</td>\n",
              "      <td>1.0</td>\n",
              "    </tr>\n",
              "    <tr>\n",
              "      <th>...</th>\n",
              "      <td>...</td>\n",
              "      <td>...</td>\n",
              "      <td>...</td>\n",
              "    </tr>\n",
              "    <tr>\n",
              "      <th>534596</th>\n",
              "      <td>534596</td>\n",
              "      <td>0</td>\n",
              "      <td>2.0</td>\n",
              "    </tr>\n",
              "    <tr>\n",
              "      <th>534597</th>\n",
              "      <td>534597</td>\n",
              "      <td>2</td>\n",
              "      <td>3.0</td>\n",
              "    </tr>\n",
              "    <tr>\n",
              "      <th>534598</th>\n",
              "      <td>534598</td>\n",
              "      <td>2</td>\n",
              "      <td>3.0</td>\n",
              "    </tr>\n",
              "    <tr>\n",
              "      <th>534599</th>\n",
              "      <td>534599</td>\n",
              "      <td>0</td>\n",
              "      <td>2.0</td>\n",
              "    </tr>\n",
              "    <tr>\n",
              "      <th>534600</th>\n",
              "      <td>534600</td>\n",
              "      <td>4</td>\n",
              "      <td>1.0</td>\n",
              "    </tr>\n",
              "  </tbody>\n",
              "</table>\n",
              "<p>534601 rows × 3 columns</p>\n",
              "</div>\n",
              "    <div class=\"colab-df-buttons\">\n",
              "\n",
              "  <div class=\"colab-df-container\">\n",
              "    <button class=\"colab-df-convert\" onclick=\"convertToInteractive('df-f9690df9-2b25-4c95-ad10-b6822d93218b')\"\n",
              "            title=\"Convert this dataframe to an interactive table.\"\n",
              "            style=\"display:none;\">\n",
              "\n",
              "  <svg xmlns=\"http://www.w3.org/2000/svg\" height=\"24px\" viewBox=\"0 -960 960 960\">\n",
              "    <path d=\"M120-120v-720h720v720H120Zm60-500h600v-160H180v160Zm220 220h160v-160H400v160Zm0 220h160v-160H400v160ZM180-400h160v-160H180v160Zm440 0h160v-160H620v160ZM180-180h160v-160H180v160Zm440 0h160v-160H620v160Z\"/>\n",
              "  </svg>\n",
              "    </button>\n",
              "\n",
              "  <style>\n",
              "    .colab-df-container {\n",
              "      display:flex;\n",
              "      gap: 12px;\n",
              "    }\n",
              "\n",
              "    .colab-df-convert {\n",
              "      background-color: #E8F0FE;\n",
              "      border: none;\n",
              "      border-radius: 50%;\n",
              "      cursor: pointer;\n",
              "      display: none;\n",
              "      fill: #1967D2;\n",
              "      height: 32px;\n",
              "      padding: 0 0 0 0;\n",
              "      width: 32px;\n",
              "    }\n",
              "\n",
              "    .colab-df-convert:hover {\n",
              "      background-color: #E2EBFA;\n",
              "      box-shadow: 0px 1px 2px rgba(60, 64, 67, 0.3), 0px 1px 3px 1px rgba(60, 64, 67, 0.15);\n",
              "      fill: #174EA6;\n",
              "    }\n",
              "\n",
              "    .colab-df-buttons div {\n",
              "      margin-bottom: 4px;\n",
              "    }\n",
              "\n",
              "    [theme=dark] .colab-df-convert {\n",
              "      background-color: #3B4455;\n",
              "      fill: #D2E3FC;\n",
              "    }\n",
              "\n",
              "    [theme=dark] .colab-df-convert:hover {\n",
              "      background-color: #434B5C;\n",
              "      box-shadow: 0px 1px 3px 1px rgba(0, 0, 0, 0.15);\n",
              "      filter: drop-shadow(0px 1px 2px rgba(0, 0, 0, 0.3));\n",
              "      fill: #FFFFFF;\n",
              "    }\n",
              "  </style>\n",
              "\n",
              "    <script>\n",
              "      const buttonEl =\n",
              "        document.querySelector('#df-f9690df9-2b25-4c95-ad10-b6822d93218b button.colab-df-convert');\n",
              "      buttonEl.style.display =\n",
              "        google.colab.kernel.accessAllowed ? 'block' : 'none';\n",
              "\n",
              "      async function convertToInteractive(key) {\n",
              "        const element = document.querySelector('#df-f9690df9-2b25-4c95-ad10-b6822d93218b');\n",
              "        const dataTable =\n",
              "          await google.colab.kernel.invokeFunction('convertToInteractive',\n",
              "                                                    [key], {});\n",
              "        if (!dataTable) return;\n",
              "\n",
              "        const docLinkHtml = 'Like what you see? Visit the ' +\n",
              "          '<a target=\"_blank\" href=https://colab.research.google.com/notebooks/data_table.ipynb>data table notebook</a>'\n",
              "          + ' to learn more about interactive tables.';\n",
              "        element.innerHTML = '';\n",
              "        dataTable['output_type'] = 'display_data';\n",
              "        await google.colab.output.renderOutput(dataTable, element);\n",
              "        const docLink = document.createElement('div');\n",
              "        docLink.innerHTML = docLinkHtml;\n",
              "        element.appendChild(docLink);\n",
              "      }\n",
              "    </script>\n",
              "  </div>\n",
              "\n",
              "\n",
              "<div id=\"df-c8bc9755-2deb-4c51-a23b-55655c252de2\">\n",
              "  <button class=\"colab-df-quickchart\" onclick=\"quickchart('df-c8bc9755-2deb-4c51-a23b-55655c252de2')\"\n",
              "            title=\"Suggest charts\"\n",
              "            style=\"display:none;\">\n",
              "\n",
              "<svg xmlns=\"http://www.w3.org/2000/svg\" height=\"24px\"viewBox=\"0 0 24 24\"\n",
              "     width=\"24px\">\n",
              "    <g>\n",
              "        <path d=\"M19 3H5c-1.1 0-2 .9-2 2v14c0 1.1.9 2 2 2h14c1.1 0 2-.9 2-2V5c0-1.1-.9-2-2-2zM9 17H7v-7h2v7zm4 0h-2V7h2v10zm4 0h-2v-4h2v4z\"/>\n",
              "    </g>\n",
              "</svg>\n",
              "  </button>\n",
              "\n",
              "<style>\n",
              "  .colab-df-quickchart {\n",
              "      --bg-color: #E8F0FE;\n",
              "      --fill-color: #1967D2;\n",
              "      --hover-bg-color: #E2EBFA;\n",
              "      --hover-fill-color: #174EA6;\n",
              "      --disabled-fill-color: #AAA;\n",
              "      --disabled-bg-color: #DDD;\n",
              "  }\n",
              "\n",
              "  [theme=dark] .colab-df-quickchart {\n",
              "      --bg-color: #3B4455;\n",
              "      --fill-color: #D2E3FC;\n",
              "      --hover-bg-color: #434B5C;\n",
              "      --hover-fill-color: #FFFFFF;\n",
              "      --disabled-bg-color: #3B4455;\n",
              "      --disabled-fill-color: #666;\n",
              "  }\n",
              "\n",
              "  .colab-df-quickchart {\n",
              "    background-color: var(--bg-color);\n",
              "    border: none;\n",
              "    border-radius: 50%;\n",
              "    cursor: pointer;\n",
              "    display: none;\n",
              "    fill: var(--fill-color);\n",
              "    height: 32px;\n",
              "    padding: 0;\n",
              "    width: 32px;\n",
              "  }\n",
              "\n",
              "  .colab-df-quickchart:hover {\n",
              "    background-color: var(--hover-bg-color);\n",
              "    box-shadow: 0 1px 2px rgba(60, 64, 67, 0.3), 0 1px 3px 1px rgba(60, 64, 67, 0.15);\n",
              "    fill: var(--button-hover-fill-color);\n",
              "  }\n",
              "\n",
              "  .colab-df-quickchart-complete:disabled,\n",
              "  .colab-df-quickchart-complete:disabled:hover {\n",
              "    background-color: var(--disabled-bg-color);\n",
              "    fill: var(--disabled-fill-color);\n",
              "    box-shadow: none;\n",
              "  }\n",
              "\n",
              "  .colab-df-spinner {\n",
              "    border: 2px solid var(--fill-color);\n",
              "    border-color: transparent;\n",
              "    border-bottom-color: var(--fill-color);\n",
              "    animation:\n",
              "      spin 1s steps(1) infinite;\n",
              "  }\n",
              "\n",
              "  @keyframes spin {\n",
              "    0% {\n",
              "      border-color: transparent;\n",
              "      border-bottom-color: var(--fill-color);\n",
              "      border-left-color: var(--fill-color);\n",
              "    }\n",
              "    20% {\n",
              "      border-color: transparent;\n",
              "      border-left-color: var(--fill-color);\n",
              "      border-top-color: var(--fill-color);\n",
              "    }\n",
              "    30% {\n",
              "      border-color: transparent;\n",
              "      border-left-color: var(--fill-color);\n",
              "      border-top-color: var(--fill-color);\n",
              "      border-right-color: var(--fill-color);\n",
              "    }\n",
              "    40% {\n",
              "      border-color: transparent;\n",
              "      border-right-color: var(--fill-color);\n",
              "      border-top-color: var(--fill-color);\n",
              "    }\n",
              "    60% {\n",
              "      border-color: transparent;\n",
              "      border-right-color: var(--fill-color);\n",
              "    }\n",
              "    80% {\n",
              "      border-color: transparent;\n",
              "      border-right-color: var(--fill-color);\n",
              "      border-bottom-color: var(--fill-color);\n",
              "    }\n",
              "    90% {\n",
              "      border-color: transparent;\n",
              "      border-bottom-color: var(--fill-color);\n",
              "    }\n",
              "  }\n",
              "</style>\n",
              "\n",
              "  <script>\n",
              "    async function quickchart(key) {\n",
              "      const quickchartButtonEl =\n",
              "        document.querySelector('#' + key + ' button');\n",
              "      quickchartButtonEl.disabled = true;  // To prevent multiple clicks.\n",
              "      quickchartButtonEl.classList.add('colab-df-spinner');\n",
              "      try {\n",
              "        const charts = await google.colab.kernel.invokeFunction(\n",
              "            'suggestCharts', [key], {});\n",
              "      } catch (error) {\n",
              "        console.error('Error during call to suggestCharts:', error);\n",
              "      }\n",
              "      quickchartButtonEl.classList.remove('colab-df-spinner');\n",
              "      quickchartButtonEl.classList.add('colab-df-quickchart-complete');\n",
              "    }\n",
              "    (() => {\n",
              "      let quickchartButtonEl =\n",
              "        document.querySelector('#df-c8bc9755-2deb-4c51-a23b-55655c252de2 button');\n",
              "      quickchartButtonEl.style.display =\n",
              "        google.colab.kernel.accessAllowed ? 'block' : 'none';\n",
              "    })();\n",
              "  </script>\n",
              "</div>\n",
              "    </div>\n",
              "  </div>\n"
            ],
            "application/vnd.google.colaboratory.intrinsic+json": {
              "type": "dataframe",
              "variable_name": "predictions_hc"
            }
          },
          "metadata": {},
          "execution_count": 36
        }
      ],
      "execution_count": null
    },
    {
      "cell_type": "code",
      "source": [
        "predictions_hc = predictions_hc.drop(columns=['activityID'])\n",
        "predictions_hc.columns = ['index','activityID']"
      ],
      "metadata": {
        "id": "2o2IDHC_uU_4"
      },
      "outputs": [],
      "execution_count": null
    },
    {
      "cell_type": "code",
      "source": [
        "predictions_hc['activityID'] = predictions_hc['activityID'].apply(lambda x: int(x))"
      ],
      "metadata": {
        "id": "Na-OyVMFuXUp"
      },
      "outputs": [],
      "execution_count": null
    },
    {
      "cell_type": "code",
      "source": [
        "predictions_hc.to_csv('agglomerative_submition_2.csv', index = False)"
      ],
      "metadata": {
        "id": "W3UAO1I7uewW"
      },
      "outputs": [],
      "execution_count": null
    },
    {
      "cell_type": "markdown",
      "source": [
        "DBSCAN"
      ],
      "metadata": {
        "id": "amdYjmS1wbtc"
      }
    },
    {
      "cell_type": "code",
      "source": [
        "import numpy as np\n",
        "import matplotlib.pyplot as plt"
      ],
      "metadata": {
        "id": "5C6x0ZYsGwQc",
        "trusted": true,
        "execution": {
          "iopub.status.busy": "2025-04-14T09:16:26.869689Z",
          "iopub.execute_input": "2025-04-14T09:16:26.869991Z",
          "iopub.status.idle": "2025-04-14T09:16:26.873874Z",
          "shell.execute_reply.started": "2025-04-14T09:16:26.869969Z",
          "shell.execute_reply": "2025-04-14T09:16:26.873144Z"
        }
      },
      "outputs": [],
      "execution_count": null
    },
    {
      "cell_type": "code",
      "source": [
        "X_train_scaled = X_pca_manual[:30000]"
      ],
      "metadata": {
        "trusted": true,
        "execution": {
          "iopub.status.busy": "2025-04-14T09:16:28.412663Z",
          "iopub.execute_input": "2025-04-14T09:16:28.412947Z",
          "iopub.status.idle": "2025-04-14T09:16:28.416661Z",
          "shell.execute_reply.started": "2025-04-14T09:16:28.412926Z",
          "shell.execute_reply": "2025-04-14T09:16:28.415961Z"
        },
        "id": "LICvKgoHvkxe"
      },
      "outputs": [],
      "execution_count": null
    },
    {
      "cell_type": "code",
      "source": [
        "from cuml.neighbors import NearestNeighbors\n",
        "\n",
        "nbrs = NearestNeighbors(n_neighbors=5).fit(X_train_scaled)\n",
        "distances, _ = nbrs.kneighbors(X_train_scaled)\n",
        "\n",
        "distances = np.sort(distances[:, 4])\n",
        "plt.plot(distances)\n",
        "plt.xlabel(\"Точки данных\")\n",
        "plt.ylabel(\"Расстояние до 5-го ближайшего соседа\")\n",
        "plt.title(\"Выбор eps для DBSCAN\")\n",
        "plt.show()"
      ],
      "metadata": {
        "id": "eH7T0qIZwVTG",
        "colab": {
          "base_uri": "https://localhost:8080/",
          "height": 472
        },
        "outputId": "d7151742-ff53-4fde-ed17-5938d923f2e2",
        "trusted": true,
        "execution": {
          "iopub.status.busy": "2025-04-14T08:55:38.158422Z",
          "iopub.execute_input": "2025-04-14T08:55:38.158662Z",
          "iopub.status.idle": "2025-04-14T08:55:38.448381Z",
          "shell.execute_reply.started": "2025-04-14T08:55:38.158646Z",
          "shell.execute_reply": "2025-04-14T08:55:38.447582Z"
        }
      },
      "outputs": [
        {
          "output_type": "display_data",
          "data": {
            "text/plain": "<Figure size 640x480 with 1 Axes>",
            "image/png": "[encoded data removed]"
          },
          "metadata": {}
        }
      ],
      "execution_count": null
    },
    {
      "cell_type": "code",
      "source": [
        "df_scaled = pd.DataFrame(df_scaled, columns=df_filled.columns)"
      ],
      "metadata": {
        "trusted": true,
        "execution": {
          "iopub.status.busy": "2025-04-14T07:58:18.715519Z",
          "iopub.execute_input": "2025-04-14T07:58:18.716008Z",
          "iopub.status.idle": "2025-04-14T07:58:18.719734Z",
          "shell.execute_reply.started": "2025-04-14T07:58:18.715979Z",
          "shell.execute_reply": "2025-04-14T07:58:18.718865Z"
        },
        "id": "9Ljsa8mhvkxe"
      },
      "outputs": [],
      "execution_count": null
    },
    {
      "cell_type": "code",
      "source": [
        "df_scaled"
      ],
      "metadata": {
        "trusted": true,
        "execution": {
          "iopub.status.busy": "2025-04-14T07:58:21.612674Z",
          "iopub.execute_input": "2025-04-14T07:58:21.613282Z",
          "iopub.status.idle": "2025-04-14T07:58:21.693958Z",
          "shell.execute_reply.started": "2025-04-14T07:58:21.613257Z",
          "shell.execute_reply": "2025-04-14T07:58:21.693193Z"
        },
        "id": "sEsRwMUlvkxf",
        "outputId": "73430895-9e8f-47e1-ccd6-decaf61d0ea8"
      },
      "outputs": [
        {
          "execution_count": 40,
          "output_type": "execute_result",
          "data": {
            "text/plain": "        timestamp  handTemperature  handAcc16_1  handAcc16_2   handAcc16_3  \\\n0       -1.077886     1.386442e+00     0.758769     0.585934  5.117224e-01   \n1        1.655200    -1.545144e+00     0.052017     0.072218  1.100504e+00   \n2       -0.875290     1.100434e+00     0.345083    -1.784680 -8.661045e-01   \n3        0.971193    -2.938570e-01    -1.254669     0.363012 -8.331812e-01   \n4       -0.926540     5.999193e-01     0.628456     0.753606  8.353575e-02   \n...           ...              ...          ...          ...           ...   \n534596   1.516186     8.144256e-01    -0.660810     0.202770 -3.115757e-01   \n534597   0.687313     4.064424e-15     0.000000     0.000000  2.327056e-16   \n534598   0.712516     1.279189e+00    -0.274654    -0.127926 -4.904008e-01   \n534599   1.482655    -2.510422e+00     1.406804     0.999692 -3.446044e+00   \n534600  -0.628495     4.926661e-01    -0.680945    -0.171731 -3.803358e-01   \n\n          handAcc6_1    handAcc6_2  handAcc6_3     handGyro1  handGyro2  ...  \\\n0       7.642506e-01  6.181657e-01    0.536072 -1.133458e-02  -0.026738  ...   \n1      -2.267199e-01  6.551038e-04    0.695050  1.080767e-01  -0.438384  ...   \n2       3.652836e-01 -1.872793e+00   -0.837497  2.507819e-02   0.014499  ...   \n3      -1.311468e+00  3.943481e-01   -0.898770  1.492130e+00  -0.085878  ...   \n4       6.418530e-01  7.822900e-01    0.146993  1.656410e-03  -0.039189  ...   \n...              ...           ...         ...           ...        ...  ...   \n534596 -7.545546e-01  5.209291e-01   -0.075398 -1.285381e-01   0.807289  ...   \n534597  1.261225e-16  6.493689e-17    0.000000 -1.500992e-18   0.000000  ...   \n534598 -2.820948e-01 -1.298126e-01   -0.434634  1.862056e-01  -0.420456  ...   \n534599  1.806932e+00  3.724246e-01   -2.732899  3.074073e+00   2.955090  ...   \n534600 -6.674864e-01 -1.821245e-01   -0.374210  6.142227e-03  -0.049812  ...   \n\n        ankleGyro2  ankleGyro3  ankleMagne1  ankleMagne2  ankleMagne3  \\\n0         0.010213    0.013752     0.737963     1.135940    -1.146924   \n1        -1.033834    0.878227    -0.211312    -0.805741    -0.897704   \n2         0.035911   -0.004373     0.516111     0.639334     0.591636   \n3        -0.213098   -1.722033     0.104606     1.452290     0.369669   \n4         0.006056   -0.002974     0.569975    -0.275392    -0.208698   \n...            ...         ...          ...          ...          ...   \n534596    0.739322   -0.422962     0.194538    -1.156361     0.497737   \n534597   -2.811629   -1.503158    -0.360690     1.337209     0.095073   \n534598   -0.003617   -0.199049    -1.087137     0.832802    -0.875536   \n534599    0.621955   -2.747109    -0.280344    -0.594332     1.400194   \n534600    0.025706    0.001742     1.440705    -0.834448     0.025646   \n\n        ankleOrientation1  ankleOrientation2  ankleOrientation3  \\\n0               -0.511565           0.787192           1.338432   \n1                0.725947          -0.852302           0.298067   \n2               -0.733303           1.375606           0.262860   \n3                0.186813           1.566983           0.008581   \n4               -0.628965          -1.177727          -0.147122   \n...                   ...                ...                ...   \n534596          -0.139712          -1.094544           0.734492   \n534597           0.251976           1.347038           0.198422   \n534598           0.670446           0.697140           1.319698   \n534599          -0.991552          -1.267971          -1.048725   \n534600          -0.120290          -1.110768          -0.221697   \n\n        ankleOrientation4  subject_id  \n0               -0.708970    0.190410  \n1               -0.537297   -1.103768  \n2                1.677074    1.484589  \n3                1.115497   -1.103768  \n4               -0.892024    0.621803  \n...                   ...         ...  \n534596          -0.296437    0.190410  \n534597           1.416716    0.190410  \n534598           0.700236    0.190410  \n534599          -0.907089    0.621803  \n534600          -0.875747   -0.240982  \n\n[534601 rows x 53 columns]",
            "text/html": "<div>\n<style scoped>\n    .dataframe tbody tr th:only-of-type {\n        vertical-align: middle;\n    }\n\n    .dataframe tbody tr th {\n        vertical-align: top;\n    }\n\n    .dataframe thead th {\n        text-align: right;\n    }\n</style>\n<table border=\"1\" class=\"dataframe\">\n  <thead>\n    <tr style=\"text-align: right;\">\n      <th></th>\n      <th>timestamp</th>\n      <th>handTemperature</th>\n      <th>handAcc16_1</th>\n      <th>handAcc16_2</th>\n      <th>handAcc16_3</th>\n      <th>handAcc6_1</th>\n      <th>handAcc6_2</th>\n      <th>handAcc6_3</th>\n      <th>handGyro1</th>\n      <th>handGyro2</th>\n      <th>...</th>\n      <th>ankleGyro2</th>\n      <th>ankleGyro3</th>\n      <th>ankleMagne1</th>\n      <th>ankleMagne2</th>\n      <th>ankleMagne3</th>\n      <th>ankleOrientation1</th>\n      <th>ankleOrientation2</th>\n      <th>ankleOrientation3</th>\n      <th>ankleOrientation4</th>\n      <th>subject_id</th>\n    </tr>\n  </thead>\n  <tbody>\n    <tr>\n      <th>0</th>\n      <td>-1.077886</td>\n      <td>1.386442e+00</td>\n      <td>0.758769</td>\n      <td>0.585934</td>\n      <td>5.117224e-01</td>\n      <td>7.642506e-01</td>\n      <td>6.181657e-01</td>\n      <td>0.536072</td>\n      <td>-1.133458e-02</td>\n      <td>-0.026738</td>\n      <td>...</td>\n      <td>0.010213</td>\n      <td>0.013752</td>\n      <td>0.737963</td>\n      <td>1.135940</td>\n      <td>-1.146924</td>\n      <td>-0.511565</td>\n      <td>0.787192</td>\n      <td>1.338432</td>\n      <td>-0.708970</td>\n      <td>0.190410</td>\n    </tr>\n    <tr>\n      <th>1</th>\n      <td>1.655200</td>\n      <td>-1.545144e+00</td>\n      <td>0.052017</td>\n      <td>0.072218</td>\n      <td>1.100504e+00</td>\n      <td>-2.267199e-01</td>\n      <td>6.551038e-04</td>\n      <td>0.695050</td>\n      <td>1.080767e-01</td>\n      <td>-0.438384</td>\n      <td>...</td>\n      <td>-1.033834</td>\n      <td>0.878227</td>\n      <td>-0.211312</td>\n      <td>-0.805741</td>\n      <td>-0.897704</td>\n      <td>0.725947</td>\n      <td>-0.852302</td>\n      <td>0.298067</td>\n      <td>-0.537297</td>\n      <td>-1.103768</td>\n    </tr>\n    <tr>\n      <th>2</th>\n      <td>-0.875290</td>\n      <td>1.100434e+00</td>\n      <td>0.345083</td>\n      <td>-1.784680</td>\n      <td>-8.661045e-01</td>\n      <td>3.652836e-01</td>\n      <td>-1.872793e+00</td>\n      <td>-0.837497</td>\n      <td>2.507819e-02</td>\n      <td>0.014499</td>\n      <td>...</td>\n      <td>0.035911</td>\n      <td>-0.004373</td>\n      <td>0.516111</td>\n      <td>0.639334</td>\n      <td>0.591636</td>\n      <td>-0.733303</td>\n      <td>1.375606</td>\n      <td>0.262860</td>\n      <td>1.677074</td>\n      <td>1.484589</td>\n    </tr>\n    <tr>\n      <th>3</th>\n      <td>0.971193</td>\n      <td>-2.938570e-01</td>\n      <td>-1.254669</td>\n      <td>0.363012</td>\n      <td>-8.331812e-01</td>\n      <td>-1.311468e+00</td>\n      <td>3.943481e-01</td>\n      <td>-0.898770</td>\n      <td>1.492130e+00</td>\n      <td>-0.085878</td>\n      <td>...</td>\n      <td>-0.213098</td>\n      <td>-1.722033</td>\n      <td>0.104606</td>\n      <td>1.452290</td>\n      <td>0.369669</td>\n      <td>0.186813</td>\n      <td>1.566983</td>\n      <td>0.008581</td>\n      <td>1.115497</td>\n      <td>-1.103768</td>\n    </tr>\n    <tr>\n      <th>4</th>\n      <td>-0.926540</td>\n      <td>5.999193e-01</td>\n      <td>0.628456</td>\n      <td>0.753606</td>\n      <td>8.353575e-02</td>\n      <td>6.418530e-01</td>\n      <td>7.822900e-01</td>\n      <td>0.146993</td>\n      <td>1.656410e-03</td>\n      <td>-0.039189</td>\n      <td>...</td>\n      <td>0.006056</td>\n      <td>-0.002974</td>\n      <td>0.569975</td>\n      <td>-0.275392</td>\n      <td>-0.208698</td>\n      <td>-0.628965</td>\n      <td>-1.177727</td>\n      <td>-0.147122</td>\n      <td>-0.892024</td>\n      <td>0.621803</td>\n    </tr>\n    <tr>\n      <th>...</th>\n      <td>...</td>\n      <td>...</td>\n      <td>...</td>\n      <td>...</td>\n      <td>...</td>\n      <td>...</td>\n      <td>...</td>\n      <td>...</td>\n      <td>...</td>\n      <td>...</td>\n      <td>...</td>\n      <td>...</td>\n      <td>...</td>\n      <td>...</td>\n      <td>...</td>\n      <td>...</td>\n      <td>...</td>\n      <td>...</td>\n      <td>...</td>\n      <td>...</td>\n      <td>...</td>\n    </tr>\n    <tr>\n      <th>534596</th>\n      <td>1.516186</td>\n      <td>8.144256e-01</td>\n      <td>-0.660810</td>\n      <td>0.202770</td>\n      <td>-3.115757e-01</td>\n      <td>-7.545546e-01</td>\n      <td>5.209291e-01</td>\n      <td>-0.075398</td>\n      <td>-1.285381e-01</td>\n      <td>0.807289</td>\n      <td>...</td>\n      <td>0.739322</td>\n      <td>-0.422962</td>\n      <td>0.194538</td>\n      <td>-1.156361</td>\n      <td>0.497737</td>\n      <td>-0.139712</td>\n      <td>-1.094544</td>\n      <td>0.734492</td>\n      <td>-0.296437</td>\n      <td>0.190410</td>\n    </tr>\n    <tr>\n      <th>534597</th>\n      <td>0.687313</td>\n      <td>4.064424e-15</td>\n      <td>0.000000</td>\n      <td>0.000000</td>\n      <td>2.327056e-16</td>\n      <td>1.261225e-16</td>\n      <td>6.493689e-17</td>\n      <td>0.000000</td>\n      <td>-1.500992e-18</td>\n      <td>0.000000</td>\n      <td>...</td>\n      <td>-2.811629</td>\n      <td>-1.503158</td>\n      <td>-0.360690</td>\n      <td>1.337209</td>\n      <td>0.095073</td>\n      <td>0.251976</td>\n      <td>1.347038</td>\n      <td>0.198422</td>\n      <td>1.416716</td>\n      <td>0.190410</td>\n    </tr>\n    <tr>\n      <th>534598</th>\n      <td>0.712516</td>\n      <td>1.279189e+00</td>\n      <td>-0.274654</td>\n      <td>-0.127926</td>\n      <td>-4.904008e-01</td>\n      <td>-2.820948e-01</td>\n      <td>-1.298126e-01</td>\n      <td>-0.434634</td>\n      <td>1.862056e-01</td>\n      <td>-0.420456</td>\n      <td>...</td>\n      <td>-0.003617</td>\n      <td>-0.199049</td>\n      <td>-1.087137</td>\n      <td>0.832802</td>\n      <td>-0.875536</td>\n      <td>0.670446</td>\n      <td>0.697140</td>\n      <td>1.319698</td>\n      <td>0.700236</td>\n      <td>0.190410</td>\n    </tr>\n    <tr>\n      <th>534599</th>\n      <td>1.482655</td>\n      <td>-2.510422e+00</td>\n      <td>1.406804</td>\n      <td>0.999692</td>\n      <td>-3.446044e+00</td>\n      <td>1.806932e+00</td>\n      <td>3.724246e-01</td>\n      <td>-2.732899</td>\n      <td>3.074073e+00</td>\n      <td>2.955090</td>\n      <td>...</td>\n      <td>0.621955</td>\n      <td>-2.747109</td>\n      <td>-0.280344</td>\n      <td>-0.594332</td>\n      <td>1.400194</td>\n      <td>-0.991552</td>\n      <td>-1.267971</td>\n      <td>-1.048725</td>\n      <td>-0.907089</td>\n      <td>0.621803</td>\n    </tr>\n    <tr>\n      <th>534600</th>\n      <td>-0.628495</td>\n      <td>4.926661e-01</td>\n      <td>-0.680945</td>\n      <td>-0.171731</td>\n      <td>-3.803358e-01</td>\n      <td>-6.674864e-01</td>\n      <td>-1.821245e-01</td>\n      <td>-0.374210</td>\n      <td>6.142227e-03</td>\n      <td>-0.049812</td>\n      <td>...</td>\n      <td>0.025706</td>\n      <td>0.001742</td>\n      <td>1.440705</td>\n      <td>-0.834448</td>\n      <td>0.025646</td>\n      <td>-0.120290</td>\n      <td>-1.110768</td>\n      <td>-0.221697</td>\n      <td>-0.875747</td>\n      <td>-0.240982</td>\n    </tr>\n  </tbody>\n</table>\n<p>534601 rows × 53 columns</p>\n</div>"
          },
          "metadata": {}
        }
      ],
      "execution_count": null
    },
    {
      "cell_type": "code",
      "source": [
        "from cuml.cluster import DBSCAN\n",
        "eps = 0.5\n",
        "min_samples = 1\n",
        "step_eps = 0.5\n",
        "step_min_samples = 2\n",
        "\n",
        "for i in range(100):\n",
        "    dbscan = DBSCAN(eps=eps, min_samples=min_samples)\n",
        "    labels = dbscan.fit_predict(X_train_scaled)\n",
        "\n",
        "    if len(np.unique(labels)) == 4:\n",
        "        print(f\"Найдены параметры: eps={eps}, min_samples={min_samples}\")\n",
        "        found = True\n",
        "        break\n",
        "\n",
        "    eps += step_eps\n",
        "    min_samples += step_min_samples"
      ],
      "metadata": {
        "id": "SyhoT0dgG9rt",
        "trusted": true,
        "execution": {
          "iopub.status.busy": "2025-04-14T08:54:09.141749Z",
          "iopub.execute_input": "2025-04-14T08:54:09.142297Z",
          "iopub.status.idle": "2025-04-14T08:55:21.833062Z",
          "shell.execute_reply.started": "2025-04-14T08:54:09.142275Z",
          "shell.execute_reply": "2025-04-14T08:55:21.832208Z"
        }
      },
      "outputs": [],
      "execution_count": null
    },
    {
      "cell_type": "code",
      "source": [
        "dbscan = DBSCAN(eps=5, min_samples=54)\n",
        "labels = dbscan.fit(X_train_scaled)"
      ],
      "metadata": {
        "id": "W1hVX82uRB28",
        "trusted": true,
        "execution": {
          "iopub.status.busy": "2025-04-14T08:56:02.470366Z",
          "iopub.execute_input": "2025-04-14T08:56:02.470643Z",
          "iopub.status.idle": "2025-04-14T08:56:03.173679Z",
          "shell.execute_reply.started": "2025-04-14T08:56:02.470623Z",
          "shell.execute_reply": "2025-04-14T08:56:03.172933Z"
        }
      },
      "outputs": [],
      "execution_count": null
    },
    {
      "cell_type": "code",
      "source": [
        "np.unique(labels.labels_)"
      ],
      "metadata": {
        "colab": {
          "base_uri": "https://localhost:8080/"
        },
        "id": "1Xa_2RGlOFgE",
        "outputId": "1780cf4f-d75e-4e87-fc5e-880ef73891e8",
        "trusted": true,
        "execution": {
          "iopub.status.busy": "2025-04-14T08:56:04.239069Z",
          "iopub.execute_input": "2025-04-14T08:56:04.239378Z",
          "iopub.status.idle": "2025-04-14T08:56:04.244999Z",
          "shell.execute_reply.started": "2025-04-14T08:56:04.239358Z",
          "shell.execute_reply": "2025-04-14T08:56:04.244343Z"
        }
      },
      "outputs": [
        {
          "execution_count": 116,
          "output_type": "execute_result",
          "data": {
            "text/plain": "array([-1,  0,  1,  2,  3,  4], dtype=int32)"
          },
          "metadata": {}
        }
      ],
      "execution_count": null
    },
    {
      "cell_type": "code",
      "source": [
        "label = dbscan.fit_predict(X_pca_manual)"
      ],
      "metadata": {
        "colab": {
          "base_uri": "https://localhost:8080/"
        },
        "id": "kQ3CCu3qZ23I",
        "outputId": "4032cfac-e6d1-486b-c9a3-b165c734dc63",
        "trusted": true,
        "execution": {
          "iopub.status.busy": "2025-04-14T08:56:14.764076Z",
          "iopub.execute_input": "2025-04-14T08:56:14.76441Z",
          "iopub.status.idle": "2025-04-14T09:02:13.413905Z",
          "shell.execute_reply.started": "2025-04-14T08:56:14.764385Z",
          "shell.execute_reply": "2025-04-14T09:02:13.413206Z"
        }
      },
      "outputs": [
        {
          "name": "stdout",
          "text": "[2025-04-14 08:56:14.800] [CUML] [warning] Batch size limited by the chosen integer type (4 bytes). 4692 -> 4016. Using the larger integer type might result in better performance\n",
          "output_type": "stream"
        }
      ],
      "execution_count": null
    },
    {
      "cell_type": "code",
      "source": [
        "np.unique(label)"
      ],
      "metadata": {
        "colab": {
          "base_uri": "https://localhost:8080/",
          "height": 141
        },
        "id": "16-oefE4Wppe",
        "outputId": "f04b7761-20e3-4cea-abd3-c3a1212ab460",
        "trusted": true,
        "execution": {
          "iopub.status.busy": "2025-04-14T09:02:18.636477Z",
          "iopub.execute_input": "2025-04-14T09:02:18.636739Z",
          "iopub.status.idle": "2025-04-14T09:02:18.655426Z",
          "shell.execute_reply.started": "2025-04-14T09:02:18.636719Z",
          "shell.execute_reply": "2025-04-14T09:02:18.654797Z"
        }
      },
      "outputs": [
        {
          "execution_count": 118,
          "output_type": "execute_result",
          "data": {
            "text/plain": "array([-1,  0,  1,  2,  3,  4,  5,  6,  7,  8,  9], dtype=int32)"
          },
          "metadata": {}
        }
      ],
      "execution_count": null
    },
    {
      "cell_type": "code",
      "source": [
        "predictions_db = pd.DataFrame(label, columns=['activityID'])\n",
        "predictions_db = predictions_db.reset_index()"
      ],
      "metadata": {
        "id": "E39KBeJKOPza",
        "trusted": true,
        "execution": {
          "iopub.status.busy": "2025-04-14T09:07:17.887719Z",
          "iopub.execute_input": "2025-04-14T09:07:17.888613Z",
          "iopub.status.idle": "2025-04-14T09:07:17.89381Z",
          "shell.execute_reply.started": "2025-04-14T09:07:17.888589Z",
          "shell.execute_reply": "2025-04-14T09:07:17.893192Z"
        }
      },
      "outputs": [],
      "execution_count": null
    },
    {
      "cell_type": "code",
      "source": [
        "predictions_db['activityID'].unique()"
      ],
      "metadata": {
        "colab": {
          "base_uri": "https://localhost:8080/"
        },
        "id": "6lyM3qPbW54G",
        "outputId": "66ce06de-4f36-4eb1-fa0b-57767a56930c",
        "trusted": true,
        "execution": {
          "iopub.status.busy": "2025-04-14T09:07:20.232285Z",
          "iopub.execute_input": "2025-04-14T09:07:20.233024Z",
          "iopub.status.idle": "2025-04-14T09:07:20.242854Z",
          "shell.execute_reply.started": "2025-04-14T09:07:20.232988Z",
          "shell.execute_reply": "2025-04-14T09:07:20.24193Z"
        }
      },
      "outputs": [
        {
          "execution_count": 127,
          "output_type": "execute_result",
          "data": {
            "text/plain": "array([ 0, -1,  1,  2,  9,  3,  7,  4,  6,  8,  5], dtype=int32)"
          },
          "metadata": {}
        }
      ],
      "execution_count": null
    },
    {
      "cell_type": "code",
      "source": [
        "for index, row in predictions_db.iterrows():\n",
        "    if row['activityID'] == 0:\n",
        "        predictions_db.loc[index, 'new_label'] = 1\n",
        "    if row['activityID'] == -1:\n",
        "        predictions_db.loc[index, 'new_label'] = 2\n",
        "    if row['activityID'] == 1:\n",
        "        predictions_db.loc[index, 'new_label'] = 3\n",
        "    if row['activityID'] == 2:\n",
        "        predictions_db.loc[index, 'new_label'] = 4\n",
        "    if row['activityID'] == 9:\n",
        "        predictions_db.loc[index, 'new_label'] = 5\n",
        "    if row['activityID'] == 3:\n",
        "        predictions_db.loc[index, 'new_label'] = 6\n",
        "    if row['activityID'] == 7:\n",
        "        predictions_db.loc[index, 'new_label'] = 7\n",
        "    if row['activityID'] == 4:\n",
        "        predictions_db.loc[index, 'new_label'] = 8\n",
        "    if row['activityID'] == 6:\n",
        "        predictions_db.loc[index, 'new_label'] = 9\n",
        "    if row['activityID'] == 8:\n",
        "        predictions_db.loc[index, 'new_label'] = 10\n",
        "    if row['activityID'] == 5:\n",
        "        predictions_db.loc[index, 'new_label'] = 11"
      ],
      "metadata": {
        "id": "1B_s24LrWxfF",
        "trusted": true,
        "execution": {
          "iopub.status.busy": "2025-04-14T09:07:25.906816Z",
          "iopub.execute_input": "2025-04-14T09:07:25.907293Z",
          "iopub.status.idle": "2025-04-14T09:08:49.953262Z",
          "shell.execute_reply.started": "2025-04-14T09:07:25.907269Z",
          "shell.execute_reply": "2025-04-14T09:08:49.952706Z"
        }
      },
      "outputs": [],
      "execution_count": null
    },
    {
      "cell_type": "code",
      "source": [
        "predictions_db"
      ],
      "metadata": {
        "trusted": true,
        "execution": {
          "iopub.status.busy": "2025-04-14T09:08:53.374087Z",
          "iopub.execute_input": "2025-04-14T09:08:53.374819Z",
          "iopub.status.idle": "2025-04-14T09:08:53.383509Z",
          "shell.execute_reply.started": "2025-04-14T09:08:53.374794Z",
          "shell.execute_reply": "2025-04-14T09:08:53.382575Z"
        },
        "id": "TgAc1t74vkxh",
        "outputId": "0b2b4f12-66f3-4b06-cd20-cddd195181b0"
      },
      "outputs": [
        {
          "execution_count": 129,
          "output_type": "execute_result",
          "data": {
            "text/plain": "         index  activityID  new_label\n0            0           0        1.0\n1            1           0        1.0\n2            2           0        1.0\n3            3           0        1.0\n4            4           0        1.0\n...        ...         ...        ...\n534596  534596           0        1.0\n534597  534597           0        1.0\n534598  534598           0        1.0\n534599  534599          -1        2.0\n534600  534600           0        1.0\n\n[534601 rows x 3 columns]",
            "text/html": "<div>\n<style scoped>\n    .dataframe tbody tr th:only-of-type {\n        vertical-align: middle;\n    }\n\n    .dataframe tbody tr th {\n        vertical-align: top;\n    }\n\n    .dataframe thead th {\n        text-align: right;\n    }\n</style>\n<table border=\"1\" class=\"dataframe\">\n  <thead>\n    <tr style=\"text-align: right;\">\n      <th></th>\n      <th>index</th>\n      <th>activityID</th>\n      <th>new_label</th>\n    </tr>\n  </thead>\n  <tbody>\n    <tr>\n      <th>0</th>\n      <td>0</td>\n      <td>0</td>\n      <td>1.0</td>\n    </tr>\n    <tr>\n      <th>1</th>\n      <td>1</td>\n      <td>0</td>\n      <td>1.0</td>\n    </tr>\n    <tr>\n      <th>2</th>\n      <td>2</td>\n      <td>0</td>\n      <td>1.0</td>\n    </tr>\n    <tr>\n      <th>3</th>\n      <td>3</td>\n      <td>0</td>\n      <td>1.0</td>\n    </tr>\n    <tr>\n      <th>4</th>\n      <td>4</td>\n      <td>0</td>\n      <td>1.0</td>\n    </tr>\n    <tr>\n      <th>...</th>\n      <td>...</td>\n      <td>...</td>\n      <td>...</td>\n    </tr>\n    <tr>\n      <th>534596</th>\n      <td>534596</td>\n      <td>0</td>\n      <td>1.0</td>\n    </tr>\n    <tr>\n      <th>534597</th>\n      <td>534597</td>\n      <td>0</td>\n      <td>1.0</td>\n    </tr>\n    <tr>\n      <th>534598</th>\n      <td>534598</td>\n      <td>0</td>\n      <td>1.0</td>\n    </tr>\n    <tr>\n      <th>534599</th>\n      <td>534599</td>\n      <td>-1</td>\n      <td>2.0</td>\n    </tr>\n    <tr>\n      <th>534600</th>\n      <td>534600</td>\n      <td>0</td>\n      <td>1.0</td>\n    </tr>\n  </tbody>\n</table>\n<p>534601 rows × 3 columns</p>\n</div>"
          },
          "metadata": {}
        }
      ],
      "execution_count": null
    },
    {
      "cell_type": "code",
      "source": [
        "predictions_db = predictions_db.drop(columns=['activityID'])\n",
        "predictions_db.columns = ['index','activityID']"
      ],
      "metadata": {
        "id": "B8f9hqh0PblP",
        "trusted": true,
        "execution": {
          "iopub.status.busy": "2025-04-14T09:08:59.712306Z",
          "iopub.execute_input": "2025-04-14T09:08:59.712858Z",
          "iopub.status.idle": "2025-04-14T09:08:59.719848Z",
          "shell.execute_reply.started": "2025-04-14T09:08:59.712838Z",
          "shell.execute_reply": "2025-04-14T09:08:59.719278Z"
        }
      },
      "outputs": [],
      "execution_count": null
    },
    {
      "cell_type": "code",
      "source": [
        "predictions_db"
      ],
      "metadata": {
        "colab": {
          "base_uri": "https://localhost:8080/",
          "height": 424
        },
        "id": "A-TnzkI-OTYe",
        "outputId": "f87cdab7-30a5-4d71-cc19-3606b499547d",
        "trusted": true,
        "execution": {
          "iopub.status.busy": "2025-04-14T09:09:01.848453Z",
          "iopub.execute_input": "2025-04-14T09:09:01.848715Z",
          "iopub.status.idle": "2025-04-14T09:09:01.857079Z",
          "shell.execute_reply.started": "2025-04-14T09:09:01.848696Z",
          "shell.execute_reply": "2025-04-14T09:09:01.856413Z"
        }
      },
      "outputs": [
        {
          "execution_count": 131,
          "output_type": "execute_result",
          "data": {
            "text/plain": "         index  activityID\n0            0         1.0\n1            1         1.0\n2            2         1.0\n3            3         1.0\n4            4         1.0\n...        ...         ...\n534596  534596         1.0\n534597  534597         1.0\n534598  534598         1.0\n534599  534599         2.0\n534600  534600         1.0\n\n[534601 rows x 2 columns]",
            "text/html": "<div>\n<style scoped>\n    .dataframe tbody tr th:only-of-type {\n        vertical-align: middle;\n    }\n\n    .dataframe tbody tr th {\n        vertical-align: top;\n    }\n\n    .dataframe thead th {\n        text-align: right;\n    }\n</style>\n<table border=\"1\" class=\"dataframe\">\n  <thead>\n    <tr style=\"text-align: right;\">\n      <th></th>\n      <th>index</th>\n      <th>activityID</th>\n    </tr>\n  </thead>\n  <tbody>\n    <tr>\n      <th>0</th>\n      <td>0</td>\n      <td>1.0</td>\n    </tr>\n    <tr>\n      <th>1</th>\n      <td>1</td>\n      <td>1.0</td>\n    </tr>\n    <tr>\n      <th>2</th>\n      <td>2</td>\n      <td>1.0</td>\n    </tr>\n    <tr>\n      <th>3</th>\n      <td>3</td>\n      <td>1.0</td>\n    </tr>\n    <tr>\n      <th>4</th>\n      <td>4</td>\n      <td>1.0</td>\n    </tr>\n    <tr>\n      <th>...</th>\n      <td>...</td>\n      <td>...</td>\n    </tr>\n    <tr>\n      <th>534596</th>\n      <td>534596</td>\n      <td>1.0</td>\n    </tr>\n    <tr>\n      <th>534597</th>\n      <td>534597</td>\n      <td>1.0</td>\n    </tr>\n    <tr>\n      <th>534598</th>\n      <td>534598</td>\n      <td>1.0</td>\n    </tr>\n    <tr>\n      <th>534599</th>\n      <td>534599</td>\n      <td>2.0</td>\n    </tr>\n    <tr>\n      <th>534600</th>\n      <td>534600</td>\n      <td>1.0</td>\n    </tr>\n  </tbody>\n</table>\n<p>534601 rows × 2 columns</p>\n</div>"
          },
          "metadata": {}
        }
      ],
      "execution_count": null
    },
    {
      "cell_type": "code",
      "source": [
        "predictions_db['activityID'].value_counts()"
      ],
      "metadata": {
        "trusted": true,
        "execution": {
          "iopub.status.busy": "2025-04-14T09:09:04.670326Z",
          "iopub.execute_input": "2025-04-14T09:09:04.670585Z",
          "iopub.status.idle": "2025-04-14T09:09:04.682361Z",
          "shell.execute_reply.started": "2025-04-14T09:09:04.670565Z",
          "shell.execute_reply": "2025-04-14T09:09:04.681447Z"
        },
        "id": "VU9Kc_avvkxi",
        "outputId": "dfdec08e-4156-4453-c266-bc7d5e90daf1"
      },
      "outputs": [
        {
          "execution_count": 132,
          "output_type": "execute_result",
          "data": {
            "text/plain": "activityID\n1.0     509539\n3.0      11524\n2.0      10474\n4.0       2631\n6.0        132\n8.0         66\n5.0         59\n7.0         55\n10.0        53\n9.0         43\n11.0        25\nName: count, dtype: int64"
          },
          "metadata": {}
        }
      ],
      "execution_count": null
    },
    {
      "cell_type": "code",
      "source": [
        "predictions_db['activityID'] = predictions_db['activityID'].apply(lambda x: int(x))"
      ],
      "metadata": {
        "id": "rTFDDe4pXfvl",
        "trusted": true,
        "execution": {
          "iopub.status.busy": "2025-04-14T09:09:18.454347Z",
          "iopub.execute_input": "2025-04-14T09:09:18.454619Z",
          "iopub.status.idle": "2025-04-14T09:09:18.659924Z",
          "shell.execute_reply.started": "2025-04-14T09:09:18.454598Z",
          "shell.execute_reply": "2025-04-14T09:09:18.659376Z"
        }
      },
      "outputs": [],
      "execution_count": null
    },
    {
      "cell_type": "code",
      "source": [
        "predictions_db.to_csv('db_pca.csv', index=False)"
      ],
      "metadata": {
        "id": "yQApyTtzOpna",
        "trusted": true,
        "execution": {
          "iopub.status.busy": "2025-04-14T09:09:31.180897Z",
          "iopub.execute_input": "2025-04-14T09:09:31.18169Z",
          "iopub.status.idle": "2025-04-14T09:09:31.521531Z",
          "shell.execute_reply.started": "2025-04-14T09:09:31.181666Z",
          "shell.execute_reply": "2025-04-14T09:09:31.520723Z"
        }
      },
      "outputs": [],
      "execution_count": null
    },
    {
      "cell_type": "code",
      "source": [
        "import cuml\n",
        "print(cuml.__version__)"
      ],
      "metadata": {
        "trusted": true,
        "execution": {
          "iopub.status.busy": "2025-04-14T09:18:19.195725Z",
          "iopub.execute_input": "2025-04-14T09:18:19.196439Z",
          "iopub.status.idle": "2025-04-14T09:18:19.2004Z",
          "shell.execute_reply.started": "2025-04-14T09:18:19.196412Z",
          "shell.execute_reply": "2025-04-14T09:18:19.199674Z"
        },
        "id": "ovN4brF1vkxj",
        "outputId": "c40aeeef-1e4a-4f61-854b-712470c7f262"
      },
      "outputs": [
        {
          "name": "stdout",
          "text": "25.02.01\n",
          "output_type": "stream"
        }
      ],
      "execution_count": null
    },
    {
      "cell_type": "code",
      "source": [
        "from cuml.cluster import HDBSCAN"
      ],
      "metadata": {
        "trusted": true,
        "execution": {
          "iopub.status.busy": "2025-04-14T09:21:34.719347Z",
          "iopub.execute_input": "2025-04-14T09:21:34.719648Z",
          "iopub.status.idle": "2025-04-14T09:21:34.723964Z",
          "shell.execute_reply.started": "2025-04-14T09:21:34.71962Z",
          "shell.execute_reply": "2025-04-14T09:21:34.723059Z"
        },
        "id": "98G4XsIevkxj"
      },
      "outputs": [],
      "execution_count": null
    },
    {
      "cell_type": "code",
      "source": [
        "hdbscan_clusters = HDBSCAN(\n",
        "    min_cluster_size=1000,\n",
        "    min_samples=54,\n",
        "    cluster_selection_epsilon=0.01,\n",
        "    cluster_selection_method='leaf',\n",
        "    alpha=1.0,\n",
        "    metric='euclidean').fit_predict(X_train_scaled)"
      ],
      "metadata": {
        "trusted": true,
        "execution": {
          "iopub.status.busy": "2025-04-14T09:53:22.79972Z",
          "iopub.execute_input": "2025-04-14T09:53:22.800307Z",
          "iopub.status.idle": "2025-04-14T09:53:23.643538Z",
          "shell.execute_reply.started": "2025-04-14T09:53:22.800285Z",
          "shell.execute_reply": "2025-04-14T09:53:23.642942Z"
        },
        "id": "Dbe5SFRQvkxj"
      },
      "outputs": [],
      "execution_count": null
    },
    {
      "cell_type": "code",
      "source": [
        "np.unique(hdbscan_clusters)"
      ],
      "metadata": {
        "trusted": true,
        "execution": {
          "iopub.status.busy": "2025-04-14T09:53:24.987181Z",
          "iopub.execute_input": "2025-04-14T09:53:24.987854Z",
          "iopub.status.idle": "2025-04-14T09:53:24.993378Z",
          "shell.execute_reply.started": "2025-04-14T09:53:24.987832Z",
          "shell.execute_reply": "2025-04-14T09:53:24.992819Z"
        },
        "id": "ub7lQ_Hqvkxj",
        "outputId": "fe76f406-21f6-47df-f2d9-332e2c220abc"
      },
      "outputs": [
        {
          "execution_count": 78,
          "output_type": "execute_result",
          "data": {
            "text/plain": "array([-1,  0,  1,  2,  3,  4,  5], dtype=int32)"
          },
          "metadata": {}
        }
      ],
      "execution_count": null
    },
    {
      "cell_type": "code",
      "source": [
        "label = HDBSCAN(min_cluster_size=18000,\n",
        "    min_samples=54,\n",
        "    cluster_selection_epsilon=0.01,\n",
        "    cluster_selection_method='leaf',\n",
        "    alpha=1.0,\n",
        "    metric='euclidean').fit_predict(X_pca_manual)"
      ],
      "metadata": {
        "trusted": true,
        "execution": {
          "iopub.status.busy": "2025-04-14T09:53:39.212573Z",
          "iopub.execute_input": "2025-04-14T09:53:39.212832Z",
          "iopub.status.idle": "2025-04-14T09:54:41.701851Z",
          "shell.execute_reply.started": "2025-04-14T09:53:39.212815Z",
          "shell.execute_reply": "2025-04-14T09:54:41.701295Z"
        },
        "id": "qYoUk5yQvkxk"
      },
      "outputs": [],
      "execution_count": null
    },
    {
      "cell_type": "code",
      "source": [
        "np.unique(label)"
      ],
      "metadata": {
        "trusted": true,
        "execution": {
          "iopub.status.busy": "2025-04-14T09:56:44.422825Z",
          "iopub.execute_input": "2025-04-14T09:56:44.423589Z",
          "iopub.status.idle": "2025-04-14T09:56:44.429866Z",
          "shell.execute_reply.started": "2025-04-14T09:56:44.423562Z",
          "shell.execute_reply": "2025-04-14T09:56:44.429342Z"
        },
        "id": "xD3h4Rwdvkxk",
        "outputId": "64cb2527-2772-4f51-8e02-a8856ec575d2"
      },
      "outputs": [
        {
          "execution_count": 85,
          "output_type": "execute_result",
          "data": {
            "text/plain": "array([-1,  0,  1,  2,  3,  4,  5], dtype=int32)"
          },
          "metadata": {}
        }
      ],
      "execution_count": null
    },
    {
      "cell_type": "code",
      "source": [
        "predictions_hdb = pd.DataFrame(label, columns=['activityID'])\n",
        "predictions_hdb = predictions_hdb.reset_index()"
      ],
      "metadata": {
        "trusted": true,
        "execution": {
          "iopub.status.busy": "2025-04-14T09:55:30.842396Z",
          "iopub.execute_input": "2025-04-14T09:55:30.842929Z",
          "iopub.status.idle": "2025-04-14T09:55:30.849865Z",
          "shell.execute_reply.started": "2025-04-14T09:55:30.842908Z",
          "shell.execute_reply": "2025-04-14T09:55:30.849302Z"
        },
        "id": "4JdDpJR1vkxk"
      },
      "outputs": [],
      "execution_count": null
    },
    {
      "cell_type": "code",
      "source": [
        "predictions_hdb['activityID'].value_counts()"
      ],
      "metadata": {
        "trusted": true,
        "execution": {
          "iopub.status.busy": "2025-04-14T09:55:52.462839Z",
          "iopub.execute_input": "2025-04-14T09:55:52.463336Z",
          "iopub.status.idle": "2025-04-14T09:55:52.47413Z",
          "shell.execute_reply.started": "2025-04-14T09:55:52.463313Z",
          "shell.execute_reply": "2025-04-14T09:55:52.473478Z"
        },
        "id": "HsvcpTYHvkxk",
        "outputId": "9a4d06fd-36e1-4766-8244-47b59a2c3374"
      },
      "outputs": [
        {
          "execution_count": 83,
          "output_type": "execute_result",
          "data": {
            "text/plain": "activityID\n-1    284320\n 0     52508\n 2     52399\n 1     44069\n 5     39812\n 4     38176\n 3     23317\nName: count, dtype: int64"
          },
          "metadata": {}
        }
      ],
      "execution_count": null
    },
    {
      "cell_type": "code",
      "source": [
        "predictions_hdb['activityID'].unique()"
      ],
      "metadata": {
        "trusted": true,
        "execution": {
          "iopub.status.busy": "2025-04-14T09:57:05.863781Z",
          "iopub.execute_input": "2025-04-14T09:57:05.864364Z",
          "iopub.status.idle": "2025-04-14T09:57:05.871535Z",
          "shell.execute_reply.started": "2025-04-14T09:57:05.86434Z",
          "shell.execute_reply": "2025-04-14T09:57:05.870915Z"
        },
        "id": "yPS7mVpAvkxk",
        "outputId": "85b99448-47a3-49e0-d261-ae53ffdf0f79"
      },
      "outputs": [
        {
          "execution_count": 86,
          "output_type": "execute_result",
          "data": {
            "text/plain": "array([ 0,  2, -1,  5,  1,  4,  3], dtype=int32)"
          },
          "metadata": {}
        }
      ],
      "execution_count": null
    },
    {
      "cell_type": "code",
      "source": [
        "for index, row in predictions_hdb.iterrows():\n",
        "    if row['activityID'] == 0:\n",
        "        predictions_hdb.loc[index, 'new_label'] = 1\n",
        "    if row['activityID'] == 2:\n",
        "        predictions_hdb.loc[index, 'new_label'] = 2\n",
        "    if row['activityID'] == -1:\n",
        "        predictions_hdb.loc[index, 'new_label'] = 3\n",
        "    if row['activityID'] == 5:\n",
        "        predictions_hdb.loc[index, 'new_label'] = 4\n",
        "    if row['activityID'] == 1:\n",
        "        predictions_hdb.loc[index, 'new_label'] = 5\n",
        "    if row['activityID'] == 4:\n",
        "        predictions_hdb.loc[index, 'new_label'] = 6\n",
        "    if row['activityID'] == 3:\n",
        "        predictions_hdb.loc[index, 'new_label'] = 7"
      ],
      "metadata": {
        "trusted": true,
        "execution": {
          "iopub.status.busy": "2025-04-14T09:57:35.479273Z",
          "iopub.execute_input": "2025-04-14T09:57:35.479553Z",
          "iopub.status.idle": "2025-04-14T09:58:53.598955Z",
          "shell.execute_reply.started": "2025-04-14T09:57:35.47953Z",
          "shell.execute_reply": "2025-04-14T09:58:53.59841Z"
        },
        "id": "onsyjuEevkxl"
      },
      "outputs": [],
      "execution_count": null
    },
    {
      "cell_type": "code",
      "source": [
        "predictions_hdb = predictions_hdb.drop(columns=['activityID'])\n",
        "predictions_hdb.columns = ['index','activityID']"
      ],
      "metadata": {
        "trusted": true,
        "execution": {
          "iopub.status.busy": "2025-04-14T09:59:00.600933Z",
          "iopub.execute_input": "2025-04-14T09:59:00.601496Z",
          "iopub.status.idle": "2025-04-14T09:59:00.608932Z",
          "shell.execute_reply.started": "2025-04-14T09:59:00.601472Z",
          "shell.execute_reply": "2025-04-14T09:59:00.608365Z"
        },
        "id": "Ju83Pk1Wvkxl"
      },
      "outputs": [],
      "execution_count": null
    },
    {
      "cell_type": "code",
      "source": [
        "predictions_hdb"
      ],
      "metadata": {
        "trusted": true,
        "execution": {
          "iopub.status.busy": "2025-04-14T09:59:17.692228Z",
          "iopub.execute_input": "2025-04-14T09:59:17.692771Z",
          "iopub.status.idle": "2025-04-14T09:59:17.700614Z",
          "shell.execute_reply.started": "2025-04-14T09:59:17.692746Z",
          "shell.execute_reply": "2025-04-14T09:59:17.699864Z"
        },
        "id": "LBnWwaaBvkxl",
        "outputId": "63c2aa6e-0f42-4dc8-94a3-4db188d33437"
      },
      "outputs": [
        {
          "execution_count": 92,
          "output_type": "execute_result",
          "data": {
            "text/plain": "         index  activityID\n0            0           1\n1            1           2\n2            2           3\n3            3           3\n4            4           4\n...        ...         ...\n534596  534596           3\n534597  534597           3\n534598  534598           3\n534599  534599           3\n534600  534600           2\n\n[534601 rows x 2 columns]",
            "text/html": "<div>\n<style scoped>\n    .dataframe tbody tr th:only-of-type {\n        vertical-align: middle;\n    }\n\n    .dataframe tbody tr th {\n        vertical-align: top;\n    }\n\n    .dataframe thead th {\n        text-align: right;\n    }\n</style>\n<table border=\"1\" class=\"dataframe\">\n  <thead>\n    <tr style=\"text-align: right;\">\n      <th></th>\n      <th>index</th>\n      <th>activityID</th>\n    </tr>\n  </thead>\n  <tbody>\n    <tr>\n      <th>0</th>\n      <td>0</td>\n      <td>1</td>\n    </tr>\n    <tr>\n      <th>1</th>\n      <td>1</td>\n      <td>2</td>\n    </tr>\n    <tr>\n      <th>2</th>\n      <td>2</td>\n      <td>3</td>\n    </tr>\n    <tr>\n      <th>3</th>\n      <td>3</td>\n      <td>3</td>\n    </tr>\n    <tr>\n      <th>4</th>\n      <td>4</td>\n      <td>4</td>\n    </tr>\n    <tr>\n      <th>...</th>\n      <td>...</td>\n      <td>...</td>\n    </tr>\n    <tr>\n      <th>534596</th>\n      <td>534596</td>\n      <td>3</td>\n    </tr>\n    <tr>\n      <th>534597</th>\n      <td>534597</td>\n      <td>3</td>\n    </tr>\n    <tr>\n      <th>534598</th>\n      <td>534598</td>\n      <td>3</td>\n    </tr>\n    <tr>\n      <th>534599</th>\n      <td>534599</td>\n      <td>3</td>\n    </tr>\n    <tr>\n      <th>534600</th>\n      <td>534600</td>\n      <td>2</td>\n    </tr>\n  </tbody>\n</table>\n<p>534601 rows × 2 columns</p>\n</div>"
          },
          "metadata": {}
        }
      ],
      "execution_count": null
    },
    {
      "cell_type": "code",
      "source": [
        "predictions_hdb['activityID'] = predictions_hdb['activityID'].apply(lambda x: int(x))"
      ],
      "metadata": {
        "trusted": true,
        "execution": {
          "iopub.status.busy": "2025-04-14T09:59:12.102833Z",
          "iopub.execute_input": "2025-04-14T09:59:12.103134Z",
          "iopub.status.idle": "2025-04-14T09:59:12.306646Z",
          "shell.execute_reply.started": "2025-04-14T09:59:12.103112Z",
          "shell.execute_reply": "2025-04-14T09:59:12.305864Z"
        },
        "id": "S_FEXdX9vkxl"
      },
      "outputs": [],
      "execution_count": null
    },
    {
      "cell_type": "code",
      "source": [
        "predictions_hdb.to_csv('hdb_scan.csv', index=False)"
      ],
      "metadata": {
        "trusted": true,
        "execution": {
          "iopub.status.busy": "2025-04-14T09:59:21.670007Z",
          "iopub.execute_input": "2025-04-14T09:59:21.670564Z",
          "iopub.status.idle": "2025-04-14T09:59:22.003738Z",
          "shell.execute_reply.started": "2025-04-14T09:59:21.670542Z",
          "shell.execute_reply": "2025-04-14T09:59:22.003205Z"
        },
        "id": "qgrkU-skvkxm"
      },
      "outputs": [],
      "execution_count": null
    }
  ]
}