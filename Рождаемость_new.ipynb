{
  "nbformat": 4,
  "nbformat_minor": 0,
  "metadata": {
    "colab": {
      "provenance": [],
      "gpuType": "T4",
      "authorship_tag": "ABX9TyMdzSDOptmGFFpl7sTiK08z",
      "include_colab_link": true
    },
    "kernelspec": {
      "name": "python3",
      "display_name": "Python 3"
    },
    "language_info": {
      "name": "python"
    },
    "accelerator": "GPU"
  },
  "cells": [
    {
      "cell_type": "markdown",
      "metadata": {
        "id": "view-in-github",
        "colab_type": "text"
      },
      "source": [
        "<a href=\"https://colab.research.google.com/github/polevev/kaggle/blob/main/%D0%A0%D0%BE%D0%B6%D0%B4%D0%B0%D0%B5%D0%BC%D0%BE%D1%81%D1%82%D1%8C_new.ipynb\" target=\"_parent\"><img src=\"https://colab.research.google.com/assets/colab-badge.svg\" alt=\"Open In Colab\"/></a>"
      ]
    },
    {
      "cell_type": "code",
      "execution_count": null,
      "metadata": {
        "id": "v2NsGIRxQsuA"
      },
      "outputs": [],
      "source": [
        "import pandas as pd\n",
        "\n",
        "df = pd.read_excel('/content/новыеданные (4).xlsx')\n",
        "df.sample(5)"
      ]
    },
    {
      "cell_type": "code",
      "source": [
        "cols_to_fix = ['Численность', 'Среднедушевые доходы в месяц', 'Соотношение браков и разводов (кол-во разводов на 1000 браков)']\n",
        "for col in cols_to_fix:\n",
        "    df[col] = (\n",
        "        df[col]\n",
        "        .astype(str)\n",
        "        .str.replace(r'\\s+', '', regex=True)\n",
        "        .str.replace(',', '.', regex=False)\n",
        "        .astype(float)\n",
        "    )"
      ],
      "metadata": {
        "id": "VQbSFsq7muCg"
      },
      "execution_count": null,
      "outputs": []
    },
    {
      "cell_type": "code",
      "source": [
        "df"
      ],
      "metadata": {
        "id": "JXy9cNt6F7nz"
      },
      "execution_count": null,
      "outputs": []
    },
    {
      "cell_type": "code",
      "source": [
        "df.describe()"
      ],
      "metadata": {
        "id": "zMYF1zyJRo1O"
      },
      "execution_count": null,
      "outputs": []
    },
    {
      "cell_type": "code",
      "source": [
        "df.isna().sum()"
      ],
      "metadata": {
        "id": "2M50MUyxpD2i"
      },
      "execution_count": null,
      "outputs": []
    },
    {
      "cell_type": "code",
      "source": [
        "import matplotlib.pyplot as plt\n",
        "\n",
        "df.hist(bins = 50, figsize=(20,15))\n",
        "plt.show()"
      ],
      "metadata": {
        "id": "tYQ1U0naoV7B"
      },
      "execution_count": null,
      "outputs": []
    },
    {
      "cell_type": "code",
      "source": [
        "data = pd.read_excel('/content/данные_final.xlsx')\n",
        "data"
      ],
      "metadata": {
        "id": "47cw6rW1Osff"
      },
      "execution_count": null,
      "outputs": []
    },
    {
      "cell_type": "code",
      "source": [
        "data['Регион'].values"
      ],
      "metadata": {
        "id": "BdRp0AmpU3tR"
      },
      "execution_count": null,
      "outputs": []
    },
    {
      "cell_type": "code",
      "source": [
        "regions = pd.read_csv('/content/region_mapping.csv')\n",
        "regions"
      ],
      "metadata": {
        "id": "bBGxcgB1Td7t"
      },
      "execution_count": null,
      "outputs": []
    },
    {
      "cell_type": "code",
      "source": [
        "import geopandas as gpd\n",
        "gdf = gpd.read_file('/content/ru.geojson')\n",
        "gdf['name'] = regions['Russian']"
      ],
      "metadata": {
        "id": "wVajLKKzNFs3"
      },
      "execution_count": null,
      "outputs": []
    },
    {
      "cell_type": "code",
      "source": [
        "df_stats = data\n",
        "gdf['name'] = gdf['name'].str.strip().str.lower()\n",
        "df_stats['Регион'] = df_stats['Регион'].str.strip().str.lower()"
      ],
      "metadata": {
        "id": "IlZmmYNKWL4T"
      },
      "execution_count": null,
      "outputs": []
    },
    {
      "cell_type": "code",
      "source": [
        "gdf = gdf.merge(df_stats, left_on = 'name', right_on = 'Регион')"
      ],
      "metadata": {
        "id": "QHM-jhWcNHb3"
      },
      "execution_count": null,
      "outputs": []
    },
    {
      "cell_type": "code",
      "source": [
        "gdf"
      ],
      "metadata": {
        "id": "Uoooj21nhW-g"
      },
      "execution_count": null,
      "outputs": []
    },
    {
      "cell_type": "code",
      "source": [
        "fig, ax = plt.subplots(figsize=(12,12))\n",
        "gdf.plot(column='Общая площадь жилых помещений на жителя', ax=ax, edgecolor='black',\n",
        "         cmap=plt.get_cmap('jet'), legend = True,\n",
        "         legend_kwds={'label': \"Общая площадь жилых помещений на жителя\", 'shrink': 0.6})\n",
        "         #vmin = 0,\n",
        "         #vmax = 1)\n",
        "plt.title(\"Общая площадь жилых помещений на жителя 2025\")\n",
        "plt.axis(\"off\")\n",
        "plt.show()"
      ],
      "metadata": {
        "id": "jeQpkGlfGOE9"
      },
      "execution_count": null,
      "outputs": []
    },
    {
      "cell_type": "markdown",
      "source": [
        "Уровень безработицы, темпы прироста и общие коэф рождаемости имеют много шума"
      ],
      "metadata": {
        "id": "CqxPfHWer7PP"
      }
    },
    {
      "cell_type": "code",
      "source": [
        "from sklearn.preprocessing import LabelEncoder\n",
        "\n",
        "lencoder = LabelEncoder()\n",
        "\n",
        "df['Регион'] = lencoder.fit_transform(df['Регион'])"
      ],
      "metadata": {
        "id": "pdei3eLGsMMX"
      },
      "execution_count": null,
      "outputs": []
    },
    {
      "cell_type": "code",
      "source": [
        "df['Регион'].value_counts()"
      ],
      "metadata": {
        "id": "35SIf2HXsjXd"
      },
      "execution_count": null,
      "outputs": []
    },
    {
      "cell_type": "code",
      "source": [
        "df.drop(columns=['Пользователи_онлайн_знакомств'], inplace = True)"
      ],
      "metadata": {
        "id": "xHRklgzSM0t9"
      },
      "execution_count": null,
      "outputs": []
    },
    {
      "cell_type": "code",
      "source": [
        "df"
      ],
      "metadata": {
        "id": "cGlZI5SFboho"
      },
      "execution_count": null,
      "outputs": []
    },
    {
      "cell_type": "code",
      "source": [
        "df['Соотношение браков и разводов (кол-во разводов на 1000 браков)']=df['Соотношение браков и разводов (кол-во разводов на 1000 браков)'].apply(lambda x: x/1000)"
      ],
      "metadata": {
        "id": "F7DxxIkJO4Ur"
      },
      "execution_count": null,
      "outputs": []
    },
    {
      "cell_type": "code",
      "source": [
        "df"
      ],
      "metadata": {
        "id": "xNYxAbB-PDzd"
      },
      "execution_count": null,
      "outputs": []
    },
    {
      "cell_type": "code",
      "source": [
        "df.corr(numeric_only=True)"
      ],
      "metadata": {
        "id": "wBUyhID_n8Ut"
      },
      "execution_count": null,
      "outputs": []
    },
    {
      "cell_type": "code",
      "source": [
        "import seaborn as sns\n",
        "sns.heatmap(df.corr(numeric_only=True))"
      ],
      "metadata": {
        "id": "7-cSNQMxS3sr"
      },
      "execution_count": null,
      "outputs": []
    },
    {
      "cell_type": "code",
      "source": [
        "from pandas.plotting import scatter_matrix\n",
        "scatter_matrix(df, figsize = (12 ,8))"
      ],
      "metadata": {
        "id": "405Php1BRQS1"
      },
      "execution_count": null,
      "outputs": []
    },
    {
      "cell_type": "code",
      "source": [
        "df"
      ],
      "metadata": {
        "id": "LKZFOfNooZiN"
      },
      "execution_count": null,
      "outputs": []
    },
    {
      "cell_type": "code",
      "source": [
        "X = df.drop(columns=['Соотношение браков и разводов (кол-во разводов на 1000 браков)', 'Общие коэф разводимости (число разводов на 1000 чел)', 'Общие коэф брачности (число браков на 1000 чел)'])"
      ],
      "metadata": {
        "id": "TmTe6Q2XxZ3Y"
      },
      "execution_count": null,
      "outputs": []
    },
    {
      "cell_type": "code",
      "source": [
        "y = df['Общие коэф разводимости (число разводов на 1000 чел)']"
      ],
      "metadata": {
        "id": "Dp7sIgwCZDhD"
      },
      "execution_count": null,
      "outputs": []
    },
    {
      "cell_type": "code",
      "source": [
        "from sklearn.preprocessing import StandardScaler\n",
        "\n",
        "Scaler =  StandardScaler()\n",
        "\n",
        "\n",
        "X_origin = Scaler.fit_transform(X)"
      ],
      "metadata": {
        "id": "zB96P50ETlxP"
      },
      "execution_count": null,
      "outputs": []
    },
    {
      "cell_type": "code",
      "source": [
        "X_origin = pd.DataFrame(X_origin, columns = X.columns)"
      ],
      "metadata": {
        "id": "l9m3Ck3XY4cD"
      },
      "execution_count": null,
      "outputs": []
    },
    {
      "cell_type": "code",
      "source": [
        "X_origin"
      ],
      "metadata": {
        "id": "iEPFjlOVY83k"
      },
      "execution_count": null,
      "outputs": []
    },
    {
      "cell_type": "code",
      "source": [
        "from sklearn.model_selection import train_test_split\n",
        "\n",
        "X_train, X_test, y_train, y_test = train_test_split(X_origin.values, y.values, test_size=0.4, random_state=42)"
      ],
      "metadata": {
        "id": "A9R-gMS1czH0"
      },
      "execution_count": null,
      "outputs": []
    },
    {
      "cell_type": "code",
      "source": [
        "X_train.shape, X_test.shape"
      ],
      "metadata": {
        "id": "nkzyJ3l_psEh"
      },
      "execution_count": null,
      "outputs": []
    },
    {
      "cell_type": "code",
      "source": [
        "from sklearn.tree import DecisionTreeRegressor\n",
        "from sklearn.ensemble import RandomForestRegressor\n",
        "from sklearn.linear_model import LinearRegression\n",
        "from sklearn.svm import SVR\n",
        "from sklearn.neighbors import KNeighborsRegressor\n",
        "import xgboost as xgb\n",
        "\n",
        "models = {\n",
        "    'DecisionTree': DecisionTreeRegressor(random_state=42),\n",
        "    'RandomForest': RandomForestRegressor(random_state=42),\n",
        "    'LinearRegression': LinearRegression(),\n",
        "    'SVR': SVR(),\n",
        "    'KNeighbors': KNeighborsRegressor(),\n",
        "    'xgb': xgb.XGBRegressor(random_state=42)\n",
        "}"
      ],
      "metadata": {
        "id": "abRqKNZddFKU"
      },
      "execution_count": null,
      "outputs": []
    },
    {
      "cell_type": "code",
      "source": [
        "from sklearn.model_selection import cross_validate, TimeSeriesSplit\n",
        "import numpy as np\n",
        "\n",
        "results = {}\n",
        "for name, model in models.items():\n",
        "    # Используем TimeSeriesSplit и правильные ключи метрик\n",
        "    tscv = TimeSeriesSplit(n_splits=5)\n",
        "    scores = cross_validate(\n",
        "        model,\n",
        "        X_train,\n",
        "        y_train,\n",
        "        cv=tscv,\n",
        "        scoring=['neg_mean_squared_error', 'r2']\n",
        "    )\n",
        "    results[name] = {\n",
        "        'MSE': -np.mean(scores['test_neg_mean_squared_error']),\n",
        "        'R²': np.mean(scores['test_r2'])\n",
        "    }\n",
        "\n",
        "results_df = pd.DataFrame.from_dict(results, orient='index')\n",
        "results_df"
      ],
      "metadata": {
        "id": "GU15kjuUd5Dz"
      },
      "execution_count": null,
      "outputs": []
    },
    {
      "cell_type": "code",
      "source": [
        "from sklearn.ensemble import RandomForestRegressor\n",
        "from sklearn.model_selection import GridSearchCV\n",
        "\n",
        "# Определяем модель\n",
        "rf_model = RandomForestRegressor(random_state=42)\n",
        "\n",
        "# Определяем параметры для поиска\n",
        "param_grid = {\n",
        "    'n_estimators': [100, 200, 300, 500],  # Количество деревьев\n",
        "    'max_depth': [10, 20, 30],  # Максимальная глубина деревьев\n",
        "    'min_samples_split': [2, 5, 10],  # Минимальное количество сэмплов для разбиения узла\n",
        "    'min_samples_leaf': [2, 4, 6],  # Минимальное количество сэмплов в листе\n",
        "    'max_features': ['auto', 'sqrt', 'log2'],  # Количество признаков для поиска лучшего разбиения\n",
        "}\n",
        "\n",
        "# Инициализация GridSearchCV\n",
        "grid_search = GridSearchCV(estimator=rf_model, param_grid=param_grid, cv=5, n_jobs=-1, scoring='neg_mean_squared_error', verbose=True)\n",
        "\n",
        "# Обучение на данных\n",
        "grid_search.fit(X_train, y_train)\n",
        "\n",
        "# Вывод лучших параметров\n",
        "print(\"Best parameters found: \", grid_search.best_params_)\n",
        "\n",
        "# Оценка модели с лучшими гиперпараметрами\n",
        "best_model = grid_search.best_estimator_\n",
        "best_score = grid_search.best_score_\n",
        "\n",
        "print(f\"Best score (MSE): {best_score:.4f}\")"
      ],
      "metadata": {
        "id": "0EwZGAlYXF66"
      },
      "execution_count": null,
      "outputs": []
    },
    {
      "cell_type": "code",
      "source": [
        "model = RandomForestRegressor(random_state=42)\n",
        "model.fit(X_train, y_train)"
      ],
      "metadata": {
        "id": "ldN3PXbcvonT"
      },
      "execution_count": null,
      "outputs": []
    },
    {
      "cell_type": "code",
      "source": [
        "y_pred = model.predict(X_test)"
      ],
      "metadata": {
        "id": "3O_xRoFtec5_"
      },
      "execution_count": null,
      "outputs": []
    },
    {
      "cell_type": "code",
      "source": [
        "from sklearn.metrics import mean_absolute_error, mean_squared_error, r2_score"
      ],
      "metadata": {
        "id": "EJhoiIBsesjD"
      },
      "execution_count": null,
      "outputs": []
    },
    {
      "cell_type": "code",
      "source": [
        "print(f'MAE:{mean_absolute_error(y_test, y_pred)}')\n",
        "print(f'MSE:{mean_squared_error(y_test, y_pred)}')\n",
        "print(f'R^2:{r2_score(y_test, y_pred)}')"
      ],
      "metadata": {
        "id": "ZwxrzMdvenU3"
      },
      "execution_count": null,
      "outputs": []
    },
    {
      "cell_type": "code",
      "source": [
        "from sklearn.model_selection import GridSearchCV\n",
        "model = xgb.XGBRegressor(random_state=42)\n",
        "\n",
        "param_grid = {\n",
        "    'n_estimators': [50, 100, 200],\n",
        "    'max_depth': [3, 5, 7],\n",
        "    'learning_rate': [0.01, 0.1, 0.2],\n",
        "    'subsample': [0.8, 1.0],\n",
        "    'colsample_bytree': [0.8, 1.0],\n",
        "    'gamma': [0, 0.1, 0.2],\n",
        "}\n",
        "\n",
        "grid = GridSearchCV(\n",
        "    estimator=model,\n",
        "    param_grid=param_grid,\n",
        "    cv = 5,\n",
        "    scoring = 'neg_mean_squared_error',\n",
        "    n_jobs = -1,\n",
        "    verbose = 1\n",
        ")\n",
        "\n",
        "grid.fit(X_train, y_train)\n",
        "\n",
        "best_model = grid.best_estimator_\n",
        "print('best_params', grid.best_params_)\n",
        "\n",
        "best_score = grid.best_score_\n",
        "\n",
        "print(f\"Best score (MSE): {best_score:.4f}\")"
      ],
      "metadata": {
        "id": "yCQm5U8X3UMj"
      },
      "execution_count": null,
      "outputs": []
    },
    {
      "cell_type": "code",
      "source": [
        "y_pred = best_model.predict(X_test)\n",
        "\n",
        "print(f'MAE:{mean_absolute_error(y_test, y_pred)}')\n",
        "print(f'MSE:{mean_squared_error(y_test, y_pred)}')\n",
        "print(f'R^2:{r2_score(y_test, y_pred)}')"
      ],
      "metadata": {
        "id": "KoQ13GuV66vy"
      },
      "execution_count": null,
      "outputs": []
    },
    {
      "cell_type": "code",
      "source": [
        "xb_model = xgb.XGBRegressor(random_state=42)\n",
        "\n",
        "xb_model.fit(X_train, y_train)"
      ],
      "metadata": {
        "id": "7tWII-3K9dfX"
      },
      "execution_count": null,
      "outputs": []
    },
    {
      "cell_type": "code",
      "source": [
        "y_pred = xb_model.predict(X_test)\n",
        "\n",
        "print(f'MAE:{mean_absolute_error(y_test, y_pred)}')\n",
        "print(f'MSE:{mean_squared_error(y_test, y_pred)}')\n",
        "print(f'R^2:{r2_score(y_test, y_pred)}')"
      ],
      "metadata": {
        "id": "lkO2U9py9j9I"
      },
      "execution_count": null,
      "outputs": []
    },
    {
      "cell_type": "code",
      "source": [
        "test = pd.read_excel('/content/данные_last (2).xlsx')"
      ],
      "metadata": {
        "id": "G7ZSXJp1SQk7"
      },
      "execution_count": null,
      "outputs": []
    },
    {
      "cell_type": "code",
      "source": [
        "test"
      ],
      "metadata": {
        "id": "T4cGChMmqhnJ"
      },
      "execution_count": null,
      "outputs": []
    },
    {
      "cell_type": "code",
      "source": [
        "X = test.drop(columns=['Общие коэф брачности (число браков на 1000 чел)', 'Общие коэф разводимости (число разводов на 1000 чел)','Соотношение браков и разводов (кол-во разводов на 1000 браков)'])"
      ],
      "metadata": {
        "id": "F0V2r_yRSdHZ"
      },
      "execution_count": null,
      "outputs": []
    },
    {
      "cell_type": "code",
      "source": [
        "X['Регион'] = lencoder.transform(X['Регион'])"
      ],
      "metadata": {
        "id": "ooUmmqWiS3ym"
      },
      "execution_count": null,
      "outputs": []
    },
    {
      "cell_type": "code",
      "source": [
        "X"
      ],
      "metadata": {
        "id": "NngmHD4Spnyy"
      },
      "execution_count": null,
      "outputs": []
    },
    {
      "cell_type": "code",
      "source": [
        "X_scaled = Scaler.transform(X)"
      ],
      "metadata": {
        "id": "QuQxgrl_TDFz"
      },
      "execution_count": null,
      "outputs": []
    },
    {
      "cell_type": "code",
      "source": [
        "X_scaled = pd.DataFrame(X_scaled, columns = X.columns)"
      ],
      "metadata": {
        "id": "ZhWDAawhcTA0"
      },
      "execution_count": null,
      "outputs": []
    },
    {
      "cell_type": "code",
      "source": [
        "X_scaled"
      ],
      "metadata": {
        "id": "SeuLZQDacZaY"
      },
      "execution_count": null,
      "outputs": []
    },
    {
      "cell_type": "code",
      "source": [
        "y_final = best_model.predict(X_scaled)"
      ],
      "metadata": {
        "id": "wuucxpDDSqQ9"
      },
      "execution_count": null,
      "outputs": []
    },
    {
      "cell_type": "code",
      "source": [
        "test['Общие коэф брачности (число браков на 1000 чел)'] = y_final"
      ],
      "metadata": {
        "id": "E6eV37apTF0E"
      },
      "execution_count": null,
      "outputs": []
    },
    {
      "cell_type": "code",
      "source": [
        "y_final"
      ],
      "metadata": {
        "id": "9liWQicHcAKJ"
      },
      "execution_count": null,
      "outputs": []
    },
    {
      "cell_type": "code",
      "source": [
        "test['Общие коэф разводимости (число разводов на 1000 чел)'] = y_final"
      ],
      "metadata": {
        "id": "9Z9tkI1zbOwM"
      },
      "execution_count": null,
      "outputs": []
    },
    {
      "cell_type": "code",
      "source": [
        "test"
      ],
      "metadata": {
        "id": "txDjuMYxTQXf"
      },
      "execution_count": null,
      "outputs": []
    },
    {
      "cell_type": "code",
      "source": [
        "test.to_excel('данные_final.xlsx', index=False)"
      ],
      "metadata": {
        "id": "rfde8XGvTSkt"
      },
      "execution_count": null,
      "outputs": []
    },
    {
      "cell_type": "code",
      "source": [
        "import torch"
      ],
      "metadata": {
        "id": "6KVPXWTefqsa"
      },
      "execution_count": null,
      "outputs": []
    },
    {
      "cell_type": "code",
      "source": [
        "import torch.nn as nn\n",
        "\n",
        "class Net(nn.Module):\n",
        "    def __init__(self, num_classes):\n",
        "        super(Net, self).__init__()\n",
        "        self.fc = nn.Sequential(\n",
        "            nn.Linear(num_classes, 64),\n",
        "            nn.ReLU(),\n",
        "            nn.BatchNorm1d(64),\n",
        "            nn.Dropout(0.2),\n",
        "            nn.Linear(64, 32),\n",
        "            nn.ReLU(),\n",
        "            nn.BatchNorm1d(32),\n",
        "            nn.Linear(32,1)\n",
        "        )\n",
        "\n",
        "\n",
        "    def forward(self, x):\n",
        "      return (self.fc(x))"
      ],
      "metadata": {
        "id": "IGwJYUF1YcW8"
      },
      "execution_count": null,
      "outputs": []
    },
    {
      "cell_type": "code",
      "source": [
        "X_train_tensor = torch.from_numpy(X_train).float()\n",
        "y_train_tensor = torch.from_numpy(y_train).float()"
      ],
      "metadata": {
        "id": "_ipxtfPbfcvo"
      },
      "execution_count": null,
      "outputs": []
    },
    {
      "cell_type": "code",
      "source": [
        "train_loader = torch.utils.data.DataLoader(list(zip(X_train_tensor, y_train_tensor)), batch_size=64, shuffle=True)"
      ],
      "metadata": {
        "id": "tMXhvBYofaEq"
      },
      "execution_count": null,
      "outputs": []
    },
    {
      "cell_type": "code",
      "source": [
        "X_train.shape"
      ],
      "metadata": {
        "id": "Msb0WeP090mY"
      },
      "execution_count": null,
      "outputs": []
    },
    {
      "cell_type": "code",
      "source": [
        "model = Net(num_classes=10)\n",
        "\n",
        "criterion = torch.nn.MSELoss()\n",
        "optimizer = torch.optim.Adam(model.parameters(), lr=1e-4)"
      ],
      "metadata": {
        "id": "DYzEA90HfgPz"
      },
      "execution_count": null,
      "outputs": []
    },
    {
      "cell_type": "code",
      "source": [
        "import matplotlib.pyplot as plt"
      ],
      "metadata": {
        "id": "nQpbK3DzggbA"
      },
      "execution_count": null,
      "outputs": []
    },
    {
      "cell_type": "code",
      "source": [
        "import tqdm\n",
        "from tqdm.auto import tqdm\n",
        "\n",
        "def train_stochastic(model, loader, criterion, optimizer, num_epoch):\n",
        "    # цикл по количеству эпох обучения\n",
        "    total_epoch_loss = []\n",
        "    for t in tqdm(range(num_epoch)):\n",
        "        epoch_loss = []\n",
        "\n",
        "        # цикл по батчам даталоадера\n",
        "        for X_batch, y_batch in loader:\n",
        "            # Вычислим предсказания нашей модели\n",
        "            y_batch = y_batch.unsqueeze(1)\n",
        "            y_pred = model(X_batch)\n",
        "\n",
        "            # Посчитаем значение функции потерь  на полученном предсказании\n",
        "            loss = criterion(y_pred, y_batch)\n",
        "            epoch_loss.append(loss.item())\n",
        "\n",
        "            # Выполним подсчёт новых градиентов\n",
        "            loss.backward()\n",
        "            # Выполним шаг градиентного спуска\n",
        "            optimizer.step()\n",
        "            # Обнулим сохраненные у оптимизатора значения градиентов\n",
        "            # перед следующим шагом обучения\n",
        "            optimizer.zero_grad()\n",
        "\n",
        "        print(f\"{t} epoch: curr_loss = {np.mean(epoch_loss)}\")\n",
        "        total_epoch_loss.append(epoch_loss)\n",
        "\n",
        "    plt.figure(figsize=(10,8))\n",
        "    plt.plot(range(1, num_epoch+1), total_epoch_loss, 'b-', linewidth=2)\n",
        "    plt.title('Training Loss Over Epochs', fontsize=14)\n",
        "    plt.xlabel('Epoch', fontsize=12)\n",
        "    plt.ylabel('Loss', fontsize=12)\n",
        "    plt.grid(True)\n",
        "    plt.show()\n",
        "\n",
        "    return model"
      ],
      "metadata": {
        "id": "pAfLbnGufxqu"
      },
      "execution_count": null,
      "outputs": []
    },
    {
      "cell_type": "code",
      "source": [
        "model = train_stochastic(model, train_loader, criterion, optimizer, 500)"
      ],
      "metadata": {
        "id": "ML6m8iSCgCbm"
      },
      "execution_count": null,
      "outputs": []
    },
    {
      "cell_type": "code",
      "source": [
        "X_test_tensor = torch.from_numpy(X_test).float()\n",
        "y_test_tensor = torch.from_numpy(y_test).float()"
      ],
      "metadata": {
        "id": "0Cl1K7rakngF"
      },
      "execution_count": null,
      "outputs": []
    },
    {
      "cell_type": "code",
      "source": [
        "with torch.no_grad():\n",
        "    nn_prediction = model(torch.FloatTensor(X_test_tensor))\n",
        "    nn_prediction = nn_prediction.tolist()"
      ],
      "metadata": {
        "id": "axFuSdRFkrGC"
      },
      "execution_count": null,
      "outputs": []
    },
    {
      "cell_type": "code",
      "source": [
        "print(f'MAE:{mean_absolute_error(y_test, nn_prediction)}')\n",
        "print(f'MSE:{mean_squared_error(y_test, nn_prediction)}')\n",
        "print(f'R^2:{r2_score(y_test, nn_prediction)}')"
      ],
      "metadata": {
        "id": "hr9LY7ZUkvYq"
      },
      "execution_count": null,
      "outputs": []
    }
  ]
}