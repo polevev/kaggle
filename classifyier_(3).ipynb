{
  "metadata": {
    "kernelspec": {
      "name": "python3",
      "display_name": "Python 3",
      "language": "python"
    },
    "language_info": {
      "name": "python",
      "version": "3.11.13",
      "mimetype": "text/x-python",
      "codemirror_mode": {
        "name": "ipython",
        "version": 3
      },
      "pygments_lexer": "ipython3",
      "nbconvert_exporter": "python",
      "file_extension": ".py"
    },
    "colab": {
      "provenance": [],
      "gpuType": "T4",
      "include_colab_link": true
    },
    "accelerator": "GPU",
    "kaggle": {
      "accelerator": "nvidiaTeslaT4",
      "dataSources": [],
      "dockerImageVersionId": 31090,
      "isInternetEnabled": true,
      "language": "python",
      "sourceType": "notebook",
      "isGpuEnabled": true
    }
  },
  "nbformat_minor": 0,
  "nbformat": 4,
  "cells": [
    {
      "cell_type": "markdown",
      "metadata": {
        "id": "view-in-github",
        "colab_type": "text"
      },
      "source": [
        "<a href=\"https://colab.research.google.com/github/polevev/kaggle/blob/main/classifyier_(3).ipynb\" target=\"_parent\"><img src=\"https://colab.research.google.com/assets/colab-badge.svg\" alt=\"Open In Colab\"/></a>"
      ]
    },
    {
      "cell_type": "markdown",
      "source": [
        "# Демо-экзамен по курсу \"Прикладной анализ данных\". Вариант 2"
      ],
      "metadata": {
        "id": "oRZ0_j6j15_y"
      }
    },
    {
      "cell_type": "markdown",
      "source": [
        "Выполнил: Маркович Лев Иванович, С22-712\n",
        "\n",
        "НИЯУ МИФИ"
      ],
      "metadata": {
        "id": "p68sJ64_2A4F"
      }
    },
    {
      "cell_type": "markdown",
      "source": [
        "Вставьте ниже скриншот с результатом вашего решения в Leaderboard на Kaggle: https://www.kaggle.com/competitions/lamoda-images-classification/data"
      ],
      "metadata": {
        "id": "gefqprYI2HP0"
      }
    },
    {
      "cell_type": "markdown",
      "source": [
        "![photo_2025-07-17_17-48-21.jpg](attachment:f14e41de-1bc4-47ee-90ef-46bc6cea09c6.jpg)"
      ],
      "metadata": {
        "id": "Z6irnaZg9XC7"
      }
    },
    {
      "cell_type": "markdown",
      "source": [
        "![image.png](attachment:5aa652ba-c244-485b-bae3-b7d49b9a0030.png)"
      ],
      "metadata": {
        "id": "pFajKPLH9XC7"
      }
    },
    {
      "cell_type": "markdown",
      "source": [
        "## 1. Описание задачи и данные"
      ],
      "metadata": {
        "id": "AEbHEJZR2eWd"
      }
    },
    {
      "cell_type": "markdown",
      "source": [
        "В рамках данного задания вам предстоит разработать алгоритм, который автоматически классифицирует изображения предметов одежды на две категории:\n",
        "\n",
        "- bryuki (брюки),\n",
        "- bluzy (блузки).\n",
        "\n",
        "Каждое изображение содержит один предмет одежды на однотонном фоне. Цель — по изображению предсказать, к какому классу принадлежит предмет.\n",
        "\n",
        "Ссылка на соревнование и на данные: https://www.kaggle.com/competitions/lamoda-images-classification/data"
      ],
      "metadata": {
        "id": "2jYw5v3M2qhc"
      }
    },
    {
      "cell_type": "code",
      "source": [
        "# Import libraries\n",
        "# TODO\n",
        "\n",
        "import pandas as pd\n",
        "import seaborn as sns\n",
        "import matplotlib.pyplot as plt\n",
        "# Пропишите дополнительные библиотеки, которые потребуются для решения\n",
        "import torch\n",
        "import numpy as np\n",
        "import pickle\n",
        "import numpy as np\n",
        "from skimage import io\n",
        "\n",
        "from tqdm import tqdm, tqdm_notebook\n",
        "from PIL import Image\n",
        "from pathlib import Path\n",
        "\n",
        "from torchvision import transforms\n",
        "from multiprocessing.pool import ThreadPool\n",
        "from sklearn.preprocessing import LabelEncoder\n",
        "from torch.utils.data import Dataset, DataLoader\n",
        "import torch.nn as nn\n",
        "from torchvision import models\n",
        "\n",
        "from matplotlib import colors, pyplot as plt\n",
        "import torchvision.transforms as tfs"
      ],
      "metadata": {
        "id": "xW9KirnC2kuO",
        "trusted": true,
        "execution": {
          "iopub.status.busy": "2025-07-17T11:11:45.625112Z",
          "iopub.execute_input": "2025-07-17T11:11:45.625547Z",
          "iopub.status.idle": "2025-07-17T11:11:45.630822Z",
          "shell.execute_reply.started": "2025-07-17T11:11:45.625521Z",
          "shell.execute_reply": "2025-07-17T11:11:45.630067Z"
        }
      },
      "outputs": [],
      "execution_count": null
    },
    {
      "cell_type": "code",
      "source": [
        "# установим библиотеку для работы с датасетами на kaggle\n",
        "!pip install opendatasets --quiet"
      ],
      "metadata": {
        "id": "4KL64kPG13D0",
        "trusted": true,
        "execution": {
          "iopub.status.busy": "2025-07-17T11:11:45.632207Z",
          "iopub.execute_input": "2025-07-17T11:11:45.632408Z",
          "iopub.status.idle": "2025-07-17T11:11:49.514432Z",
          "shell.execute_reply.started": "2025-07-17T11:11:45.632393Z",
          "shell.execute_reply": "2025-07-17T11:11:49.513665Z"
        }
      },
      "outputs": [],
      "execution_count": null
    },
    {
      "cell_type": "markdown",
      "source": [
        "Небольшая инструкция как напрямую скачать данные с kaggle в Colab ноутбук: https://www.geeksforgeeks.org/python/how-to-import-kaggle-datasets-directly-into-google-colab/"
      ],
      "metadata": {
        "id": "BKpjNP3BgToL"
      }
    },
    {
      "cell_type": "code",
      "source": [
        "import opendatasets as od\n",
        "import pandas as pd\n",
        "\n",
        "url = 'https://www.kaggle.com/competitions/lamoda-images-classification/'\n",
        "od.download(url)"
      ],
      "metadata": {
        "id": "a1vqtoe626dY",
        "trusted": true,
        "execution": {
          "iopub.status.busy": "2025-07-17T11:11:49.515483Z",
          "iopub.execute_input": "2025-07-17T11:11:49.515786Z",
          "iopub.status.idle": "2025-07-17T11:12:27.631921Z",
          "shell.execute_reply.started": "2025-07-17T11:11:49.515753Z",
          "shell.execute_reply": "2025-07-17T11:12:27.631105Z"
        }
      },
      "outputs": [],
      "execution_count": null
    },
    {
      "cell_type": "markdown",
      "source": [
        "## 1. Провести предварительное исследование данных\n",
        "\n",
        "- сколько у вас есть изображений? Все ли они одного разрешения? Какой баланс классов в данных?\n",
        "- какие есть особенности датасета?\n",
        "- если необходимо произвести очистку и предварительную обработку данных."
      ],
      "metadata": {
        "id": "gOLWe4Df3KpZ"
      }
    },
    {
      "cell_type": "code",
      "source": [
        "#определим директории с тренировочными и тестовыми файлами\n",
        "TRAIN_DIR = Path('/kaggle/working/lamoda-images-classification/images/train')\n",
        "TEST_DIR = Path('/kaggle/working/lamoda-images-classification/images/test')\n",
        "\n",
        "train_files=sorted(list(TRAIN_DIR.rglob(\"*.jpg\")))\n",
        "test_files=sorted(list(TEST_DIR.rglob(\"*.jpg\")))"
      ],
      "metadata": {
        "id": "RvTy75-y3ljg",
        "trusted": true,
        "execution": {
          "iopub.status.busy": "2025-07-17T11:12:27.633747Z",
          "iopub.execute_input": "2025-07-17T11:12:27.634428Z",
          "iopub.status.idle": "2025-07-17T11:12:27.768105Z",
          "shell.execute_reply.started": "2025-07-17T11:12:27.634408Z",
          "shell.execute_reply": "2025-07-17T11:12:27.767284Z"
        }
      },
      "outputs": [],
      "execution_count": null
    },
    {
      "cell_type": "code",
      "source": [
        "train_files[0], test_files[0]"
      ],
      "metadata": {
        "id": "Ufs8FNbKaMQE",
        "trusted": true,
        "execution": {
          "iopub.status.busy": "2025-07-17T11:12:27.768956Z",
          "iopub.execute_input": "2025-07-17T11:12:27.769200Z",
          "iopub.status.idle": "2025-07-17T11:12:27.774957Z",
          "shell.execute_reply.started": "2025-07-17T11:12:27.769175Z",
          "shell.execute_reply": "2025-07-17T11:12:27.774224Z"
        }
      },
      "outputs": [],
      "execution_count": null
    },
    {
      "cell_type": "code",
      "source": [
        "len(train_files), len(test_files)"
      ],
      "metadata": {
        "id": "RBFCuX9bEmHl",
        "trusted": true,
        "execution": {
          "iopub.status.busy": "2025-07-17T11:12:27.775900Z",
          "iopub.execute_input": "2025-07-17T11:12:27.776146Z",
          "iopub.status.idle": "2025-07-17T11:12:27.786524Z",
          "shell.execute_reply.started": "2025-07-17T11:12:27.776107Z",
          "shell.execute_reply": "2025-07-17T11:12:27.785935Z"
        }
      },
      "outputs": [],
      "execution_count": null
    },
    {
      "cell_type": "code",
      "source": [
        "#В тестовых файлах помимо картинки идет еще название -> вытащим его отдельно\n",
        "train_labels = [path.stem.split(\"_\")[-1] for path in train_files]\n",
        "train_labels"
      ],
      "metadata": {
        "id": "5UDfnN2maV4S",
        "collapsed": true,
        "jupyter": {
          "outputs_hidden": true
        },
        "trusted": true,
        "execution": {
          "iopub.status.busy": "2025-07-17T11:12:27.787368Z",
          "iopub.execute_input": "2025-07-17T11:12:27.787839Z",
          "iopub.status.idle": "2025-07-17T11:12:27.811088Z",
          "shell.execute_reply.started": "2025-07-17T11:12:27.787815Z",
          "shell.execute_reply": "2025-07-17T11:12:27.810441Z"
        }
      },
      "outputs": [],
      "execution_count": null
    },
    {
      "cell_type": "code",
      "source": [
        "print(f'Число изображений для обучения и валидации: {len(train_files)}')\n",
        "print(f'Число изображений для финальной проверки работы модели: {len(test_files)}')\n",
        "\n",
        "train_sizes = [Image.open(file).size for file in train_files]\n",
        "test_sizes = [Image.open(file).size for file in test_files]\n",
        "\n",
        "unique_train_sizes = set(train_sizes)\n",
        "unique_test_sizes = set(test_sizes)\n",
        "\n",
        "print(\"Уникальные размеры train:\", unique_train_sizes)\n",
        "print(\"Уникальные размеры test:\", unique_test_sizes)"
      ],
      "metadata": {
        "id": "O-Jy3eLNb9aG",
        "trusted": true,
        "execution": {
          "iopub.status.busy": "2025-07-17T11:12:27.811742Z",
          "iopub.execute_input": "2025-07-17T11:12:27.811923Z",
          "iopub.status.idle": "2025-07-17T11:12:28.945426Z",
          "shell.execute_reply.started": "2025-07-17T11:12:27.811909Z",
          "shell.execute_reply": "2025-07-17T11:12:28.944712Z"
        }
      },
      "outputs": [],
      "execution_count": null
    },
    {
      "cell_type": "code",
      "source": [
        "counts = pd.Series(train_labels).value_counts()\n",
        "counts"
      ],
      "metadata": {
        "id": "D_jozvn1eHlm",
        "trusted": true,
        "execution": {
          "iopub.status.busy": "2025-07-17T11:12:28.946384Z",
          "iopub.execute_input": "2025-07-17T11:12:28.946689Z",
          "iopub.status.idle": "2025-07-17T11:12:28.963529Z",
          "shell.execute_reply.started": "2025-07-17T11:12:28.946663Z",
          "shell.execute_reply": "2025-07-17T11:12:28.962965Z"
        }
      },
      "outputs": [],
      "execution_count": null
    },
    {
      "cell_type": "code",
      "source": [
        "#В целом balanced\n",
        "plt.figure(figsize=(8,8))\n",
        "plt.barh(counts.keys(), counts.sort_values(ascending=True))\n",
        "plt.title('Train files characters distribution')\n",
        "plt.xlabel('Count')\n",
        "plt.ylabel('Characters')\n",
        "plt.show()"
      ],
      "metadata": {
        "id": "t3YE41mpfHRf",
        "trusted": true,
        "execution": {
          "iopub.status.busy": "2025-07-17T11:12:28.966094Z",
          "iopub.execute_input": "2025-07-17T11:12:28.966272Z",
          "iopub.status.idle": "2025-07-17T11:12:29.114359Z",
          "shell.execute_reply.started": "2025-07-17T11:12:28.966259Z",
          "shell.execute_reply": "2025-07-17T11:12:29.113667Z"
        }
      },
      "outputs": [],
      "execution_count": null
    },
    {
      "cell_type": "markdown",
      "source": [
        "Особенности: 2 класса, неплохо сбалансированы, но есть 2 уникальных разрешения -> необходимо привести к одному."
      ],
      "metadata": {
        "id": "TxlaNdREf0Jt"
      }
    },
    {
      "cell_type": "code",
      "source": [
        "def is_image_valid(path):\n",
        "    try:\n",
        "        img = Image.open(path)  # не загружает, но проверяет корректность\n",
        "        return True\n",
        "    except:\n",
        "        return False\n",
        "\n",
        "valid_train_files = [p for p in train_files if is_image_valid(p)]\n",
        "print(f\"Удалено {len(train_files) - len(valid_train_files)} поврежденных изображений\")"
      ],
      "metadata": {
        "id": "BQBCdM3fgd0x",
        "trusted": true,
        "execution": {
          "iopub.status.busy": "2025-07-17T11:12:29.115163Z",
          "iopub.execute_input": "2025-07-17T11:12:29.115434Z",
          "iopub.status.idle": "2025-07-17T11:12:29.963654Z",
          "shell.execute_reply.started": "2025-07-17T11:12:29.115410Z",
          "shell.execute_reply": "2025-07-17T11:12:29.962873Z"
        }
      },
      "outputs": [],
      "execution_count": null
    },
    {
      "cell_type": "markdown",
      "source": [
        "Все файлы открываются"
      ],
      "metadata": {
        "id": "dxz6g1EDhbDm"
      }
    },
    {
      "cell_type": "markdown",
      "source": [
        "## 2. Подготовить данные для обучения"
      ],
      "metadata": {
        "id": "8Y7alZSf3rAC"
      }
    },
    {
      "cell_type": "markdown",
      "source": [
        "- Создать тренировочную и тестовую подвыборки для обучения и тестирования работы моделей\n",
        "- Создать класс на фреймворке `PyTorch` для создания датасета\n",
        "- Создать `loader` для передачи данных в модель нейронной сети"
      ],
      "metadata": {
        "id": "MbSx5XVa3w61"
      }
    },
    {
      "cell_type": "code",
      "source": [
        "class MyDataset(Dataset):\n",
        "    # def __init__ - конструктор класс\n",
        "    def __init__(self, files, mode, label_encoder=None, labels=None):\n",
        "        super().__init__()\n",
        "        # список файлов для загрузки\n",
        "        self.files = files\n",
        "        self.labels = labels\n",
        "        # режим работы\n",
        "        self.mode = mode\n",
        "\n",
        "        if self.mode not in ['train', 'val', 'test']:\n",
        "            raise ValueError(f\"Invalid mode {self.mode}. Use 'train', 'val' or 'test'\")\n",
        "\n",
        "        # Усиленная аугментация для тренировки\n",
        "        self.train_transform = tfs.Compose([\n",
        "            transforms.Lambda(lambda img: img.convert(\"RGB\")),\n",
        "            tfs.Resize(299),\n",
        "            tfs.RandomCrop(299),\n",
        "            tfs.RandomAffine(degrees=15, shear=10, scale=(0.8, 1.2)),\n",
        "            tfs.ColorJitter(brightness=0.3, contrast=0.3, saturation=0.3),\n",
        "            tfs.GaussianBlur(kernel_size=(3,3), sigma=(0.1, 0.5)),\n",
        "            tfs.RandomPerspective(distortion_scale=0.2, p=0.5),\n",
        "            tfs.RandomHorizontalFlip(),\n",
        "            tfs.ToTensor(),\n",
        "            tfs.Normalize([0.485, 0.456, 0.406], [0.229, 0.224, 0.225]),\n",
        "            tfs.RandomErasing(p=0.5, scale=(0.02, 0.1))\n",
        "        ])\n",
        "        # Для валидации только изменяем саму картинку\n",
        "        self.val_transform = tfs.Compose([\n",
        "            transforms.Lambda(lambda img: img.convert(\"RGB\")),\n",
        "            tfs.Resize(299),\n",
        "            tfs.CenterCrop(299),\n",
        "            tfs.ToTensor(),\n",
        "            tfs.Normalize([0.485, 0.456, 0.406], [0.229, 0.224, 0.225])\n",
        "        ])\n",
        "\n",
        "        self.len_ = len(self.files)\n",
        "\n",
        "        #Вытаскиваем лейблы\n",
        "        if label_encoder is None and mode != 'test':\n",
        "            self.label_encoder = LabelEncoder()\n",
        "            self.all_labels = [path.stem.split(\"_\")[-1] for path in files]\n",
        "            self.label_encoder.fit(self.all_labels)\n",
        "        else:\n",
        "            self.label_encoder = label_encoder\n",
        "\n",
        "            with open('label_encoder.pkl', 'wb') as le_dump_file:\n",
        "                  pickle.dump(self.label_encoder, le_dump_file)\n",
        "\n",
        "    def __len__(self):\n",
        "        return self.len_\n",
        "    #Для открытия изображений\n",
        "    def load_sample(self, file):\n",
        "        image = Image.open(file)\n",
        "        image.load()\n",
        "        return image\n",
        "\n",
        "    def __getitem__(self, index):\n",
        "        file = self.files[index]\n",
        "        image = self.load_sample(file)\n",
        "\n",
        "        if self.mode == 'train':\n",
        "          image = self.train_transform(image)\n",
        "        else:\n",
        "          image = self.val_transform(image)\n",
        "        #Для теста вообще не изменяем картинки\n",
        "        if self.mode == 'test':\n",
        "            return image\n",
        "\n",
        "        label = self.label_encoder.transform([self.labels[index]])[0]\n",
        "        return image, label"
      ],
      "metadata": {
        "id": "f3wAd-n43wXr",
        "trusted": true,
        "execution": {
          "iopub.status.busy": "2025-07-17T11:12:29.964511Z",
          "iopub.execute_input": "2025-07-17T11:12:29.964839Z",
          "iopub.status.idle": "2025-07-17T11:12:29.975223Z",
          "shell.execute_reply.started": "2025-07-17T11:12:29.964820Z",
          "shell.execute_reply": "2025-07-17T11:12:29.974429Z"
        }
      },
      "outputs": [],
      "execution_count": null
    },
    {
      "cell_type": "code",
      "source": [
        "all_labels = [path.stem.split(\"_\")[-1] for path in train_files]\n",
        "\n",
        "# Создаем и обучаем encoder\n",
        "label_encoder = LabelEncoder()\n",
        "label_encoder.fit(all_labels)"
      ],
      "metadata": {
        "id": "b81dIPRaJaaZ",
        "trusted": true,
        "execution": {
          "iopub.status.busy": "2025-07-17T11:12:29.976084Z",
          "iopub.execute_input": "2025-07-17T11:12:29.976731Z",
          "iopub.status.idle": "2025-07-17T11:12:30.014109Z",
          "shell.execute_reply.started": "2025-07-17T11:12:29.976709Z",
          "shell.execute_reply": "2025-07-17T11:12:30.013615Z"
        }
      },
      "outputs": [],
      "execution_count": null
    },
    {
      "cell_type": "code",
      "source": [
        "from sklearn.model_selection import train_test_split\n",
        "#Разделим на подвыборки и стратифицируем по лейблам, важно сохранить соответствие лейблов картинкам\n",
        "files_with_labels = [(path, path.stem.split(\"_\")[-1]) for path in train_files]\n",
        "train_files_split, val_files_split = train_test_split(\n",
        "    files_with_labels,\n",
        "    test_size=0.25,\n",
        "    stratify=[label for (_, label) in files_with_labels]\n",
        ")"
      ],
      "metadata": {
        "id": "64dO4pB_k3vf",
        "trusted": true,
        "execution": {
          "iopub.status.busy": "2025-07-17T11:12:30.014754Z",
          "iopub.execute_input": "2025-07-17T11:12:30.014920Z",
          "iopub.status.idle": "2025-07-17T11:12:30.325203Z",
          "shell.execute_reply.started": "2025-07-17T11:12:30.014907Z",
          "shell.execute_reply": "2025-07-17T11:12:30.324632Z"
        }
      },
      "outputs": [],
      "execution_count": null
    },
    {
      "cell_type": "code",
      "source": [
        "# Разделяем обратно на файлы и метки\n",
        "train_files = [path for (path, _) in train_files_split]\n",
        "val_files = [path for (path, _) in val_files_split]\n",
        "train_labels = [label for (_, label) in train_files_split]\n",
        "val_labels = [label for (_, label) in val_files_split]"
      ],
      "metadata": {
        "id": "IVj9aV17D7T3",
        "trusted": true,
        "execution": {
          "iopub.status.busy": "2025-07-17T11:12:30.325901Z",
          "iopub.execute_input": "2025-07-17T11:12:30.326100Z",
          "iopub.status.idle": "2025-07-17T11:12:30.332607Z",
          "shell.execute_reply.started": "2025-07-17T11:12:30.326084Z",
          "shell.execute_reply": "2025-07-17T11:12:30.331793Z"
        }
      },
      "outputs": [],
      "execution_count": null
    },
    {
      "cell_type": "code",
      "source": [
        "len(train_files), len(val_files)"
      ],
      "metadata": {
        "id": "jS1WNVTclTAX",
        "trusted": true,
        "execution": {
          "iopub.status.busy": "2025-07-17T11:12:30.333526Z",
          "iopub.execute_input": "2025-07-17T11:12:30.333777Z",
          "iopub.status.idle": "2025-07-17T11:12:30.345453Z",
          "shell.execute_reply.started": "2025-07-17T11:12:30.333760Z",
          "shell.execute_reply": "2025-07-17T11:12:30.344835Z"
        }
      },
      "outputs": [],
      "execution_count": null
    },
    {
      "cell_type": "code",
      "source": [
        "train_files[49].name, train_labels[49]"
      ],
      "metadata": {
        "id": "U8eJJZ5iAyPK",
        "trusted": true,
        "execution": {
          "iopub.status.busy": "2025-07-17T11:12:30.346383Z",
          "iopub.execute_input": "2025-07-17T11:12:30.346662Z",
          "iopub.status.idle": "2025-07-17T11:12:30.356147Z",
          "shell.execute_reply.started": "2025-07-17T11:12:30.346644Z",
          "shell.execute_reply": "2025-07-17T11:12:30.355461Z"
        }
      },
      "outputs": [],
      "execution_count": null
    },
    {
      "cell_type": "code",
      "source": [
        "train_dataset = MyDataset(train_files, mode='train', label_encoder=label_encoder, labels=train_labels)\n",
        "test_dataset = MyDataset(test_files, mode='test')\n",
        "val_dataset = MyDataset(val_files, mode='val', label_encoder=label_encoder, labels=val_labels)"
      ],
      "metadata": {
        "id": "-omNDt8f4PUs",
        "trusted": true,
        "execution": {
          "iopub.status.busy": "2025-07-17T11:12:30.357035Z",
          "iopub.execute_input": "2025-07-17T11:12:30.357535Z",
          "iopub.status.idle": "2025-07-17T11:12:30.368343Z",
          "shell.execute_reply.started": "2025-07-17T11:12:30.357508Z",
          "shell.execute_reply": "2025-07-17T11:12:30.367722Z"
        }
      },
      "outputs": [],
      "execution_count": null
    },
    {
      "cell_type": "code",
      "source": [
        "for i in range(5):\n",
        "    print(f\"Файл: {val_dataset.files[i].name}, Метка: {val_dataset[i][1]}\")"
      ],
      "metadata": {
        "id": "lNBidEDM-jvc",
        "trusted": true,
        "execution": {
          "iopub.status.busy": "2025-07-17T11:12:30.369074Z",
          "iopub.execute_input": "2025-07-17T11:12:30.369321Z",
          "iopub.status.idle": "2025-07-17T11:12:30.424407Z",
          "shell.execute_reply.started": "2025-07-17T11:12:30.369300Z",
          "shell.execute_reply": "2025-07-17T11:12:30.423242Z"
        }
      },
      "outputs": [],
      "execution_count": null
    },
    {
      "cell_type": "code",
      "source": [
        "def imshow(inp, title=None, plt_ax=plt, default=False):\n",
        "    \"\"\"Imshow для тензоров\"\"\"\n",
        "    inp = inp.numpy().transpose((1, 2, 0))\n",
        "    mean = np.array([0.485, 0.456, 0.406])\n",
        "    std = np.array([0.229, 0.224, 0.225])\n",
        "    inp = std * inp + mean\n",
        "    inp = np.clip(inp, 0, 1)\n",
        "    plt_ax.imshow(inp)\n",
        "    if title is not None:\n",
        "        plt_ax.set_title(title)\n",
        "    plt_ax.grid(False)"
      ],
      "metadata": {
        "id": "p9qitPMpnamG",
        "trusted": true,
        "execution": {
          "iopub.status.busy": "2025-07-17T11:12:30.425301Z",
          "iopub.execute_input": "2025-07-17T11:12:30.425591Z",
          "iopub.status.idle": "2025-07-17T11:12:30.431325Z",
          "shell.execute_reply.started": "2025-07-17T11:12:30.425566Z",
          "shell.execute_reply": "2025-07-17T11:12:30.430546Z"
        }
      },
      "outputs": [],
      "execution_count": null
    },
    {
      "cell_type": "code",
      "source": [
        "#Посмотрим что получилось\n",
        "\n",
        "fig, ax = plt.subplots(nrows=3, ncols=3,figsize=(12, 12))\n",
        "\n",
        "for fig_x in ax.flatten():\n",
        "    idx = np.random.randint(0, len(val_dataset))\n",
        "    #Возьмем рандомные изображения из val\n",
        "    im_val, label = val_dataset[idx]\n",
        "    #Возьмем их лейблы, переформатируем\n",
        "    img_label = val_dataset.label_encoder.classes_[label]\n",
        "    #Отрисуем с помощью вспомогательной функции\n",
        "    imshow(im_val, title=img_label, plt_ax=fig_x)"
      ],
      "metadata": {
        "id": "tBCt5i4JmLPH",
        "trusted": true,
        "execution": {
          "iopub.status.busy": "2025-07-17T10:28:20.240658Z",
          "iopub.execute_input": "2025-07-17T10:28:20.241178Z",
          "iopub.status.idle": "2025-07-17T10:28:21.991410Z",
          "shell.execute_reply.started": "2025-07-17T10:28:20.241153Z",
          "shell.execute_reply": "2025-07-17T10:28:21.990600Z"
        }
      },
      "outputs": [],
      "execution_count": null
    },
    {
      "cell_type": "markdown",
      "source": [
        "## 3. Реализация модели\n",
        "\n",
        "- создать класс для модели\n",
        "- создать функцию для обучения модели\n",
        "- создать функцию для валидации модели"
      ],
      "metadata": {
        "id": "MkAU6J_L4ZgK"
      }
    },
    {
      "cell_type": "code",
      "source": [
        "#Для начала сами напишем простую модель, здесь только Conv слои, ReLU и макс пулинги, на вход подается RGB изображение размерности (3, H, W)\n",
        "#На выходе используется полносвязный слой для классификации на наше количество классов(2)\n",
        "class RSNAModel(nn.Module):\n",
        "    def __init__(self):\n",
        "        super().__init__()\n",
        "        self.conv1 = nn.Sequential(\n",
        "            nn.Conv2d(in_channels=3, out_channels=8, kernel_size=3),\n",
        "            nn.ReLU(),\n",
        "            nn.MaxPool2d(kernel_size=2)\n",
        "        )\n",
        "        self.conv2 = nn.Sequential(\n",
        "            nn.Conv2d(in_channels=8, out_channels=16, kernel_size=3),\n",
        "            nn.ReLU(),\n",
        "            nn.MaxPool2d(kernel_size=2)\n",
        "        )\n",
        "        self.conv3 = nn.Sequential(\n",
        "            nn.Conv2d(in_channels=16, out_channels=32, kernel_size=3),\n",
        "            nn.ReLU(),\n",
        "            nn.MaxPool2d(kernel_size=2)\n",
        "        )\n",
        "        self.conv4 = nn.Sequential(\n",
        "            nn.Conv2d(in_channels=32, out_channels=64, kernel_size=3),\n",
        "            nn.ReLU(),\n",
        "            nn.MaxPool2d(kernel_size=2)\n",
        "        )\n",
        "        self.conv5 = nn.Sequential(\n",
        "            nn.Conv2d(in_channels=64, out_channels=96, kernel_size=3),\n",
        "            nn.ReLU(),\n",
        "            nn.MaxPool2d(kernel_size=2)\n",
        "        )\n",
        "\n",
        "        self.out = nn.Linear(3456, 1)\n",
        "\n",
        "    def forward(self, x):\n",
        "        x = self.conv1(x)\n",
        "        x = self.conv2(x)\n",
        "        x = self.conv3(x)\n",
        "        x = self.conv4(x)\n",
        "        x = self.conv5(x)\n",
        "\n",
        "        x = x.view(x.size(0), -1)\n",
        "        logits = self.out(x)\n",
        "        return logits"
      ],
      "metadata": {
        "id": "0foopS2P4rLh",
        "trusted": true,
        "execution": {
          "iopub.status.busy": "2025-07-16T17:24:54.407610Z",
          "iopub.execute_input": "2025-07-16T17:24:54.408479Z",
          "iopub.status.idle": "2025-07-16T17:24:54.416237Z",
          "shell.execute_reply.started": "2025-07-16T17:24:54.408451Z",
          "shell.execute_reply": "2025-07-16T17:24:54.415396Z"
        }
      },
      "outputs": [],
      "execution_count": null
    },
    {
      "cell_type": "code",
      "source": [
        "train_on_gpu = torch.cuda.is_available()\n",
        "\n",
        "if not train_on_gpu:\n",
        "    print('CUDA is not available.  Training on CPU ...')\n",
        "else:\n",
        "    print('CUDA is available!  Training on GPU ...')\n",
        "\n",
        "DEVICE = torch.device(\"cuda\")"
      ],
      "metadata": {
        "id": "3McLjL_BqJOj",
        "trusted": true,
        "execution": {
          "iopub.status.busy": "2025-07-17T11:14:06.277433Z",
          "iopub.execute_input": "2025-07-17T11:14:06.277754Z",
          "iopub.status.idle": "2025-07-17T11:14:06.354916Z",
          "shell.execute_reply.started": "2025-07-17T11:14:06.277731Z",
          "shell.execute_reply": "2025-07-17T11:14:06.354105Z"
        }
      },
      "outputs": [],
      "execution_count": null
    },
    {
      "cell_type": "code",
      "source": [
        "def train_one_epoch(model, train_dataloader, optimizer, criterion):\n",
        "    '''\n",
        "    Эта функция проходит по всем данным в `train_dataloader`, выполняет шаг моделью (forward),\n",
        "    вычисляет лосс, выполняет обратное распространение с помощью заданного\n",
        "    оптимизатора и обновляет веса модели.\n",
        "    В конце эпохи возвращаются средний лосс и\n",
        "    точность на обучающем наборе данных.\n",
        "    '''\n",
        "\n",
        "    running_loss = 0.0\n",
        "    running_corrects = 0\n",
        "    processed_data = 0\n",
        "\n",
        "    for inputs, labels in train_dataloader:\n",
        "        inputs = inputs.to(DEVICE)\n",
        "        labels = labels.to(DEVICE)\n",
        "        optimizer.zero_grad()\n",
        "\n",
        "        outputs = model(inputs)\n",
        "        outputs = outputs.view(-1)\n",
        "        loss = criterion(outputs, labels.float())\n",
        "        loss.backward()\n",
        "        optimizer.step()\n",
        "        probs = torch.sigmoid(outputs)\n",
        "        preds = (probs > 0.5).long()\n",
        "        running_loss += loss.item()*inputs.size(0)\n",
        "        running_corrects += torch.sum(preds == labels.data)\n",
        "        processed_data += inputs.size(0)\n",
        "\n",
        "    train_loss = running_loss/processed_data\n",
        "    train_acc = running_corrects.cpu().numpy() / processed_data\n",
        "    return train_loss, train_acc\n",
        "\n",
        "def valid_one_epoch(model, valid_dataloader, criterion):\n",
        "    '''\n",
        "    Эта функция проходит по всем данным в `val_loader`, выполняет прямое\n",
        "    распространение, вычисляет лосс и точность модели. В конце эпохи\n",
        "    возвращаются средний лосс и точность на валидационном наборе данных.\n",
        "    '''\n",
        "    model.eval()\n",
        "    running_loss = 0.0\n",
        "    running_corrects = 0\n",
        "    processed_size = 0\n",
        "\n",
        "    for inputs, labels in valid_dataloader:\n",
        "        inputs = inputs.to(DEVICE)\n",
        "        labels = labels.to(DEVICE)\n",
        "\n",
        "        #Не вычисляем градиенты на val\n",
        "        with torch.set_grad_enabled(False):\n",
        "            outputs = model(inputs)\n",
        "            outputs = outputs.view(-1)\n",
        "            loss = criterion(outputs, labels.float())\n",
        "            probs = torch.sigmoid(outputs)\n",
        "            preds = (probs > 0.5).long()\n",
        "\n",
        "        running_loss += loss.item() * inputs.size(0)\n",
        "        #Считаем корректно предсказанные\n",
        "        running_corrects += torch.sum(preds == labels.data)\n",
        "        processed_size += inputs.size(0)\n",
        "    val_loss = running_loss/processed_size\n",
        "    val_acc = running_corrects.cpu().numpy()/processed_size\n",
        "    return val_loss, val_acc"
      ],
      "metadata": {
        "id": "05KUACqv4zlx",
        "trusted": true,
        "execution": {
          "iopub.status.busy": "2025-07-17T11:14:07.626018Z",
          "iopub.execute_input": "2025-07-17T11:14:07.626287Z",
          "iopub.status.idle": "2025-07-17T11:14:07.634438Z",
          "shell.execute_reply.started": "2025-07-17T11:14:07.626267Z",
          "shell.execute_reply": "2025-07-17T11:14:07.633655Z"
        }
      },
      "outputs": [],
      "execution_count": null
    },
    {
      "cell_type": "markdown",
      "source": [
        "## 4. Обучение модели\n",
        "*   Определить необходимые параметры для обучения модели (learning rate, optimizer, loss function, etc)\n",
        "*   Реализовать процесс обучения модели\n",
        "*   Оценить эффективность работы модели\n",
        "\n"
      ],
      "metadata": {
        "id": "kohYYP3N5GkT"
      }
    },
    {
      "cell_type": "code",
      "source": [
        "def init_weights(m):\n",
        "    if isinstance(m, nn.Conv2d) or isinstance(m, nn.Linear):\n",
        "        nn.init.kaiming_normal_(m.weight)\n",
        "        if m.bias is not None: nn.init.zeros_(m.bias)"
      ],
      "metadata": {
        "id": "tqrj7cJ-U-ax",
        "trusted": true,
        "execution": {
          "iopub.status.busy": "2025-07-17T11:14:12.270424Z",
          "iopub.execute_input": "2025-07-17T11:14:12.270737Z",
          "iopub.status.idle": "2025-07-17T11:14:12.274928Z",
          "shell.execute_reply.started": "2025-07-17T11:14:12.270713Z",
          "shell.execute_reply": "2025-07-17T11:14:12.274179Z"
        }
      },
      "outputs": [],
      "execution_count": null
    },
    {
      "cell_type": "code",
      "source": [
        "#Сделаем функции для тренировки и обучения модели на заданном количестве эпох\n",
        "def train(train_files, val_files, model, epochs, batch_size):\n",
        "  '''\n",
        "  Эта функция создает загрузчики данных для обучающего и валидационного наборов,\n",
        "  а затем выполняет обучение модели в течение заданного количества эпох.\n",
        "  В конце каждой эпохи выводятся значения потерь и точности для обучающего и\n",
        "  валидационного наборов. История обучения сохраняется и возвращается.\n",
        "  '''\n",
        "  #shuffle используется только при тренировке\n",
        "  train_loader = DataLoader(train_dataset, batch_size=batch_size, shuffle=True)\n",
        "  val_loader = DataLoader(val_dataset, batch_size=batch_size, shuffle=False)\n",
        "\n",
        "  history = []\n",
        "  log_template = \"\\nEpoch {ep:03d} train_loss: {t_loss:0.4f} \\\n",
        "    val_loss {v_loss:0.4f} train_acc {t_acc:0.4f} val_acc {v_acc:0.4f}\"\n",
        "\n",
        "  # Инициализация весов\n",
        "  model.apply(init_weights)\n",
        "  opt = torch.optim.AdamW(model.parameters(), lr=1e-4, weight_decay=1e-5)\n",
        "  #Шедулер для лучшего обучения\n",
        "  scheduler = torch.optim.lr_scheduler.ReduceLROnPlateau(opt, 'min', patience=3)\n",
        "  criterion = nn.BCEWithLogitsLoss()\n",
        "\n",
        "  best_acc = 0.0\n",
        "  early_stop_patience = 5\n",
        "  no_improve = 0\n",
        "\n",
        "  #Используем AdamW который чуть умнее обычного Adam и бинарную кросс энтропию для задачи бинарной классификации\n",
        "  with tqdm(desc=\"epoch\", total=epochs) as pbar_outer:\n",
        "        for epoch in range(epochs):\n",
        "            model.train()\n",
        "            train_loss, train_acc = train_one_epoch(model, train_loader, opt, criterion)\n",
        "\n",
        "            model.eval()\n",
        "            val_loss, val_acc = valid_one_epoch(model, val_loader, criterion)\n",
        "\n",
        "            scheduler.step(val_loss)\n",
        "\n",
        "            # Ранняя остановка\n",
        "            if val_acc > best_acc:\n",
        "                best_acc = val_acc\n",
        "                no_improve = 0\n",
        "                torch.save(model.state_dict(), 'best_model.pth')\n",
        "            else:\n",
        "                no_improve += 1\n",
        "                if no_improve >= early_stop_patience:\n",
        "                    print(f\"\\nEarly stopping at epoch {epoch+1}\")\n",
        "                    break\n",
        "\n",
        "            history.append((train_loss, train_acc, val_loss, val_acc))\n",
        "            pbar_outer.update(1)\n",
        "            tqdm.write(log_template.format(ep=epoch+1, t_loss=train_loss,\n",
        "                                         v_loss=val_loss, t_acc=train_acc, v_acc=val_acc))\n",
        "  return history"
      ],
      "metadata": {
        "id": "SMN4I1wB5jtP",
        "trusted": true,
        "execution": {
          "iopub.status.busy": "2025-07-17T11:14:13.509691Z",
          "iopub.execute_input": "2025-07-17T11:14:13.509971Z",
          "iopub.status.idle": "2025-07-17T11:14:13.517592Z",
          "shell.execute_reply.started": "2025-07-17T11:14:13.509944Z",
          "shell.execute_reply": "2025-07-17T11:14:13.516754Z"
        }
      },
      "outputs": [],
      "execution_count": null
    },
    {
      "cell_type": "code",
      "source": [
        "def predict(model, test_loader):\n",
        "  '''\n",
        "  Эта функция принимает модель и загрузчик тестовых данных, применяет модель к\n",
        "  изображениям и возвращает вероятности предсказанных классов.\n",
        "  '''\n",
        "\n",
        "  with torch.no_grad():\n",
        "    logits = []\n",
        "\n",
        "    model.eval()\n",
        "    for inputs in test_loader:\n",
        "        inputs = inputs.to(DEVICE)\n",
        "        outputs = model(inputs)\n",
        "        outputs = outputs.squeeze(1)\n",
        "        logits.append(outputs.cpu())\n",
        "  #Возвращаем массив предсказанных классов\n",
        "  all_output = torch.cat(logits, dim=0)\n",
        "  probs = torch.sigmoid(all_output)\n",
        "  preds = (probs > 0.5).long()\n",
        "  return preds"
      ],
      "metadata": {
        "id": "kxRDawjgtuad",
        "trusted": true,
        "execution": {
          "iopub.status.busy": "2025-07-17T11:14:16.758865Z",
          "iopub.execute_input": "2025-07-17T11:14:16.759167Z",
          "iopub.status.idle": "2025-07-17T11:14:16.764293Z",
          "shell.execute_reply.started": "2025-07-17T11:14:16.759147Z",
          "shell.execute_reply": "2025-07-17T11:14:16.763528Z"
        }
      },
      "outputs": [],
      "execution_count": null
    },
    {
      "cell_type": "code",
      "source": [
        "simple_cnn = RSNAModel().to(DEVICE)\n",
        "simple_cnn"
      ],
      "metadata": {
        "id": "tusfjEE6uchE",
        "trusted": true,
        "execution": {
          "iopub.status.busy": "2025-07-16T17:28:52.495550Z",
          "iopub.execute_input": "2025-07-16T17:28:52.495871Z",
          "iopub.status.idle": "2025-07-16T17:28:52.504296Z",
          "shell.execute_reply.started": "2025-07-16T17:28:52.495847Z",
          "shell.execute_reply": "2025-07-16T17:28:52.503784Z"
        }
      },
      "outputs": [],
      "execution_count": null
    },
    {
      "cell_type": "code",
      "source": [
        "history = train(train_dataset, val_dataset, model=simple_cnn, epochs=20, batch_size=64)"
      ],
      "metadata": {
        "id": "p6KHualOvThQ",
        "trusted": true,
        "execution": {
          "iopub.status.busy": "2025-07-16T17:28:56.596000Z",
          "iopub.execute_input": "2025-07-16T17:28:56.596457Z"
        }
      },
      "outputs": [],
      "execution_count": null
    },
    {
      "cell_type": "code",
      "source": [
        "loss, acc, val_loss, val_acc = zip(*history)"
      ],
      "metadata": {
        "id": "T_eSYVoLOAb2",
        "trusted": true,
        "execution": {
          "iopub.status.busy": "2025-07-16T18:15:18.498236Z",
          "iopub.execute_input": "2025-07-16T18:15:18.498500Z",
          "iopub.status.idle": "2025-07-16T18:15:18.502219Z",
          "shell.execute_reply.started": "2025-07-16T18:15:18.498478Z",
          "shell.execute_reply": "2025-07-16T18:15:18.501609Z"
        }
      },
      "outputs": [],
      "execution_count": null
    },
    {
      "cell_type": "code",
      "source": [
        "plt.figure(figsize=(15, 9))\n",
        "plt.plot(loss, label=\"train_loss\")\n",
        "plt.plot(val_loss, label=\"val_loss\")\n",
        "plt.legend(loc='best')\n",
        "plt.xlabel(\"epochs\")\n",
        "plt.ylabel(\"loss\")\n",
        "plt.show()"
      ],
      "metadata": {
        "id": "ktdaZtU4OBB9",
        "trusted": true,
        "execution": {
          "iopub.status.busy": "2025-07-16T18:15:21.298975Z",
          "iopub.execute_input": "2025-07-16T18:15:21.299244Z",
          "iopub.status.idle": "2025-07-16T18:15:21.503076Z",
          "shell.execute_reply.started": "2025-07-16T18:15:21.299223Z",
          "shell.execute_reply": "2025-07-16T18:15:21.502312Z"
        }
      },
      "outputs": [],
      "execution_count": null
    },
    {
      "cell_type": "code",
      "source": [
        "test_loader = DataLoader(test_dataset, shuffle=False, batch_size=16)\n",
        "probs = predict(simple_cnn, test_loader)"
      ],
      "metadata": {
        "id": "n5I4n-1H3HQZ",
        "trusted": true,
        "execution": {
          "iopub.status.busy": "2025-07-16T18:15:29.680225Z",
          "iopub.execute_input": "2025-07-16T18:15:29.680499Z",
          "iopub.status.idle": "2025-07-16T18:15:43.416081Z",
          "shell.execute_reply.started": "2025-07-16T18:15:29.680479Z",
          "shell.execute_reply": "2025-07-16T18:15:43.415185Z"
        }
      },
      "outputs": [],
      "execution_count": null
    },
    {
      "cell_type": "code",
      "source": [
        "probs"
      ],
      "metadata": {
        "id": "YdYWFYYB01U-",
        "trusted": true,
        "execution": {
          "iopub.status.busy": "2025-07-16T18:15:46.779903Z",
          "iopub.execute_input": "2025-07-16T18:15:46.780167Z",
          "iopub.status.idle": "2025-07-16T18:15:46.793375Z",
          "shell.execute_reply.started": "2025-07-16T18:15:46.780146Z",
          "shell.execute_reply": "2025-07-16T18:15:46.792853Z"
        }
      },
      "outputs": [],
      "execution_count": null
    },
    {
      "cell_type": "code",
      "source": [
        "label_encoder = pickle.load(open(\"label_encoder.pkl\", 'rb'))"
      ],
      "metadata": {
        "id": "a-1UjddC4iu0",
        "trusted": true,
        "execution": {
          "iopub.status.busy": "2025-07-16T18:15:50.555984Z",
          "iopub.execute_input": "2025-07-16T18:15:50.556253Z",
          "iopub.status.idle": "2025-07-16T18:15:50.560296Z",
          "shell.execute_reply.started": "2025-07-16T18:15:50.556232Z",
          "shell.execute_reply": "2025-07-16T18:15:50.559557Z"
        }
      },
      "outputs": [],
      "execution_count": null
    },
    {
      "cell_type": "code",
      "source": [
        "preds = label_encoder.inverse_transform(probs)\n",
        "test_filenames = [path.name for path in test_dataset.files]"
      ],
      "metadata": {
        "id": "UqM0xJiT4JTl",
        "trusted": true,
        "execution": {
          "iopub.status.busy": "2025-07-16T18:15:54.159446Z",
          "iopub.execute_input": "2025-07-16T18:15:54.159711Z",
          "iopub.status.idle": "2025-07-16T18:15:54.165715Z",
          "shell.execute_reply.started": "2025-07-16T18:15:54.159689Z",
          "shell.execute_reply": "2025-07-16T18:15:54.165192Z"
        }
      },
      "outputs": [],
      "execution_count": null
    },
    {
      "cell_type": "code",
      "source": [
        "preds"
      ],
      "metadata": {
        "id": "K04r5VfH1NMG",
        "trusted": true,
        "execution": {
          "iopub.status.busy": "2025-07-16T18:15:58.814955Z",
          "iopub.execute_input": "2025-07-16T18:15:58.815645Z",
          "iopub.status.idle": "2025-07-16T18:15:58.820327Z",
          "shell.execute_reply.started": "2025-07-16T18:15:58.815624Z",
          "shell.execute_reply": "2025-07-16T18:15:58.819544Z"
        }
      },
      "outputs": [],
      "execution_count": null
    },
    {
      "cell_type": "code",
      "source": [
        "test_filenames"
      ],
      "metadata": {
        "collapsed": true,
        "id": "Qlx5U3Vs1PiR",
        "jupyter": {
          "outputs_hidden": true
        },
        "trusted": true,
        "execution": {
          "iopub.status.busy": "2025-07-16T18:16:05.148153Z",
          "iopub.execute_input": "2025-07-16T18:16:05.148670Z",
          "iopub.status.idle": "2025-07-16T18:16:05.158540Z",
          "shell.execute_reply.started": "2025-07-16T18:16:05.148649Z",
          "shell.execute_reply": "2025-07-16T18:16:05.157898Z"
        }
      },
      "outputs": [],
      "execution_count": null
    },
    {
      "cell_type": "code",
      "source": [
        "pd.Series(preds).value_counts()"
      ],
      "metadata": {
        "id": "VJvAJQWwDxko",
        "trusted": true,
        "execution": {
          "iopub.status.busy": "2025-07-16T18:16:09.403260Z",
          "iopub.execute_input": "2025-07-16T18:16:09.403518Z",
          "iopub.status.idle": "2025-07-16T18:16:09.410874Z",
          "shell.execute_reply.started": "2025-07-16T18:16:09.403498Z",
          "shell.execute_reply": "2025-07-16T18:16:09.410120Z"
        }
      },
      "outputs": [],
      "execution_count": null
    },
    {
      "cell_type": "code",
      "source": [
        "test = pd.DataFrame({\n",
        "    \"index\": test_filenames,\n",
        "    \"label\": preds\n",
        "})"
      ],
      "metadata": {
        "id": "dsEkaaDo1nxQ",
        "trusted": true,
        "execution": {
          "iopub.status.busy": "2025-07-16T18:16:14.287838Z",
          "iopub.execute_input": "2025-07-16T18:16:14.288446Z",
          "iopub.status.idle": "2025-07-16T18:16:14.292996Z",
          "shell.execute_reply.started": "2025-07-16T18:16:14.288414Z",
          "shell.execute_reply": "2025-07-16T18:16:14.292267Z"
        }
      },
      "outputs": [],
      "execution_count": null
    },
    {
      "cell_type": "code",
      "source": [
        "test.to_csv('simp_submission.csv', index = False)"
      ],
      "metadata": {
        "id": "Tjywz-ZD2KuX",
        "trusted": true,
        "execution": {
          "iopub.status.busy": "2025-07-16T18:16:26.883783Z",
          "iopub.execute_input": "2025-07-16T18:16:26.884056Z",
          "iopub.status.idle": "2025-07-16T18:16:26.892350Z",
          "shell.execute_reply.started": "2025-07-16T18:16:26.884038Z",
          "shell.execute_reply": "2025-07-16T18:16:26.891790Z"
        }
      },
      "outputs": [],
      "execution_count": null
    },
    {
      "cell_type": "markdown",
      "source": [
        "![image.png](attachment:7bc345d5-7e2b-447d-bb90-2592d917bc7f.png)"
      ],
      "metadata": {
        "id": "mfR6Klnh9XDJ"
      }
    },
    {
      "cell_type": "markdown",
      "source": [
        "# Отлично предсказывает даже такая простая модель"
      ],
      "metadata": {
        "id": "5kgP4O6l9XDJ"
      }
    },
    {
      "cell_type": "markdown",
      "source": [
        "## 5. Экспериментальная часть\n",
        "\n",
        "- протестировать не менее 3х разных моделей для решения задачи\n",
        "- сравнить их эффективность (по метрикам и потерям)\n",
        "- сделать выводы"
      ],
      "metadata": {
        "id": "Jo1g3CnF5Xyp"
      }
    },
    {
      "cell_type": "code",
      "source": [
        "#Попробуем реснет\n",
        "model = models.resnet18(pretrained=True)"
      ],
      "metadata": {
        "id": "EXV2-qaG5k6G",
        "trusted": true,
        "execution": {
          "iopub.status.busy": "2025-07-16T18:19:42.567009Z",
          "iopub.execute_input": "2025-07-16T18:19:42.567488Z",
          "iopub.status.idle": "2025-07-16T18:19:43.109124Z",
          "shell.execute_reply.started": "2025-07-16T18:19:42.567466Z",
          "shell.execute_reply": "2025-07-16T18:19:43.108451Z"
        }
      },
      "outputs": [],
      "execution_count": null
    },
    {
      "cell_type": "code",
      "source": [
        "#Модель достаточно умнее предыдущей, добавлены батчнормы, даунсемплы, Adaptive average pooling\n",
        "model"
      ],
      "metadata": {
        "id": "Mi-OsK2t3HrY",
        "trusted": true,
        "execution": {
          "iopub.status.busy": "2025-07-16T18:19:46.464598Z",
          "iopub.execute_input": "2025-07-16T18:19:46.464891Z",
          "iopub.status.idle": "2025-07-16T18:19:46.470399Z",
          "shell.execute_reply.started": "2025-07-16T18:19:46.464869Z",
          "shell.execute_reply": "2025-07-16T18:19:46.469698Z"
        }
      },
      "outputs": [],
      "execution_count": null
    },
    {
      "cell_type": "code",
      "source": [
        "model.fc = nn.Sequential(\n",
        "    nn.Linear(model.fc.in_features, 512),\n",
        "    nn.BatchNorm1d(512),\n",
        "    nn.ReLU(),\n",
        "    nn.Dropout(0.5),\n",
        "    nn.Linear(512, 1)\n",
        ")"
      ],
      "metadata": {
        "id": "fW-hfR2s3Ix4",
        "trusted": true,
        "execution": {
          "iopub.status.busy": "2025-07-16T18:19:50.251392Z",
          "iopub.execute_input": "2025-07-16T18:19:50.252081Z",
          "iopub.status.idle": "2025-07-16T18:19:50.258299Z",
          "shell.execute_reply.started": "2025-07-16T18:19:50.252056Z",
          "shell.execute_reply": "2025-07-16T18:19:50.257556Z"
        }
      },
      "outputs": [],
      "execution_count": null
    },
    {
      "cell_type": "code",
      "source": [
        "res_model = model.to(DEVICE)"
      ],
      "metadata": {
        "id": "AP2PsByX3nFa",
        "trusted": true,
        "execution": {
          "iopub.status.busy": "2025-07-16T18:19:53.831640Z",
          "iopub.execute_input": "2025-07-16T18:19:53.832447Z",
          "iopub.status.idle": "2025-07-16T18:19:53.854893Z",
          "shell.execute_reply.started": "2025-07-16T18:19:53.832409Z",
          "shell.execute_reply": "2025-07-16T18:19:53.853983Z"
        }
      },
      "outputs": [],
      "execution_count": null
    },
    {
      "cell_type": "code",
      "source": [
        "history = train(train_dataset, val_dataset, model=res_model, epochs=20, batch_size=64)"
      ],
      "metadata": {
        "id": "BlAUavSk31DN",
        "trusted": true,
        "execution": {
          "iopub.status.busy": "2025-07-16T18:20:00.579927Z",
          "iopub.execute_input": "2025-07-16T18:20:00.580605Z",
          "iopub.status.idle": "2025-07-16T19:13:46.111408Z",
          "shell.execute_reply.started": "2025-07-16T18:20:00.580582Z",
          "shell.execute_reply": "2025-07-16T19:13:46.110735Z"
        }
      },
      "outputs": [],
      "execution_count": null
    },
    {
      "cell_type": "code",
      "source": [
        "loss, acc, val_loss, val_acc = zip(*history)"
      ],
      "metadata": {
        "trusted": true,
        "execution": {
          "iopub.status.busy": "2025-07-16T19:14:09.864052Z",
          "iopub.execute_input": "2025-07-16T19:14:09.864684Z",
          "iopub.status.idle": "2025-07-16T19:14:09.868001Z",
          "shell.execute_reply.started": "2025-07-16T19:14:09.864662Z",
          "shell.execute_reply": "2025-07-16T19:14:09.867439Z"
        },
        "id": "12zVIxK49XDK"
      },
      "outputs": [],
      "execution_count": null
    },
    {
      "cell_type": "code",
      "source": [
        "plt.figure(figsize=(15, 9))\n",
        "plt.plot(loss, label=\"train_loss\")\n",
        "plt.plot(val_loss, label=\"val_loss\")\n",
        "plt.legend(loc='best')\n",
        "plt.xlabel(\"epochs\")\n",
        "plt.ylabel(\"loss\")\n",
        "plt.show()"
      ],
      "metadata": {
        "trusted": true,
        "execution": {
          "iopub.status.busy": "2025-07-16T19:14:12.732952Z",
          "iopub.execute_input": "2025-07-16T19:14:12.733538Z",
          "iopub.status.idle": "2025-07-16T19:14:12.937488Z",
          "shell.execute_reply.started": "2025-07-16T19:14:12.733516Z",
          "shell.execute_reply": "2025-07-16T19:14:12.936775Z"
        },
        "id": "YhiWZdMr9XDK"
      },
      "outputs": [],
      "execution_count": null
    },
    {
      "cell_type": "code",
      "source": [
        "test_loader = DataLoader(test_dataset, shuffle=False, batch_size=16)\n",
        "probs_res = predict(res_model, test_loader)"
      ],
      "metadata": {
        "trusted": true,
        "execution": {
          "iopub.status.busy": "2025-07-16T19:14:18.989024Z",
          "iopub.execute_input": "2025-07-16T19:14:18.989652Z",
          "iopub.status.idle": "2025-07-16T19:14:37.009782Z",
          "shell.execute_reply.started": "2025-07-16T19:14:18.989630Z",
          "shell.execute_reply": "2025-07-16T19:14:37.009128Z"
        },
        "id": "rE4hDL7k9XDK"
      },
      "outputs": [],
      "execution_count": null
    },
    {
      "cell_type": "code",
      "source": [
        "label_encoder = pickle.load(open(\"label_encoder.pkl\", 'rb'))"
      ],
      "metadata": {
        "trusted": true,
        "execution": {
          "iopub.status.busy": "2025-07-16T19:14:40.131543Z",
          "iopub.execute_input": "2025-07-16T19:14:40.131908Z",
          "iopub.status.idle": "2025-07-16T19:14:40.135645Z",
          "shell.execute_reply.started": "2025-07-16T19:14:40.131885Z",
          "shell.execute_reply": "2025-07-16T19:14:40.134824Z"
        },
        "id": "TFuw_iJS9XDL"
      },
      "outputs": [],
      "execution_count": null
    },
    {
      "cell_type": "code",
      "source": [
        "preds_res = label_encoder.inverse_transform(probs_res)\n",
        "test_filenames = [path.name for path in test_dataset.files]"
      ],
      "metadata": {
        "trusted": true,
        "execution": {
          "iopub.status.busy": "2025-07-16T19:14:44.078769Z",
          "iopub.execute_input": "2025-07-16T19:14:44.079048Z",
          "iopub.status.idle": "2025-07-16T19:14:44.085068Z",
          "shell.execute_reply.started": "2025-07-16T19:14:44.079028Z",
          "shell.execute_reply": "2025-07-16T19:14:44.084535Z"
        },
        "id": "kzX1W_M29XDL"
      },
      "outputs": [],
      "execution_count": null
    },
    {
      "cell_type": "code",
      "source": [
        "preds_res"
      ],
      "metadata": {
        "trusted": true,
        "execution": {
          "iopub.status.busy": "2025-07-16T19:14:47.318548Z",
          "iopub.execute_input": "2025-07-16T19:14:47.319289Z",
          "iopub.status.idle": "2025-07-16T19:14:47.324295Z",
          "shell.execute_reply.started": "2025-07-16T19:14:47.319265Z",
          "shell.execute_reply": "2025-07-16T19:14:47.323415Z"
        },
        "id": "ZdTlML5_9XDL"
      },
      "outputs": [],
      "execution_count": null
    },
    {
      "cell_type": "code",
      "source": [
        "pd.Series(preds_res).value_counts()"
      ],
      "metadata": {
        "trusted": true,
        "execution": {
          "iopub.status.busy": "2025-07-16T19:14:50.847973Z",
          "iopub.execute_input": "2025-07-16T19:14:50.848259Z",
          "iopub.status.idle": "2025-07-16T19:14:50.855683Z",
          "shell.execute_reply.started": "2025-07-16T19:14:50.848238Z",
          "shell.execute_reply": "2025-07-16T19:14:50.855100Z"
        },
        "id": "a5SUVw2q9XDL"
      },
      "outputs": [],
      "execution_count": null
    },
    {
      "cell_type": "code",
      "source": [
        "test_res = pd.DataFrame({\n",
        "    \"index\": test_filenames,\n",
        "    \"label\": preds_res\n",
        "})"
      ],
      "metadata": {
        "trusted": true,
        "execution": {
          "iopub.status.busy": "2025-07-16T19:15:08.061208Z",
          "iopub.execute_input": "2025-07-16T19:15:08.061469Z",
          "iopub.status.idle": "2025-07-16T19:15:08.066228Z",
          "shell.execute_reply.started": "2025-07-16T19:15:08.061448Z",
          "shell.execute_reply": "2025-07-16T19:15:08.065556Z"
        },
        "id": "SuRfHr2x9XDL"
      },
      "outputs": [],
      "execution_count": null
    },
    {
      "cell_type": "code",
      "source": [
        "test_res.to_csv('res_submission.csv', index = False)"
      ],
      "metadata": {
        "trusted": true,
        "execution": {
          "iopub.status.busy": "2025-07-16T19:15:18.040950Z",
          "iopub.execute_input": "2025-07-16T19:15:18.041224Z",
          "iopub.status.idle": "2025-07-16T19:15:18.049177Z",
          "shell.execute_reply.started": "2025-07-16T19:15:18.041203Z",
          "shell.execute_reply": "2025-07-16T19:15:18.048462Z"
        },
        "id": "tti45sAQ9XDL"
      },
      "outputs": [],
      "execution_count": null
    },
    {
      "cell_type": "markdown",
      "source": [
        "![image.png](attachment:b16092bb-043e-433e-849e-9c1ed09ee8a3.png)"
      ],
      "metadata": {
        "id": "gX71yWGH9XDL"
      }
    },
    {
      "cell_type": "markdown",
      "source": [
        "# Score еще возрос, что ожидаемо от более сложной модели"
      ],
      "metadata": {
        "id": "DG6h_rGH9XDL"
      }
    },
    {
      "cell_type": "code",
      "source": [
        "from torchvision.models import inception_v3, Inception_V3_Weights\n",
        "#Попробуем еще архитектуру inception\n",
        "weights = Inception_V3_Weights.DEFAULT\n",
        "model = inception_v3(weights=weights, aux_logits=True)\n",
        "model.aux_logits = False\n",
        "model"
      ],
      "metadata": {
        "trusted": true,
        "execution": {
          "iopub.status.busy": "2025-07-17T11:13:36.748621Z",
          "iopub.execute_input": "2025-07-17T11:13:36.748944Z",
          "iopub.status.idle": "2025-07-17T11:13:43.531323Z",
          "shell.execute_reply.started": "2025-07-17T11:13:36.748916Z",
          "shell.execute_reply": "2025-07-17T11:13:43.530606Z"
        },
        "collapsed": true,
        "jupyter": {
          "outputs_hidden": true
        },
        "id": "M34iOdiY9XDL"
      },
      "outputs": [],
      "execution_count": null
    },
    {
      "cell_type": "code",
      "source": [
        "model.fc = nn.Linear(model.fc.in_features, 1)"
      ],
      "metadata": {
        "trusted": true,
        "execution": {
          "iopub.status.busy": "2025-07-17T11:13:50.000481Z",
          "iopub.execute_input": "2025-07-17T11:13:50.000797Z",
          "iopub.status.idle": "2025-07-17T11:13:50.006396Z",
          "shell.execute_reply.started": "2025-07-17T11:13:50.000777Z",
          "shell.execute_reply": "2025-07-17T11:13:50.005709Z"
        },
        "id": "120k1JIa9XDM"
      },
      "outputs": [],
      "execution_count": null
    },
    {
      "cell_type": "code",
      "source": [
        "inception = model.to(DEVICE)"
      ],
      "metadata": {
        "trusted": true,
        "execution": {
          "iopub.status.busy": "2025-07-17T11:14:25.388298Z",
          "iopub.execute_input": "2025-07-17T11:14:25.388660Z",
          "iopub.status.idle": "2025-07-17T11:14:25.613968Z",
          "shell.execute_reply.started": "2025-07-17T11:14:25.388638Z",
          "shell.execute_reply": "2025-07-17T11:14:25.613181Z"
        },
        "id": "fs-Y9tTT9XDM"
      },
      "outputs": [],
      "execution_count": null
    },
    {
      "cell_type": "code",
      "source": [
        "history = train(train_dataset, val_dataset, model=inception, epochs=20, batch_size=64)"
      ],
      "metadata": {
        "trusted": true,
        "execution": {
          "iopub.status.busy": "2025-07-17T11:14:27.528389Z",
          "iopub.execute_input": "2025-07-17T11:14:27.528679Z",
          "iopub.status.idle": "2025-07-17T12:42:47.245915Z",
          "shell.execute_reply.started": "2025-07-17T11:14:27.528659Z",
          "shell.execute_reply": "2025-07-17T12:42:47.245119Z"
        },
        "id": "DivHq6mp9XDM"
      },
      "outputs": [],
      "execution_count": null
    },
    {
      "cell_type": "code",
      "source": [
        "loss, acc, val_loss, val_acc = zip(*history)"
      ],
      "metadata": {
        "trusted": true,
        "execution": {
          "iopub.status.busy": "2025-07-17T12:43:02.297556Z",
          "iopub.execute_input": "2025-07-17T12:43:02.297836Z",
          "iopub.status.idle": "2025-07-17T12:43:02.301496Z",
          "shell.execute_reply.started": "2025-07-17T12:43:02.297816Z",
          "shell.execute_reply": "2025-07-17T12:43:02.300865Z"
        },
        "id": "R71Mb7AJ9XDM"
      },
      "outputs": [],
      "execution_count": null
    },
    {
      "cell_type": "code",
      "source": [
        "plt.figure(figsize=(15, 9))\n",
        "plt.plot(loss, label=\"train_loss\")\n",
        "plt.plot(val_loss, label=\"val_loss\")\n",
        "plt.legend(loc='best')\n",
        "plt.xlabel(\"epochs\")\n",
        "plt.ylabel(\"loss\")\n",
        "plt.show()"
      ],
      "metadata": {
        "trusted": true,
        "execution": {
          "iopub.status.busy": "2025-07-17T12:43:05.966232Z",
          "iopub.execute_input": "2025-07-17T12:43:05.966552Z",
          "iopub.status.idle": "2025-07-17T12:43:06.156260Z",
          "shell.execute_reply.started": "2025-07-17T12:43:05.966530Z",
          "shell.execute_reply": "2025-07-17T12:43:06.155452Z"
        },
        "id": "885jrivN9XDM"
      },
      "outputs": [],
      "execution_count": null
    },
    {
      "cell_type": "code",
      "source": [
        "test_loader = DataLoader(test_dataset, shuffle=False, batch_size=16)\n",
        "probs_ins = predict(inception, test_loader)"
      ],
      "metadata": {
        "trusted": true,
        "execution": {
          "iopub.status.busy": "2025-07-17T12:43:13.725441Z",
          "iopub.execute_input": "2025-07-17T12:43:13.725754Z",
          "iopub.status.idle": "2025-07-17T12:43:39.849528Z",
          "shell.execute_reply.started": "2025-07-17T12:43:13.725734Z",
          "shell.execute_reply": "2025-07-17T12:43:39.848926Z"
        },
        "id": "W1c2uggL9XDM"
      },
      "outputs": [],
      "execution_count": null
    },
    {
      "cell_type": "code",
      "source": [
        "label_encoder = pickle.load(open(\"label_encoder.pkl\", 'rb'))"
      ],
      "metadata": {
        "trusted": true,
        "id": "0LFwdv3D9XDM"
      },
      "outputs": [],
      "execution_count": null
    },
    {
      "cell_type": "code",
      "source": [
        "preds_ins = label_encoder.inverse_transform(probs_ins)\n",
        "test_filenames = [path.name for path in test_dataset.files]"
      ],
      "metadata": {
        "trusted": true,
        "execution": {
          "iopub.status.busy": "2025-07-17T12:43:51.683977Z",
          "iopub.execute_input": "2025-07-17T12:43:51.684213Z",
          "iopub.status.idle": "2025-07-17T12:43:51.690451Z",
          "shell.execute_reply.started": "2025-07-17T12:43:51.684198Z",
          "shell.execute_reply": "2025-07-17T12:43:51.689789Z"
        },
        "id": "lOlCp_q89XDM"
      },
      "outputs": [],
      "execution_count": null
    },
    {
      "cell_type": "code",
      "source": [
        "pd.Series(preds_ins).value_counts()"
      ],
      "metadata": {
        "trusted": true,
        "execution": {
          "iopub.status.busy": "2025-07-17T12:43:56.068653Z",
          "iopub.execute_input": "2025-07-17T12:43:56.068923Z",
          "iopub.status.idle": "2025-07-17T12:43:56.076415Z",
          "shell.execute_reply.started": "2025-07-17T12:43:56.068901Z",
          "shell.execute_reply": "2025-07-17T12:43:56.075693Z"
        },
        "id": "g1Owebvc9XDN"
      },
      "outputs": [],
      "execution_count": null
    },
    {
      "cell_type": "code",
      "source": [
        "test_ins = pd.DataFrame({\n",
        "    \"index\": test_filenames,\n",
        "    \"label\": preds_ins\n",
        "})"
      ],
      "metadata": {
        "trusted": true,
        "execution": {
          "iopub.status.busy": "2025-07-17T12:44:00.000067Z",
          "iopub.execute_input": "2025-07-17T12:44:00.000306Z",
          "iopub.status.idle": "2025-07-17T12:44:00.005316Z",
          "shell.execute_reply.started": "2025-07-17T12:44:00.000290Z",
          "shell.execute_reply": "2025-07-17T12:44:00.004629Z"
        },
        "id": "9x2zxIz-9XDN"
      },
      "outputs": [],
      "execution_count": null
    },
    {
      "cell_type": "code",
      "source": [
        "test_ins.to_csv('ins_submission.csv', index = False)"
      ],
      "metadata": {
        "trusted": true,
        "execution": {
          "iopub.status.busy": "2025-07-17T12:44:10.416091Z",
          "iopub.execute_input": "2025-07-17T12:44:10.416399Z",
          "iopub.status.idle": "2025-07-17T12:44:10.431618Z",
          "shell.execute_reply.started": "2025-07-17T12:44:10.416354Z",
          "shell.execute_reply": "2025-07-17T12:44:10.430832Z"
        },
        "id": "eRXZsNYB9XDN"
      },
      "outputs": [],
      "execution_count": null
    },
    {
      "cell_type": "markdown",
      "source": [
        "![image.png](attachment:0b25f292-3c9f-41ac-ba64-8e899d56b2ef.png)"
      ],
      "metadata": {
        "id": "kAHM0xd29XDN"
      }
    },
    {
      "cell_type": "markdown",
      "source": [
        "Немного хуже, но разница в 2 тысячных невелика"
      ],
      "metadata": {
        "id": "c37cyVz69XDN"
      }
    },
    {
      "cell_type": "markdown",
      "source": [
        "# Итого - 3 разные модели, в целом все справились неплохо, но resnet18 все же справилась лучше по accuracy, но это не значит, что она лучшая во всём, поэтому можно сказать что все модели предсказывают отлично."
      ],
      "metadata": {
        "id": "nXOkWnGC9XDN"
      }
    }
  ]
}