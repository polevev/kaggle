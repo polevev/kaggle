{
  "nbformat": 4,
  "nbformat_minor": 0,
  "metadata": {
    "colab": {
      "provenance": [],
      "include_colab_link": true
    },
    "kernelspec": {
      "name": "python3",
      "display_name": "Python 3"
    },
    "language_info": {
      "name": "python"
    }
  },
  "cells": [
    {
      "cell_type": "markdown",
      "metadata": {
        "id": "view-in-github",
        "colab_type": "text"
      },
      "source": [
        "<a href=\"https://colab.research.google.com/github/polevev/kaggle/blob/main/Stars_classify.ipynb\" target=\"_parent\"><img src=\"https://colab.research.google.com/assets/colab-badge.svg\" alt=\"Open In Colab\"/></a>"
      ]
    },
    {
      "cell_type": "code",
      "execution_count": null,
      "metadata": {
        "id": "iHvkJ-yB-W81"
      },
      "outputs": [],
      "source": [
        "import pandas as pd\n",
        "import numpy as np\n",
        "import matplotlib.pyplot as plt"
      ]
    },
    {
      "cell_type": "code",
      "source": [
        "df = pd.read_csv('train_star.csv')\n",
        "df.sample(5)"
      ],
      "metadata": {
        "id": "jEGW-Q5X-uIT"
      },
      "execution_count": null,
      "outputs": []
    },
    {
      "cell_type": "code",
      "source": [
        "df.isna().sum()"
      ],
      "metadata": {
        "id": "w95bnTox_WYB"
      },
      "execution_count": null,
      "outputs": []
    },
    {
      "cell_type": "code",
      "source": [
        "df.describe()"
      ],
      "metadata": {
        "id": "j9aRmeNL_bEG"
      },
      "execution_count": null,
      "outputs": []
    },
    {
      "cell_type": "markdown",
      "source": [
        "Обработка поля e_Plx и Plx\n"
      ],
      "metadata": {
        "id": "WVDKpLZJ_nKZ"
      }
    },
    {
      "cell_type": "code",
      "source": [
        "df['TargetClass'] = df['TargetClass'].apply(lambda x: 1 if x == 'Giant' else 0)"
      ],
      "metadata": {
        "id": "b-cZY8HRCfSt"
      },
      "execution_count": null,
      "outputs": []
    },
    {
      "cell_type": "code",
      "source": [
        "df.describe()"
      ],
      "metadata": {
        "id": "Ec67F5OE14Dk"
      },
      "execution_count": null,
      "outputs": []
    },
    {
      "cell_type": "code",
      "source": [
        "import seaborn as sns\n",
        "\n",
        "sns.heatmap(df.corr(numeric_only=True))"
      ],
      "metadata": {
        "id": "lDukkf1eBnmq"
      },
      "execution_count": null,
      "outputs": []
    },
    {
      "cell_type": "code",
      "source": [
        "data = df['TargetClass'].value_counts()\n",
        "\n",
        "data"
      ],
      "metadata": {
        "id": "Seoo32qHD7jW"
      },
      "execution_count": null,
      "outputs": []
    },
    {
      "cell_type": "code",
      "source": [
        "df_origin = df.copy()"
      ],
      "metadata": {
        "id": "o5jwiD8e2Maj"
      },
      "execution_count": null,
      "outputs": []
    },
    {
      "cell_type": "code",
      "source": [
        "from sklearn.preprocessing import StandardScaler\n",
        "\n",
        "Scaler =  StandardScaler()"
      ],
      "metadata": {
        "id": "G-NDMk8Um0Iv"
      },
      "execution_count": null,
      "outputs": []
    },
    {
      "cell_type": "code",
      "source": [
        "df_scale = df[['Vmag','Plx', 'e_Plx', 'B-V', 'Amag']]"
      ],
      "metadata": {
        "id": "JpJOm1OPokAe"
      },
      "execution_count": null,
      "outputs": []
    },
    {
      "cell_type": "code",
      "source": [
        "df[['Vmag','Plx', 'e_Plx', 'B-V', 'Amag']] = Scaler.fit_transform(df_scale)"
      ],
      "metadata": {
        "id": "kriA23VRoWXc"
      },
      "execution_count": null,
      "outputs": []
    },
    {
      "cell_type": "code",
      "source": [
        "df.head()"
      ],
      "metadata": {
        "id": "rdI60HtAHs1D"
      },
      "execution_count": null,
      "outputs": []
    },
    {
      "cell_type": "code",
      "source": [
        "df.isna().sum()"
      ],
      "metadata": {
        "id": "e9S5CukTKe5f"
      },
      "execution_count": null,
      "outputs": []
    },
    {
      "cell_type": "code",
      "source": [
        "df['SpType'].value_counts()"
      ],
      "metadata": {
        "id": "Wn5cuAIpH0pc"
      },
      "execution_count": null,
      "outputs": []
    },
    {
      "cell_type": "code",
      "source": [
        "df_col = df['SpType'].value_counts()"
      ],
      "metadata": {
        "id": "1WB67OKLzbvG"
      },
      "execution_count": null,
      "outputs": []
    },
    {
      "cell_type": "code",
      "source": [
        "df_col[df_col>10]"
      ],
      "metadata": {
        "id": "y9wx7W90yhCI"
      },
      "execution_count": null,
      "outputs": []
    },
    {
      "cell_type": "code",
      "source": [
        "from sklearn.preprocessing import OneHotEncoder\n",
        "\n",
        "onhot_encoder = OneHotEncoder(handle_unknown='ignore', sparse_output=False)\n",
        "\n",
        "train_encoded = onhot_encoder.fit_transform(df[['SpType']])"
      ],
      "metadata": {
        "id": "8dZNvlB3IQrf"
      },
      "execution_count": null,
      "outputs": []
    },
    {
      "cell_type": "code",
      "source": [
        "train_encoded"
      ],
      "metadata": {
        "id": "ueZz7lDl52UP"
      },
      "execution_count": null,
      "outputs": []
    },
    {
      "cell_type": "code",
      "source": [
        "df['SpType'].nunique()"
      ],
      "metadata": {
        "id": "t1GecYiW4RTW"
      },
      "execution_count": null,
      "outputs": []
    },
    {
      "cell_type": "code",
      "source": [
        "train_encoded_df = pd.DataFrame(train_encoded, columns = onhot_encoder.get_feature_names_out(['SpType']))"
      ],
      "metadata": {
        "id": "7P92PE-QIcL8"
      },
      "execution_count": null,
      "outputs": []
    },
    {
      "cell_type": "code",
      "source": [
        "train_encoded_df"
      ],
      "metadata": {
        "id": "Vsq2ZL2831O7"
      },
      "execution_count": null,
      "outputs": []
    },
    {
      "cell_type": "code",
      "source": [
        "data = pd.concat([df.drop(['SpType'], axis=1), train_encoded_df], axis=1)"
      ],
      "metadata": {
        "id": "K3EwU6r06mPS"
      },
      "execution_count": null,
      "outputs": []
    },
    {
      "cell_type": "code",
      "source": [
        "data"
      ],
      "metadata": {
        "id": "j5wrwaYj7Cxp"
      },
      "execution_count": null,
      "outputs": []
    },
    {
      "cell_type": "code",
      "source": [
        "from sklearn.model_selection import train_test_split\n",
        "X_origin = df_origin.drop(columns=['TargetClass'],axis=1)\n",
        "X = data.drop(columns=['TargetClass'],axis=1)\n",
        "y = data['TargetClass']"
      ],
      "metadata": {
        "id": "AzmtrTYtIlxx"
      },
      "execution_count": null,
      "outputs": []
    },
    {
      "cell_type": "code",
      "source": [
        "X_train, X_test, y_train, y_test = train_test_split(X.values, y.values, test_size=0.3,stratify=y, random_state=42)"
      ],
      "metadata": {
        "id": "JY6RYDNuJEb6"
      },
      "execution_count": null,
      "outputs": []
    },
    {
      "cell_type": "code",
      "source": [
        "print(X_train.shape,X_test.shape)"
      ],
      "metadata": {
        "id": "cxMzFZbqJLer"
      },
      "execution_count": null,
      "outputs": []
    },
    {
      "cell_type": "code",
      "source": [
        "X.isna().sum()"
      ],
      "metadata": {
        "id": "46K8zI3NJ-uW"
      },
      "execution_count": null,
      "outputs": []
    },
    {
      "cell_type": "code",
      "source": [
        "X_origin"
      ],
      "metadata": {
        "id": "whGcCp706q3D"
      },
      "execution_count": null,
      "outputs": []
    },
    {
      "cell_type": "code",
      "source": [
        "from sklearn.neighbors import KNeighborsClassifier"
      ],
      "metadata": {
        "id": "pWwZPo9SJu7O"
      },
      "execution_count": null,
      "outputs": []
    },
    {
      "cell_type": "code",
      "source": [
        "# Шаг 1. создание модели\n",
        "lr = KNeighborsClassifier()\n",
        "\n",
        "# Шаг 2. обучение модели\n",
        "lr.fit(X_train, y_train)\n",
        "\n",
        "# Шаг 3. Предсказание на тестовых данных\n",
        "y_pred = lr.predict(X_test)"
      ],
      "metadata": {
        "id": "xuSWl-TuJdyT"
      },
      "execution_count": null,
      "outputs": []
    },
    {
      "cell_type": "code",
      "source": [
        "from sklearn.metrics import confusion_matrix, accuracy_score, precision_score, recall_score, f1_score"
      ],
      "metadata": {
        "id": "4mf0E4gbMa7g"
      },
      "execution_count": null,
      "outputs": []
    },
    {
      "cell_type": "code",
      "source": [
        "confusion_matrix(y_test, y_pred)"
      ],
      "metadata": {
        "id": "jAuRV4zFMfRC"
      },
      "execution_count": null,
      "outputs": []
    },
    {
      "cell_type": "code",
      "source": [
        "print(accuracy_score(y_test, y_pred))\n",
        "print(precision_score(y_test, y_pred))\n",
        "print(recall_score(y_test, y_pred))\n",
        "print(f1_score(y_test, y_pred))"
      ],
      "metadata": {
        "id": "rrmSOtJeMlWK"
      },
      "execution_count": null,
      "outputs": []
    },
    {
      "cell_type": "code",
      "source": [
        "from sklearn.linear_model import LogisticRegression"
      ],
      "metadata": {
        "id": "GRNc7MvO7PJZ"
      },
      "execution_count": null,
      "outputs": []
    },
    {
      "cell_type": "code",
      "source": [
        "from sklearn.model_selection import GridSearchCV\n",
        "\n",
        "#Задаем возможные параметры логистической регрессии(Только для GridSearchCV)\n",
        "params = {\n",
        "    'C': [100, 10, 1, 0.1],\n",
        "    'penalty': ['l2', 'l1'],\n",
        "    'solver': ['liblinear', 'saga']\n",
        "}\n",
        "#Создаем модель\n",
        "model = LogisticRegression(random_state=42)\n",
        "#Создаем обьект GridSearchCV\n",
        "gs = GridSearchCV(\n",
        "    model,\n",
        "    params,\n",
        "    cv=5,\n",
        "    verbose=10,\n",
        "    scoring='f1',\n",
        "    refit=True\n",
        ")\n",
        "#Обучаем\n",
        "gs.fit(X_train,y_train)\n",
        "\n",
        "best_model = gs.best_estimator_\n",
        "\n",
        "print('Лучшие параметры: ', gs.best_params_)"
      ],
      "metadata": {
        "id": "CPatpcgsRy9e"
      },
      "execution_count": null,
      "outputs": []
    },
    {
      "cell_type": "markdown",
      "source": [
        "Лучшие параметры Logregr:  {'C': 100, 'penalty': 'l2', 'solver': 'liblinear'}"
      ],
      "metadata": {
        "id": "zuQaA7J2FkIo"
      }
    },
    {
      "cell_type": "code",
      "source": [
        "best_score_lr = gs.best_score_\n",
        "best_score_lr"
      ],
      "metadata": {
        "id": "WasckCz_9bUE"
      },
      "execution_count": null,
      "outputs": []
    },
    {
      "cell_type": "code",
      "source": [
        "from sklearn.tree import DecisionTreeClassifier"
      ],
      "metadata": {
        "id": "lUZyFghrGML8"
      },
      "execution_count": null,
      "outputs": []
    },
    {
      "cell_type": "code",
      "source": [
        "params = {\n",
        "    'max_depth': [3, 5, 7, 10, 20],\n",
        "    'min_samples_split': [2, 5, 10],\n",
        "    'min_samples_leaf': [1, 2, 4]\n",
        "}\n",
        "#Создаем модель\n",
        "model_tree = DecisionTreeClassifier(random_state=42)\n",
        "#Создаем обьект GridSearchCV\n",
        "gs_tree = GridSearchCV(\n",
        "    model_tree,\n",
        "    params,\n",
        "    cv=5,\n",
        "    verbose=10,\n",
        "    scoring='f1',\n",
        "    refit=True\n",
        ")\n",
        "#Обучаем\n",
        "gs_tree.fit(X_train,y_train)\n",
        "\n",
        "best_model_tree = gs_tree.best_estimator_\n",
        "best_score_tree = gs_tree.best_score_\n",
        "\n",
        "print('Лучшие параметры: ', gs_tree.best_params_)\n",
        "print('Лучший скор: ', gs_tree.best_score_)"
      ],
      "metadata": {
        "id": "ROo9bUzK9fgB"
      },
      "execution_count": null,
      "outputs": []
    },
    {
      "cell_type": "markdown",
      "source": [
        "Лучшие параметры:  {'max_depth': 20, 'min_samples_leaf': 1, 'min_samples_split': 5}"
      ],
      "metadata": {
        "id": "rJxqRshAG-8q"
      }
    },
    {
      "cell_type": "code",
      "source": [
        "from sklearn.ensemble import RandomForestClassifier"
      ],
      "metadata": {
        "id": "N97QdspNGwts"
      },
      "execution_count": null,
      "outputs": []
    },
    {
      "cell_type": "code",
      "source": [
        "params = {\n",
        "    'n_estimators': [50, 100, 200],\n",
        "    'max_depth': [3, 5, 7, 10, 20],\n",
        "    'min_samples_split': [2, 5, 10],\n",
        "    'min_samples_leaf': [1, 2, 4]\n",
        "}\n",
        "#Создаем модель\n",
        "model_forest = RandomForestClassifier(random_state=42)\n",
        "#Создаем обьект GridSearchCV\n",
        "gs_forest = GridSearchCV(\n",
        "    model_forest,\n",
        "    params,\n",
        "    cv=5,\n",
        "    verbose=10,\n",
        "    scoring='f1',\n",
        "    refit=True\n",
        ")\n",
        "#Обучаем\n",
        "gs_forest.fit(X_train,y_train)\n",
        "\n",
        "best_model_forest = gs_forest.best_estimator_\n",
        "best_score_forest = gs_forest.best_score_\n",
        "\n",
        "print('Лучшие параметры: ', gs_forest.best_params_)\n",
        "print('Лучший скор: ', gs_forest.best_score_)"
      ],
      "metadata": {
        "id": "8mjius-C-mW0"
      },
      "execution_count": null,
      "outputs": []
    },
    {
      "cell_type": "markdown",
      "source": [
        "Лучшие параметры:  {'max_depth': 20, 'min_samples_leaf': 1, 'min_samples_split': 10, 'n_estimators': 200}"
      ],
      "metadata": {
        "id": "U-Eu3AnTMjv-"
      }
    },
    {
      "cell_type": "code",
      "source": [
        "!pip install catboost"
      ],
      "metadata": {
        "id": "hPWQPuLGHwI5"
      },
      "execution_count": null,
      "outputs": []
    },
    {
      "cell_type": "code",
      "source": [
        "import catboost"
      ],
      "metadata": {
        "id": "n8lp0h5jHwtQ"
      },
      "execution_count": null,
      "outputs": []
    },
    {
      "cell_type": "code",
      "source": [
        "from sklearn.metrics import f1_score"
      ],
      "metadata": {
        "id": "ctdBrcq6UTgc"
      },
      "execution_count": null,
      "outputs": []
    },
    {
      "cell_type": "code",
      "source": [
        "X_train_origin, X_test_origin, _, _ = train_test_split(X_origin.values, y.values,\n",
        "                                                       test_size=0.3,\n",
        "                                                       random_state=42)"
      ],
      "metadata": {
        "id": "NenBqpcgH7x5"
      },
      "execution_count": null,
      "outputs": []
    },
    {
      "cell_type": "code",
      "source": [
        "X_origin"
      ],
      "metadata": {
        "id": "qSo8RSY3NNy_"
      },
      "execution_count": null,
      "outputs": []
    },
    {
      "cell_type": "code",
      "source": [
        "#Задаем возможные параметры CatBoost\n",
        "n_estimators = [50, 100, 200, 300]\n",
        "learning_rates = [0.01, 0.05, 0.1, 0.2]\n",
        "\n",
        "best_f1 = 0\n",
        "best_params = {}\n",
        "\n",
        "for n_estimators in n_estimators:\n",
        "  for learning_rate in learning_rates:\n",
        "\n",
        "    model = catboost.CatBoostClassifier(\n",
        "            n_estimators=n_estimators,\n",
        "            learning_rate=learning_rate,\n",
        "            verbose=10,\n",
        "            cat_features = [4]\n",
        "        )\n",
        "\n",
        "    model.fit(X_train_origin, y_train)\n",
        "\n",
        "    y_pred_proba = model.predict(X_test_origin)\n",
        "\n",
        "    f1 = f1_score(y_test, y_pred_proba)\n",
        "\n",
        "    if f1 > best_f1:\n",
        "        best_f1 = f1\n",
        "        best_params = {'n_estimators': n_estimators, 'learning_rate': learning_rate}\n",
        "\n",
        "print(f\"Лучшие параметры: {best_params}\")\n",
        "print(f\"Лучший f1_score: {best_f1:.4f}\")"
      ],
      "metadata": {
        "id": "yAViq4JJH_Hp"
      },
      "execution_count": null,
      "outputs": []
    },
    {
      "cell_type": "markdown",
      "source": [
        "Лучшие параметры: {'n_estimators': 100, 'learning_rate': 0.2}"
      ],
      "metadata": {
        "id": "paqVIyIvWYSv"
      }
    },
    {
      "cell_type": "markdown",
      "source": [
        "Нейросеть"
      ],
      "metadata": {
        "id": "d0IHTmfQY0nT"
      }
    },
    {
      "cell_type": "code",
      "source": [
        "import torch"
      ],
      "metadata": {
        "id": "uEhENlmWar16"
      },
      "execution_count": null,
      "outputs": []
    },
    {
      "cell_type": "code",
      "source": [
        "import torch.nn as nn\n",
        "\n",
        "class Net(nn.Module):\n",
        "    def __init__(self):\n",
        "        super(Net, self).__init__()\n",
        "\n",
        "        self.fc1 = nn.Linear(1686, 128)\n",
        "        self.act1 = nn.Sigmoid()\n",
        "\n",
        "        self.fc2 = nn.Linear(128, 1)\n",
        "        self.act2 = nn.Sigmoid()\n",
        "\n",
        "\n",
        "    def forward(self, x):\n",
        "\n",
        "        x = self.fc1(x)\n",
        "        x = self.act1(x)\n",
        "\n",
        "        x = self.fc2(x)\n",
        "        x = self.act2(x)\n",
        "        return x"
      ],
      "metadata": {
        "id": "tZ6LncJlY0Q6"
      },
      "execution_count": null,
      "outputs": []
    },
    {
      "cell_type": "code",
      "source": [
        "train_loader = torch.utils.data.DataLoader(list(zip(X_train_tensor, y_train_tensor)), batch_size=64, shuffle=True)"
      ],
      "metadata": {
        "id": "OkNCL6BSZg9u"
      },
      "execution_count": null,
      "outputs": []
    },
    {
      "cell_type": "code",
      "source": [
        "import tqdm\n",
        "from tqdm.auto import tqdm\n",
        "\n",
        "def train_stochastic(model, loader, criterion, optimizer, num_epoch):\n",
        "    # цикл по количеству эпох обучения\n",
        "    for t in tqdm(range(num_epoch)):\n",
        "        epoch_loss = []\n",
        "\n",
        "        # цикл по батчам даталоадера\n",
        "        for X_batch, y_batch in loader:\n",
        "            # Вычислим предсказания нашей модели\n",
        "            y_pred = model(X_batch)\n",
        "\n",
        "            # Посчитаем значение функции потерь  на полученном предсказании\n",
        "            loss = criterion(y_pred, y_batch)\n",
        "            epoch_loss.append(loss.item())\n",
        "\n",
        "            # Выполним подсчёт новых градиентов\n",
        "            loss.backward()\n",
        "            # Выполним шаг градиентного спуска\n",
        "            optimizer.step()\n",
        "            # Обнулим сохраненные у оптимизатора значения градиентов\n",
        "            # перед следующим шагом обучения\n",
        "            optimizer.zero_grad()\n",
        "\n",
        "        print(\"curr_loss\", np.mean(epoch_loss))\n",
        "\n",
        "    return model"
      ],
      "metadata": {
        "id": "Y7jmsSdyZhl1"
      },
      "execution_count": null,
      "outputs": []
    },
    {
      "cell_type": "code",
      "source": [
        "model = Net()\n",
        "\n",
        "# лосс-функция — бинарная кросс-энтропия (aka LogLoss)\n",
        "criterion = torch.nn.BCELoss()\n",
        "optimizer = torch.optim.Adam(model.parameters(), lr=1e-4)"
      ],
      "metadata": {
        "id": "TtYQaa5XZ_bH"
      },
      "execution_count": null,
      "outputs": []
    },
    {
      "cell_type": "code",
      "source": [
        "X_train_tensor = torch.from_numpy(X_train).float()\n",
        "y_train_tensor = torch.from_numpy(y_train).float()"
      ],
      "metadata": {
        "id": "1mclBmyabVZn"
      },
      "execution_count": null,
      "outputs": []
    },
    {
      "cell_type": "code",
      "source": [
        "y_train_tensor = y_train_tensor.unsqueeze(1)"
      ],
      "metadata": {
        "id": "t8SZDhRkfPny"
      },
      "execution_count": null,
      "outputs": []
    },
    {
      "cell_type": "code",
      "source": [
        "model = train_stochastic(model, train_loader, criterion, optimizer, 150)"
      ],
      "metadata": {
        "id": "IBN8eL9aaFoB"
      },
      "execution_count": null,
      "outputs": []
    },
    {
      "cell_type": "code",
      "source": [
        "X_test_tensor = torch.from_numpy(X_test).float()\n",
        "y_test_tensor = torch.from_numpy(y_test).float()"
      ],
      "metadata": {
        "id": "tAs_Weo8hmI_"
      },
      "execution_count": null,
      "outputs": []
    },
    {
      "cell_type": "code",
      "source": [
        "with torch.no_grad():\n",
        "    nn_prediction = model(torch.FloatTensor(X_test_tensor))\n",
        "    nn_prediction = nn_prediction.tolist()\n",
        "\n",
        "nn_prediction = np.array([int(x[0] > 0.5) for x in nn_prediction])"
      ],
      "metadata": {
        "id": "yu3h85e2hi81"
      },
      "execution_count": null,
      "outputs": []
    },
    {
      "cell_type": "code",
      "source": [
        "print(f1_score(y_test, nn_prediction))"
      ],
      "metadata": {
        "id": "vpAx5Cf6hvhA"
      },
      "execution_count": null,
      "outputs": []
    },
    {
      "cell_type": "code",
      "source": [
        "test = pd.read_csv('test_star.csv')"
      ],
      "metadata": {
        "id": "17GmjPgCM_ja"
      },
      "execution_count": null,
      "outputs": []
    },
    {
      "cell_type": "code",
      "source": [
        "test_scale = test[['Vmag','Plx', 'e_Plx', 'B-V', 'Amag']]\n",
        "test[['Vmag','Plx', 'e_Plx', 'B-V', 'Amag']] = Scaler.transform(test_scale)"
      ],
      "metadata": {
        "id": "uoZA4Dvmv5LO"
      },
      "execution_count": null,
      "outputs": []
    },
    {
      "cell_type": "code",
      "source": [
        "test.head()"
      ],
      "metadata": {
        "id": "L2D_L1DSQYJA"
      },
      "execution_count": null,
      "outputs": []
    },
    {
      "cell_type": "code",
      "source": [
        "test_encoded = onhot_encoder.transform(test[['SpType']])"
      ],
      "metadata": {
        "id": "n-hbA5uowgn6"
      },
      "execution_count": null,
      "outputs": []
    },
    {
      "cell_type": "code",
      "source": [
        "test_encoded_df = pd.DataFrame(test_encoded, columns = onhot_encoder.get_feature_names_out(['SpType']))"
      ],
      "metadata": {
        "id": "SflJC7Lg7gWR"
      },
      "execution_count": null,
      "outputs": []
    },
    {
      "cell_type": "code",
      "source": [
        "test_data = pd.concat([test.drop(['SpType'], axis=1), test_encoded_df], axis=1)"
      ],
      "metadata": {
        "id": "ej0L0_MN7tSq"
      },
      "execution_count": null,
      "outputs": []
    },
    {
      "cell_type": "code",
      "source": [
        "test_data"
      ],
      "metadata": {
        "id": "1-F13wqnwsQk"
      },
      "execution_count": null,
      "outputs": []
    },
    {
      "cell_type": "code",
      "source": [
        "test_data.columns"
      ],
      "metadata": {
        "id": "6YV1zA4QQZvn"
      },
      "execution_count": null,
      "outputs": []
    },
    {
      "cell_type": "code",
      "source": [
        "X.columns"
      ],
      "metadata": {
        "id": "xmhSSl_bQfeS"
      },
      "execution_count": null,
      "outputs": []
    },
    {
      "cell_type": "code",
      "source": [
        "y_pred_log = best_model.predict(test_data)"
      ],
      "metadata": {
        "id": "2WsnalTYQhDU"
      },
      "execution_count": null,
      "outputs": []
    },
    {
      "cell_type": "code",
      "source": [
        "y_pred_tree = best_model_tree.predict(test_data)"
      ],
      "metadata": {
        "id": "dp6W9AQcHDXI"
      },
      "execution_count": null,
      "outputs": []
    },
    {
      "cell_type": "code",
      "source": [
        "y_pred_forest = best_model_forest.predict(test_data)"
      ],
      "metadata": {
        "id": "KEgj4NCPMrYL"
      },
      "execution_count": null,
      "outputs": []
    },
    {
      "cell_type": "code",
      "source": [
        "y_pred_cat = model.predict_proba(test)"
      ],
      "metadata": {
        "id": "sKtGJsojWk3g"
      },
      "execution_count": null,
      "outputs": []
    },
    {
      "cell_type": "code",
      "source": [
        "test_data = torch.from_numpy(test_data.values).float()"
      ],
      "metadata": {
        "id": "bj1fksRUiNai"
      },
      "execution_count": null,
      "outputs": []
    },
    {
      "cell_type": "code",
      "source": [
        "with torch.no_grad():\n",
        "    y_pred_NN = model(torch.FloatTensor(test_data))\n",
        "    y_pred_NN = y_pred_NN.tolist()\n",
        "\n",
        "y_pred_NN = np.array([int(x[0] > 0.5) for x in y_pred_NN])"
      ],
      "metadata": {
        "id": "TxbgFH_sh_AX"
      },
      "execution_count": null,
      "outputs": []
    },
    {
      "cell_type": "code",
      "source": [
        "submission = pd.read_csv('sample_submition_stars.csv', index_col='index')\n",
        "submission"
      ],
      "metadata": {
        "id": "QQK2iRAvQpig"
      },
      "execution_count": null,
      "outputs": []
    },
    {
      "cell_type": "code",
      "source": [
        "submission['TargetClass'] = y_pred_NN"
      ],
      "metadata": {
        "id": "2RtKKPRbQ9g9"
      },
      "execution_count": null,
      "outputs": []
    },
    {
      "cell_type": "code",
      "source": [
        "submission.to_csv(\"/content/NN_submission.csv\")"
      ],
      "metadata": {
        "id": "2liS304KRCCg"
      },
      "execution_count": null,
      "outputs": []
    },
    {
      "cell_type": "code",
      "source": [
        "submission.value_counts()"
      ],
      "metadata": {
        "id": "YtOBWUSuUjwb"
      },
      "execution_count": null,
      "outputs": []
    },
    {
      "cell_type": "code",
      "source": [
        "submission['TargetClass'] = submission['TargetClass'].apply(lambda x: 1 if x>0.5 else 0)"
      ],
      "metadata": {
        "id": "wgYhs0swYRVt"
      },
      "execution_count": null,
      "outputs": []
    },
    {
      "cell_type": "code",
      "source": [
        "submission"
      ],
      "metadata": {
        "id": "FIfcmB52YdMe"
      },
      "execution_count": null,
      "outputs": []
    },
    {
      "cell_type": "markdown",
      "source": [
        "Улучшение модели"
      ],
      "metadata": {
        "id": "_1DStDvDSTlG"
      }
    }
  ]
}